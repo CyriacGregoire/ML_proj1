{
 "cells": [
  {
   "cell_type": "markdown",
   "id": "03580aa0-e47f-4381-b7f6-bc86cb6b5fa5",
   "metadata": {},
   "source": [
    "# Model OHE1\n",
    "Here we start a series of models based on one-hot-encoding and stratified split of the data. We preprocess and clean the data, and then we do \n",
    "a grid search to tune the hyperparameters. Once found the bests (according to f1 score), we train the final model unifying training and validation set."
   ]
  },
  {
   "cell_type": "code",
   "execution_count": null,
   "id": "6e573548-4263-465b-a59d-889d84e5828b",
   "metadata": {},
   "outputs": [],
   "source": [
    "%load_ext autoreload\n",
    "%autoreload 2\n",
    "import numpy as np\n",
    "import matplotlib.pyplot as plt\n",
    "from implementations import *\n",
    "from Cleaning_functions import *\n",
    "from helpers import *\n",
    "from exploratory_data_analysis import *\n",
    "from preprocessing import *"
   ]
  },
  {
   "cell_type": "code",
   "execution_count": 2,
   "id": "adfcc5cb-2547-473e-9262-593fbee3a4a5",
   "metadata": {},
   "outputs": [],
   "source": [
    "x_train, x_test, y_train, train_ids, test_ids = load_csv_data(\"data\\dataset\\dataset\")"
   ]
  },
  {
   "cell_type": "code",
   "execution_count": 3,
   "id": "9f19f029-3fe3-48df-85db-dc014737c360",
   "metadata": {},
   "outputs": [],
   "source": [
    "Y_tr = (y_train + 1) / 2"
   ]
  },
  {
   "cell_type": "code",
   "execution_count": 4,
   "id": "69d58fdf-796a-41dd-9857-a676370eecc8",
   "metadata": {},
   "outputs": [],
   "source": [
    "X_train, keep_mask = remove_nan_features(x_train, 0.2)\n",
    "X_test = x_test[:, keep_mask]"
   ]
  },
  {
   "cell_type": "code",
   "execution_count": 5,
   "id": "45214764-37e8-4a92-ab22-603a3e797839",
   "metadata": {},
   "outputs": [
    {
     "name": "stdout",
     "output_type": "stream",
     "text": [
      "(328135, 143) (109379, 143)\n"
     ]
    }
   ],
   "source": [
    "print(X_train.shape, X_test.shape)"
   ]
  },
  {
   "cell_type": "code",
   "execution_count": 6,
   "id": "f5d91fe6-36ff-455d-a56d-9128db2f1d38",
   "metadata": {},
   "outputs": [],
   "source": [
    "cat_mask, num_mask = detect_categorical_features(X_train, max_unique=10)"
   ]
  },
  {
   "cell_type": "code",
   "execution_count": 7,
   "id": "6b204aa2-3314-48bb-8bc4-31df9baf60f1",
   "metadata": {},
   "outputs": [
    {
     "name": "stdout",
     "output_type": "stream",
     "text": [
      "99 44\n"
     ]
    }
   ],
   "source": [
    "print(np.sum(cat_mask), np.sum(num_mask))"
   ]
  },
  {
   "cell_type": "code",
   "execution_count": 8,
   "id": "7abeb201-81b0-42c8-be04-d5e838728f9f",
   "metadata": {},
   "outputs": [],
   "source": [
    "x_tr, y_tr, x_va, y_va, x_te, y_te = stratified_three_way_split(X_train, Y_tr)"
   ]
  },
  {
   "cell_type": "code",
   "execution_count": 9,
   "id": "f52657ef-a06b-48b3-9604-553bdf3c2030",
   "metadata": {},
   "outputs": [
    {
     "name": "stdout",
     "output_type": "stream",
     "text": [
      "(328135, 143) (229695, 143) (229695,) (49220, 143) (49220,) (49220, 143) (49220,)\n"
     ]
    }
   ],
   "source": [
    "print(X_train.shape, x_tr.shape, y_tr.shape, x_va.shape, y_va.shape, x_te.shape, y_te.shape)"
   ]
  },
  {
   "cell_type": "code",
   "execution_count": 10,
   "id": "029090c6-776a-4d19-ba96-6706ce90ae9e",
   "metadata": {},
   "outputs": [],
   "source": [
    "# Numerical imputation (compute medians from training)\n",
    "x_tr_imp, medians = impute_numerical(x_tr, num_mask)\n",
    "# Apply same medians to val/test\n",
    "x_va_imp, _ = impute_numerical(x_va, num_mask, medians)\n",
    "x_te_imp, _ = impute_numerical(x_te, num_mask, medians)\n",
    "x_test_imp, _ = impute_numerical(X_test, num_mask, medians)\n",
    "# Categorical imputation (compute modes from training)\n",
    "x_tr_imp, modes = impute_categorical(x_tr_imp, cat_mask)\n",
    "# Apply same modes to val/test\n",
    "x_va_imp, _ = impute_categorical(x_va_imp, cat_mask, modes)\n",
    "x_te_imp, _ = impute_categorical(x_te_imp, cat_mask, modes)\n",
    "x_test_imp, _ = impute_categorical(x_test_imp, cat_mask, modes)"
   ]
  },
  {
   "cell_type": "code",
   "execution_count": 11,
   "id": "42074bd4-7a55-4e44-a3fd-1f2fd4185230",
   "metadata": {},
   "outputs": [
    {
     "name": "stdout",
     "output_type": "stream",
     "text": [
      "0 0 0 0\n"
     ]
    }
   ],
   "source": [
    "# Check for any remaining NaN values\n",
    "print(np.isnan(x_tr_imp).sum(),\n",
    "      np.isnan(x_va_imp).sum(),\n",
    "      np.isnan(x_te_imp).sum(), np.isnan(x_test_imp).sum())"
   ]
  },
  {
   "cell_type": "code",
   "execution_count": 12,
   "id": "133cdd61-778b-46cc-b931-d1b3939f9eb8",
   "metadata": {},
   "outputs": [
    {
     "data": {
      "image/png": "[encoded data removed]",
      "text/plain": [
       "<Figure size 600x400 with 1 Axes>"
      ]
     },
     "metadata": {},
     "output_type": "display_data"
    }
   ],
   "source": [
    "outlier_mask, outlier_counts = detect_outliers(x_tr_imp, num_mask, threshold=1.5, plot=True)"
   ]
  },
  {
   "cell_type": "code",
   "execution_count": 13,
   "id": "54fd788b-493b-4265-b49c-0d8048ff8cd3",
   "metadata": {},
   "outputs": [
    {
     "name": "stdout",
     "output_type": "stream",
     "text": [
      "[    0     0     0     0     0  7523  7523     0     0     0 16765 42722\n",
      "     0     0  3745 40468 19668 34545  4275     0     0 35062  4608 25522\n",
      " 23171     0     0   441   754  7544  9823 29058 31441  7525 43748 15806\n",
      " 12023 18456 21474  4498 12403  2772  2772 16957]\n"
     ]
    }
   ],
   "source": [
    "print(outlier_counts)"
   ]
  },
  {
   "cell_type": "code",
   "execution_count": 14,
   "id": "7eb6b92f-7d50-4ebf-bc42-2793eb059291",
   "metadata": {},
   "outputs": [
    {
     "name": "stdout",
     "output_type": "stream",
     "text": [
      "[0.         0.         0.         0.         0.         0.03275213\n",
      " 0.03275213 0.         0.         0.         0.07298809 0.18599447\n",
      " 0.         0.         0.01630423 0.17618146 0.08562659 0.15039509\n",
      " 0.01861164 0.         0.         0.1526459  0.02006139 0.11111256\n",
      " 0.10087725 0.         0.         0.00191994 0.00328261 0.03284355\n",
      " 0.04276541 0.12650689 0.13688152 0.03276084 0.19046126 0.06881299\n",
      " 0.05234332 0.08035003 0.09348919 0.01958249 0.05399769 0.01206818\n",
      " 0.01206818 0.07382398]\n"
     ]
    }
   ],
   "source": [
    "outlier_pctg = outlier_counts / x_tr_imp.shape[0]\n",
    "print(outlier_pctg)"
   ]
  },
  {
   "cell_type": "code",
   "execution_count": 15,
   "id": "dc8e32f6-7bc3-447d-91d5-05b49c3ce996",
   "metadata": {},
   "outputs": [],
   "source": [
    "drop_threshold = 0.1\n",
    "new_num_mask = outlier_pctg < drop_threshold\n"
   ]
  },
  {
   "cell_type": "code",
   "execution_count": 16,
   "id": "cc608c57-c975-4d73-a0e4-a4b6aa3b494b",
   "metadata": {},
   "outputs": [],
   "source": [
    "#Change the mask again\n",
    "keep_mask = np.ones(x_tr_imp.shape[1], dtype=bool)\n",
    "num_indices = np.where(num_mask)[0]\n",
    "keep_mask[num_indices] = new_num_mask"
   ]
  },
  {
   "cell_type": "code",
   "execution_count": 17,
   "id": "f9c3910a-3047-4db3-91e7-dbea6d0f92a7",
   "metadata": {},
   "outputs": [],
   "source": [
    "x_tr_filt = x_tr_imp[:, keep_mask]\n",
    "x_va_filt = x_va_imp[:, keep_mask]\n",
    "x_te_filt = x_te_imp[:, keep_mask]\n",
    "x_test_filt = x_test_imp[:, keep_mask]\n",
    "num_mask = num_mask[keep_mask]\n",
    "cat_mask = cat_mask[keep_mask]"
   ]
  },
  {
   "cell_type": "code",
   "execution_count": 18,
   "id": "040c2026-86ba-41a2-84aa-f695548a103d",
   "metadata": {},
   "outputs": [
    {
     "name": "stdout",
     "output_type": "stream",
     "text": [
      "35 99\n"
     ]
    }
   ],
   "source": [
    "print(np.sum(num_mask), np.sum(cat_mask))"
   ]
  },
  {
   "cell_type": "code",
   "execution_count": 19,
   "id": "23c0c8cb-0db2-4b3f-b4b4-8fd42f9294c6",
   "metadata": {},
   "outputs": [],
   "source": [
    "# Fit one-hot encoder on training data\n",
    "x_tr_enc, categories = one_hot_encode(x_tr_filt, cat_mask, drop_first=True)\n",
    "\n",
    "# Apply the same categories to validation and test data\n",
    "x_va_enc, _ = one_hot_encode(x_va_filt, cat_mask, categories, drop_first=True)\n",
    "x_te_enc, _ = one_hot_encode(x_te_filt, cat_mask, categories, drop_first=True)\n",
    "x_test_enc, _ = one_hot_encode(x_test_filt, cat_mask, categories, drop_first=True)"
   ]
  },
  {
   "cell_type": "code",
   "execution_count": 20,
   "id": "a3852be6-87f7-4b43-a1cf-ff30b1fdbedc",
   "metadata": {},
   "outputs": [
    {
     "name": "stdout",
     "output_type": "stream",
     "text": [
      "(229695, 359) (49220, 359) (49220, 359) (109379, 359)\n"
     ]
    }
   ],
   "source": [
    "print(x_tr_enc.shape, x_va_enc.shape, x_te_enc.shape, x_test_enc.shape) "
   ]
  },
  {
   "cell_type": "code",
   "execution_count": 21,
   "id": "54615648-38c5-4a51-b314-d83975edd699",
   "metadata": {},
   "outputs": [],
   "source": [
    "cat_mask_enc, num_mask_enc = detect_categorical_features(x_tr_enc, max_unique=10)"
   ]
  },
  {
   "cell_type": "code",
   "execution_count": 22,
   "id": "1ffed2d1-398e-4025-b900-50386c6fef1b",
   "metadata": {},
   "outputs": [
    {
     "name": "stdout",
     "output_type": "stream",
     "text": [
      "324 35\n"
     ]
    }
   ],
   "source": [
    "print(np.sum(cat_mask_enc), np.sum(num_mask_enc))"
   ]
  },
  {
   "cell_type": "code",
   "execution_count": 23,
   "id": "b38adefb-9f50-4ad6-9668-8dfddc0c77d8",
   "metadata": {},
   "outputs": [
    {
     "name": "stdout",
     "output_type": "stream",
     "text": [
      "1.0\n"
     ]
    }
   ],
   "source": [
    "print(np.max(x_tr_enc[:,cat_mask_enc]))"
   ]
  },
  {
   "cell_type": "code",
   "execution_count": 24,
   "id": "b701e560-cdf7-4900-aae7-793bab8dce45",
   "metadata": {},
   "outputs": [],
   "source": [
    "x_tr_std, means, stds = standardize_features(x_tr_enc, num_mask_enc)\n",
    "x_va_std, _, _ = standardize_features(x_va_enc, num_mask_enc, means, stds)\n",
    "x_te_std, _, _ = standardize_features(x_te_enc, num_mask_enc, means, stds)\n",
    "x_test_std, _, _ = standardize_features(x_test_enc, num_mask_enc, means, stds)"
   ]
  },
  {
   "cell_type": "code",
   "execution_count": 25,
   "id": "695d5275-7568-42b4-87fd-bd6f0ee40f29",
   "metadata": {},
   "outputs": [],
   "source": [
    "corr_y = feature_target_correlation_2(x_tr_std, y_tr)\n"
   ]
  },
  {
   "cell_type": "code",
   "execution_count": 26,
   "id": "30732613-97b9-4a24-8360-d7523d6cd3e3",
   "metadata": {},
   "outputs": [],
   "source": [
    "min_corr = 0.02\n",
    "keep_mask_corr = np.abs(corr_y) > min_corr\n"
   ]
  },
  {
   "cell_type": "code",
   "execution_count": 27,
   "id": "1d9e2887-d6db-4cdf-93e1-1f421a36468c",
   "metadata": {},
   "outputs": [],
   "source": [
    "x_tr_sel = x_tr_std[:, keep_mask_corr]\n",
    "x_va_sel = x_va_std[:, keep_mask_corr]\n",
    "x_te_sel = x_te_std[:, keep_mask_corr]\n",
    "x_test_sel = x_test_std[:, keep_mask_corr]"
   ]
  },
  {
   "cell_type": "code",
   "execution_count": 28,
   "id": "2e492e59-895f-4b82-bc3d-221e167ea661",
   "metadata": {},
   "outputs": [
    {
     "name": "stdout",
     "output_type": "stream",
     "text": [
      "(229695, 159) (49220, 159) (49220, 159) (109379, 159)\n"
     ]
    }
   ],
   "source": [
    "print(x_tr_sel.shape, x_va_sel.shape, x_te_sel.shape, x_test_sel.shape)"
   ]
  },
  {
   "cell_type": "code",
   "execution_count": 29,
   "id": "55440ddf-f081-47ec-a076-cac92bb73af8",
   "metadata": {},
   "outputs": [],
   "source": [
    "cat_mask_sel, num_mask_sel = detect_categorical_features(x_tr_sel, max_unique=10)"
   ]
  },
  {
   "cell_type": "code",
   "execution_count": 30,
   "id": "da8d70da-f68d-4c6f-89bb-4fd9bb531edc",
   "metadata": {},
   "outputs": [
    {
     "name": "stdout",
     "output_type": "stream",
     "text": [
      "141\n"
     ]
    }
   ],
   "source": [
    "print(np.sum(cat_mask_sel))"
   ]
  },
  {
   "cell_type": "code",
   "execution_count": 31,
   "id": "34acff10-3ec9-4b8d-a4d4-4b8105539ee0",
   "metadata": {},
   "outputs": [],
   "source": [
    "corr_mat = correlation_matrix(x_tr_sel)\n"
   ]
  },
  {
   "cell_type": "code",
   "execution_count": 32,
   "id": "690baf99-7e59-4378-941e-3f79bbe4ff62",
   "metadata": {},
   "outputs": [],
   "source": [
    "threshold = 0.85\n",
    "to_drop = set()\n",
    "for i in range(corr_mat.shape[0]):\n",
    "    for j in range(i + 1, corr_mat.shape[1]):\n",
    "        if abs(corr_mat[i, j]) > threshold:\n",
    "            to_drop.add(j)\n",
    "keep_mask_inter = np.ones(x_tr_sel.shape[1], dtype=bool)\n",
    "keep_mask_inter[list(to_drop)] = False\n"
   ]
  },
  {
   "cell_type": "code",
   "execution_count": 33,
   "id": "dec9d748-5a6a-4a63-8ca1-7d65a0cb78d5",
   "metadata": {},
   "outputs": [],
   "source": [
    "x_tr_final = x_tr_sel[:, keep_mask_inter]\n",
    "x_va_final = x_va_sel[:, keep_mask_inter]\n",
    "x_te_final = x_te_sel[:, keep_mask_inter]\n",
    "x_test_final = x_test_sel[:, keep_mask_inter]"
   ]
  },
  {
   "cell_type": "code",
   "execution_count": 34,
   "id": "cdffe2a2-1e76-44e6-9966-1ad7f0d00a74",
   "metadata": {},
   "outputs": [
    {
     "name": "stdout",
     "output_type": "stream",
     "text": [
      "Dropped (low corr): 200\n",
      "Dropped (high inter): 34\n",
      "Remaining features: 125\n"
     ]
    }
   ],
   "source": [
    "print(\"Dropped (low corr):\", np.sum(~keep_mask_corr))\n",
    "print(\"Dropped (high inter):\", np.sum(~keep_mask_inter))\n",
    "print(\"Remaining features:\", x_tr_final.shape[1])\n"
   ]
  },
  {
   "cell_type": "code",
   "execution_count": 124,
   "id": "b7b366ee-628d-48ab-a899-49743e3d1b5c",
   "metadata": {},
   "outputs": [
    {
     "name": "stdout",
     "output_type": "stream",
     "text": [
      "\n",
      "=== Run 1/15 (pos_weight=7, lambda_=1e-08) ===\n",
      "New best F1 = 0.4138\n",
      "New best F1 = 0.4167\n",
      "New best F1 = 0.4175\n",
      "New best F1 = 0.4181\n",
      "New best F1 = 0.4183\n",
      "\n",
      "=== Run 2/15 (pos_weight=7, lambda_=1e-06) ===\n",
      "\n",
      "=== Run 3/15 (pos_weight=7, lambda_=0.0001) ===\n",
      "\n",
      "=== Run 4/15 (pos_weight=8, lambda_=1e-08) ===\n",
      "\n",
      "=== Run 5/15 (pos_weight=8, lambda_=1e-06) ===\n",
      "\n",
      "=== Run 6/15 (pos_weight=8, lambda_=0.0001) ===\n",
      "\n",
      "=== Run 7/15 (pos_weight=9, lambda_=1e-08) ===\n",
      "\n",
      "=== Run 8/15 (pos_weight=9, lambda_=1e-06) ===\n",
      "\n",
      "=== Run 9/15 (pos_weight=9, lambda_=0.0001) ===\n",
      "\n",
      "=== Run 10/15 (pos_weight=10, lambda_=1e-08) ===\n",
      "New best F1 = 0.4185\n",
      "\n",
      "=== Run 11/15 (pos_weight=10, lambda_=1e-06) ===\n",
      "\n",
      "=== Run 12/15 (pos_weight=10, lambda_=0.0001) ===\n",
      "\n",
      "=== Run 13/15 (pos_weight=11, lambda_=1e-08) ===\n",
      "\n",
      "=== Run 14/15 (pos_weight=11, lambda_=1e-06) ===\n",
      "\n",
      "=== Run 15/15 (pos_weight=11, lambda_=0.0001) ===\n",
      "\n",
      "=== Grid Search Complete ===\n",
      "Best F1 = 0.4185 at pos_weight=10, λ=1e-08, threshold=0.731578947368421\n"
     ]
    }
   ],
   "source": [
    "best_params, best_f1, results = grid_search(\n",
    "    y_tr, x_tr_final,\n",
    "    y_va, x_va_final,\n",
    "    pos_weights=[7, 8, 9, 10, 11],\n",
    "    lambdas=[1e-8, 1e-6, 1e-4],\n",
    "    thresholds=np.linspace(0.6, 0.85, 20),\n",
    "    max_iter=10000,\n",
    "    gamma=0.5\n",
    ")\n"
   ]
  },
  {
   "cell_type": "code",
   "execution_count": 35,
   "id": "708f058b-afb4-4686-9795-eba2efd85d04",
   "metadata": {},
   "outputs": [],
   "source": [
    "X_final = np.vstack([x_tr_final, x_va_final])\n",
    "y_final = np.concatenate([y_tr, y_va])\n"
   ]
  },
  {
   "cell_type": "code",
   "execution_count": 36,
   "id": "0adc122e-7a93-430f-9231-2fbd06f0e175",
   "metadata": {},
   "outputs": [
    {
     "name": "stdout",
     "output_type": "stream",
     "text": [
      "Iter     0 | Loss = 0.693147 | GradNorm = 0.4257\n",
      "Iter   100 | Loss = 0.478828 | GradNorm = 0.0122\n",
      "Iter   200 | Loss = 0.474760 | GradNorm = 0.0068\n",
      "Iter   300 | Loss = 0.473107 | GradNorm = 0.0049\n",
      "Iter   400 | Loss = 0.472143 | GradNorm = 0.0039\n",
      "Iter   500 | Loss = 0.471478 | GradNorm = 0.0034\n",
      "Iter   600 | Loss = 0.470975 | GradNorm = 0.0030\n",
      "Iter   700 | Loss = 0.470573 | GradNorm = 0.0027\n",
      "Iter   800 | Loss = 0.470241 | GradNorm = 0.0025\n",
      "Iter   900 | Loss = 0.469961 | GradNorm = 0.0023\n",
      "Iter  1000 | Loss = 0.469720 | GradNorm = 0.0021\n",
      "Iter  1100 | Loss = 0.469512 | GradNorm = 0.0020\n",
      "Iter  1200 | Loss = 0.469329 | GradNorm = 0.0018\n",
      "Iter  1300 | Loss = 0.469169 | GradNorm = 0.0017\n",
      "Iter  1400 | Loss = 0.469026 | GradNorm = 0.0016\n",
      "Iter  1500 | Loss = 0.468900 | GradNorm = 0.0015\n",
      "Iter  1600 | Loss = 0.468786 | GradNorm = 0.0015\n",
      "Iter  1700 | Loss = 0.468685 | GradNorm = 0.0014\n",
      "Iter  1800 | Loss = 0.468593 | GradNorm = 0.0013\n",
      "Iter  1900 | Loss = 0.468510 | GradNorm = 0.0013\n",
      "Iter  2000 | Loss = 0.468435 | GradNorm = 0.0012\n",
      "Iter  2100 | Loss = 0.468367 | GradNorm = 0.0011\n",
      "Iter  2200 | Loss = 0.468305 | GradNorm = 0.0011\n",
      "Iter  2300 | Loss = 0.468248 | GradNorm = 0.0010\n",
      "Iter  2400 | Loss = 0.468196 | GradNorm = 0.0010\n",
      "Iter  2500 | Loss = 0.468148 | GradNorm = 0.0010\n",
      "Iter  2600 | Loss = 0.468104 | GradNorm = 0.0009\n",
      "Iter  2700 | Loss = 0.468063 | GradNorm = 0.0009\n",
      "Iter  2800 | Loss = 0.468026 | GradNorm = 0.0009\n",
      "Iter  2900 | Loss = 0.467991 | GradNorm = 0.0008\n",
      "Iter  3000 | Loss = 0.467958 | GradNorm = 0.0008\n",
      "Iter  3100 | Loss = 0.467928 | GradNorm = 0.0008\n",
      "Iter  3200 | Loss = 0.467900 | GradNorm = 0.0007\n",
      "Iter  3300 | Loss = 0.467874 | GradNorm = 0.0007\n",
      "Iter  3400 | Loss = 0.467849 | GradNorm = 0.0007\n",
      "Iter  3500 | Loss = 0.467826 | GradNorm = 0.0007\n",
      "Iter  3600 | Loss = 0.467805 | GradNorm = 0.0006\n",
      "Iter  3700 | Loss = 0.467785 | GradNorm = 0.0006\n",
      "Iter  3800 | Loss = 0.467765 | GradNorm = 0.0006\n",
      "Iter  3900 | Loss = 0.467747 | GradNorm = 0.0006\n",
      "Iter  4000 | Loss = 0.467731 | GradNorm = 0.0006\n",
      "Iter  4100 | Loss = 0.467715 | GradNorm = 0.0006\n",
      "Iter  4200 | Loss = 0.467699 | GradNorm = 0.0005\n",
      "Iter  4300 | Loss = 0.467685 | GradNorm = 0.0005\n",
      "Iter  4400 | Loss = 0.467671 | GradNorm = 0.0005\n",
      "Iter  4500 | Loss = 0.467659 | GradNorm = 0.0005\n",
      "Iter  4600 | Loss = 0.467646 | GradNorm = 0.0005\n",
      "Iter  4700 | Loss = 0.467635 | GradNorm = 0.0005\n",
      "Iter  4800 | Loss = 0.467624 | GradNorm = 0.0005\n",
      "Iter  4900 | Loss = 0.467613 | GradNorm = 0.0005\n",
      "Iter  5000 | Loss = 0.467603 | GradNorm = 0.0004\n",
      "Iter  5100 | Loss = 0.467594 | GradNorm = 0.0004\n",
      "Iter  5200 | Loss = 0.467585 | GradNorm = 0.0004\n",
      "Iter  5300 | Loss = 0.467576 | GradNorm = 0.0004\n",
      "Iter  5400 | Loss = 0.467568 | GradNorm = 0.0004\n",
      "Iter  5500 | Loss = 0.467560 | GradNorm = 0.0004\n",
      "Iter  5600 | Loss = 0.467553 | GradNorm = 0.0004\n",
      "Iter  5700 | Loss = 0.467545 | GradNorm = 0.0004\n",
      "Iter  5800 | Loss = 0.467539 | GradNorm = 0.0004\n",
      "Iter  5900 | Loss = 0.467532 | GradNorm = 0.0004\n",
      "Iter  6000 | Loss = 0.467526 | GradNorm = 0.0003\n",
      "Iter  6100 | Loss = 0.467520 | GradNorm = 0.0003\n",
      "Iter  6200 | Loss = 0.467514 | GradNorm = 0.0003\n",
      "Iter  6300 | Loss = 0.467509 | GradNorm = 0.0003\n",
      "Iter  6400 | Loss = 0.467503 | GradNorm = 0.0003\n",
      "Iter  6500 | Loss = 0.467498 | GradNorm = 0.0003\n",
      "Iter  6600 | Loss = 0.467493 | GradNorm = 0.0003\n",
      "Iter  6700 | Loss = 0.467489 | GradNorm = 0.0003\n",
      "Iter  6800 | Loss = 0.467484 | GradNorm = 0.0003\n",
      "Iter  6900 | Loss = 0.467480 | GradNorm = 0.0003\n",
      "Iter  7000 | Loss = 0.467476 | GradNorm = 0.0003\n",
      "Iter  7100 | Loss = 0.467472 | GradNorm = 0.0003\n",
      "Iter  7200 | Loss = 0.467468 | GradNorm = 0.0003\n",
      "Iter  7300 | Loss = 0.467465 | GradNorm = 0.0003\n",
      "Iter  7400 | Loss = 0.467461 | GradNorm = 0.0003\n",
      "Iter  7500 | Loss = 0.467458 | GradNorm = 0.0003\n",
      "Iter  7600 | Loss = 0.467455 | GradNorm = 0.0002\n",
      "Iter  7700 | Loss = 0.467452 | GradNorm = 0.0002\n",
      "Iter  7800 | Loss = 0.467449 | GradNorm = 0.0002\n",
      "Iter  7900 | Loss = 0.467446 | GradNorm = 0.0002\n",
      "Iter  8000 | Loss = 0.467444 | GradNorm = 0.0002\n",
      "Iter  8100 | Loss = 0.467441 | GradNorm = 0.0002\n",
      "Iter  8200 | Loss = 0.467438 | GradNorm = 0.0002\n",
      "Iter  8300 | Loss = 0.467436 | GradNorm = 0.0002\n",
      "Iter  8400 | Loss = 0.467434 | GradNorm = 0.0002\n",
      "Iter  8500 | Loss = 0.467432 | GradNorm = 0.0002\n",
      "Iter  8600 | Loss = 0.467430 | GradNorm = 0.0002\n",
      "Iter  8700 | Loss = 0.467427 | GradNorm = 0.0002\n",
      "Iter  8800 | Loss = 0.467426 | GradNorm = 0.0002\n",
      "Iter  8900 | Loss = 0.467424 | GradNorm = 0.0002\n",
      "Iter  9000 | Loss = 0.467422 | GradNorm = 0.0002\n",
      "Iter  9100 | Loss = 0.467420 | GradNorm = 0.0002\n",
      "Iter  9200 | Loss = 0.467418 | GradNorm = 0.0002\n",
      "Iter  9300 | Loss = 0.467417 | GradNorm = 0.0002\n",
      "Iter  9400 | Loss = 0.467415 | GradNorm = 0.0002\n",
      "Iter  9500 | Loss = 0.467414 | GradNorm = 0.0002\n",
      "Iter  9600 | Loss = 0.467412 | GradNorm = 0.0002\n",
      "Iter  9700 | Loss = 0.467411 | GradNorm = 0.0002\n",
      "Iter  9800 | Loss = 0.467410 | GradNorm = 0.0002\n",
      "Iter  9900 | Loss = 0.467408 | GradNorm = 0.0002\n",
      "Final training loss: 0.4674072519221472\n"
     ]
    }
   ],
   "source": [
    "best_lambda = 1e-8\n",
    "best_pos_weight = 10.0\n",
    "best_neg_weight = 1.0\n",
    "best_threshold = 0.731578947368421\n",
    "\n",
    "final_loss, w_final = logistic_regression_weighted_gd(\n",
    "    y_final, X_final,\n",
    "    lambda_=best_lambda,\n",
    "    gamma=0.5,\n",
    "    pos_weight=best_pos_weight,\n",
    "    neg_weight=best_neg_weight,\n",
    "    max_iter=10000,\n",
    "    verbose=True\n",
    ")\n",
    "\n",
    "print(\"Final training loss:\", final_loss)\n"
   ]
  },
  {
   "cell_type": "code",
   "execution_count": 37,
   "id": "165a7480-3c88-4677-b9d9-16b6ad97f362",
   "metadata": {},
   "outputs": [
    {
     "name": "stdout",
     "output_type": "stream",
     "text": [
      "19.725196493479928\n"
     ]
    }
   ],
   "source": [
    "print(w_final @ w_final)"
   ]
  },
  {
   "cell_type": "code",
   "execution_count": 38,
   "id": "8f3d675b-4919-4047-8171-11cc226e3ea2",
   "metadata": {},
   "outputs": [
    {
     "name": "stdout",
     "output_type": "stream",
     "text": [
      " Accuracy: 87.54%\n",
      " F1 Score: 0.4238\n"
     ]
    }
   ],
   "source": [
    "acc, f1 = evaluate_model(y_te, x_te_final, w_final, best_threshold)"
   ]
  },
  {
   "cell_type": "code",
   "execution_count": 48,
   "id": "e1c0b086-adb4-4729-8ceb-e1292cb08410",
   "metadata": {},
   "outputs": [],
   "source": [
    "y_pred_final, _ = predict_with_threshold(x_test_final, w_final, best_threshold)\n",
    "y_pred_final = 2 * y_pred_final - 1   # converts 0→-1, 1→1\n",
    "\n",
    "create_csv_submission(test_ids, y_pred_final, \"ModelOHE_preds.csv\")"
   ]
  },
  {
   "cell_type": "code",
   "execution_count": 39,
   "id": "cde1cf04-83a0-4c12-8005-dd9773fbb080",
   "metadata": {},
   "outputs": [
    {
     "name": "stdout",
     "output_type": "stream",
     "text": [
      "Confusion Matrix:\n",
      "[[40833  4041]\n",
      " [ 2091  2255]]\n",
      "TN=40833, FP=4041, FN=2091, TP=2255\n"
     ]
    },
    {
     "data": {
      "image/png": "[encoded data removed]",
      "text/plain": [
       "<Figure size 400x300 with 1 Axes>"
      ]
     },
     "metadata": {},
     "output_type": "display_data"
    }
   ],
   "source": [
    "preds, _ = predict_with_threshold(x_te_final, w_final, threshold=best_threshold)\n",
    "cm = confusion_matrix_numpy(y_te, preds)\n"
   ]
  },
  {
   "cell_type": "code",
   "execution_count": 43,
   "id": "70974d76-51e7-46c4-aaf6-1ebe6f4dd47b",
   "metadata": {},
   "outputs": [
    {
     "name": "stdout",
     "output_type": "stream",
     "text": [
      "Iter     0 | Loss = 0.693147 | GradNorm = 0.4257\n",
      "Iter   100 | Loss = 0.478828 | GradNorm = 0.0122\n",
      "Iter   200 | Loss = 0.474760 | GradNorm = 0.0068\n",
      "Iter   300 | Loss = 0.473107 | GradNorm = 0.0049\n",
      "Iter   400 | Loss = 0.472143 | GradNorm = 0.0039\n",
      "Iter   500 | Loss = 0.471478 | GradNorm = 0.0034\n",
      "Iter   600 | Loss = 0.470975 | GradNorm = 0.0030\n",
      "Iter   700 | Loss = 0.470573 | GradNorm = 0.0027\n",
      "Iter   800 | Loss = 0.470241 | GradNorm = 0.0025\n"
     ]
    },
    {
     "ename": "KeyboardInterrupt",
     "evalue": "",
     "output_type": "error",
     "traceback": [
      "\u001b[1;31m---------------------------------------------------------------------------\u001b[0m",
      "\u001b[1;31mKeyboardInterrupt\u001b[0m                         Traceback (most recent call last)",
      "Cell \u001b[1;32mIn[43], line 5\u001b[0m\n\u001b[0;32m      2\u001b[0m best_pos_weight \u001b[38;5;241m=\u001b[39m \u001b[38;5;241m10.0\u001b[39m\n\u001b[0;32m      3\u001b[0m best_neg_weight \u001b[38;5;241m=\u001b[39m \u001b[38;5;241m1.0\u001b[39m\n\u001b[1;32m----> 5\u001b[0m final_loss, w_final \u001b[38;5;241m=\u001b[39m logistic_regression_weighted_gd(\n\u001b[0;32m      6\u001b[0m     y_final, X_final,\n\u001b[0;32m      7\u001b[0m     lambda_\u001b[38;5;241m=\u001b[39mbest_lambda,\n\u001b[0;32m      8\u001b[0m     gamma\u001b[38;5;241m=\u001b[39m\u001b[38;5;241m0.5\u001b[39m,\n\u001b[0;32m      9\u001b[0m     pos_weight\u001b[38;5;241m=\u001b[39mbest_pos_weight,\n\u001b[0;32m     10\u001b[0m     neg_weight\u001b[38;5;241m=\u001b[39mbest_neg_weight,\n\u001b[0;32m     11\u001b[0m     max_iter\u001b[38;5;241m=\u001b[39m\u001b[38;5;241m10000\u001b[39m,\n\u001b[0;32m     12\u001b[0m     verbose\u001b[38;5;241m=\u001b[39m\u001b[38;5;28;01mTrue\u001b[39;00m\n\u001b[0;32m     13\u001b[0m )\n\u001b[0;32m     15\u001b[0m \u001b[38;5;28mprint\u001b[39m(\u001b[38;5;124m\"\u001b[39m\u001b[38;5;124mFinal training loss:\u001b[39m\u001b[38;5;124m\"\u001b[39m, final_loss)\n",
      "File \u001b[1;32m~\\Documents\\GitHub\\ML_proj1\\project1\\preprocessing.py:310\u001b[0m, in \u001b[0;36mlogistic_regression_weighted_gd\u001b[1;34m(y, x, lambda_, gamma, pos_weight, neg_weight, max_iter, tol, clip_grad, verbose)\u001b[0m\n\u001b[0;32m    307\u001b[0m losses \u001b[38;5;241m=\u001b[39m []\n\u001b[0;32m    309\u001b[0m \u001b[38;5;28;01mfor\u001b[39;00m it \u001b[38;5;129;01min\u001b[39;00m \u001b[38;5;28mrange\u001b[39m(max_iter):\n\u001b[1;32m--> 310\u001b[0m     grad \u001b[38;5;241m=\u001b[39m weighted_gradient_logistic(y, tx, w, lambda_, pos_weight, neg_weight)\n\u001b[0;32m    311\u001b[0m     grad_norm \u001b[38;5;241m=\u001b[39m np\u001b[38;5;241m.\u001b[39mlinalg\u001b[38;5;241m.\u001b[39mnorm(grad)\n\u001b[0;32m    312\u001b[0m     \u001b[38;5;28;01mif\u001b[39;00m grad_norm \u001b[38;5;241m>\u001b[39m clip_grad:\n",
      "File \u001b[1;32m~\\Documents\\GitHub\\ML_proj1\\project1\\preprocessing.py:290\u001b[0m, in \u001b[0;36mweighted_gradient_logistic\u001b[1;34m(y, tx, w, lambda_, pos_weight, neg_weight)\u001b[0m\n\u001b[0;32m    286\u001b[0m \u001b[38;5;28;01mdef\u001b[39;00m\u001b[38;5;250m \u001b[39m\u001b[38;5;21mweighted_gradient_logistic\u001b[39m(y, tx, w, lambda_\u001b[38;5;241m=\u001b[39m\u001b[38;5;241m0.0\u001b[39m, pos_weight\u001b[38;5;241m=\u001b[39m\u001b[38;5;241m1.0\u001b[39m, neg_weight\u001b[38;5;241m=\u001b[39m\u001b[38;5;241m1.0\u001b[39m):\n\u001b[0;32m    287\u001b[0m \u001b[38;5;250m    \u001b[39m\u001b[38;5;124;03m\"\"\"\u001b[39;00m\n\u001b[0;32m    288\u001b[0m \u001b[38;5;124;03m    Gradient of the weighted logistic loss with L2 penalty.\u001b[39;00m\n\u001b[0;32m    289\u001b[0m \u001b[38;5;124;03m    \"\"\"\u001b[39;00m\n\u001b[1;32m--> 290\u001b[0m     p \u001b[38;5;241m=\u001b[39m sigmoid(tx \u001b[38;5;241m@\u001b[39m w)\n\u001b[0;32m    291\u001b[0m     sample_weights \u001b[38;5;241m=\u001b[39m np\u001b[38;5;241m.\u001b[39mwhere(y \u001b[38;5;241m==\u001b[39m \u001b[38;5;241m1\u001b[39m, pos_weight, neg_weight)\n\u001b[0;32m    292\u001b[0m     error \u001b[38;5;241m=\u001b[39m sample_weights \u001b[38;5;241m*\u001b[39m (p \u001b[38;5;241m-\u001b[39m y)\n",
      "File \u001b[1;32m~\\Documents\\GitHub\\ML_proj1\\project1\\preprocessing.py:266\u001b[0m, in \u001b[0;36msigmoid\u001b[1;34m(z)\u001b[0m\n\u001b[0;32m    264\u001b[0m \u001b[38;5;250m\u001b[39m\u001b[38;5;124;03m\"\"\"Numerically stable sigmoid.\"\"\"\u001b[39;00m\n\u001b[0;32m    265\u001b[0m z \u001b[38;5;241m=\u001b[39m np\u001b[38;5;241m.\u001b[39mclip(z, \u001b[38;5;241m-\u001b[39m\u001b[38;5;241m500\u001b[39m, \u001b[38;5;241m500\u001b[39m)\n\u001b[1;32m--> 266\u001b[0m \u001b[38;5;28;01mreturn\u001b[39;00m \u001b[38;5;241m1\u001b[39m \u001b[38;5;241m/\u001b[39m (\u001b[38;5;241m1\u001b[39m \u001b[38;5;241m+\u001b[39m np\u001b[38;5;241m.\u001b[39mexp(\u001b[38;5;241m-\u001b[39mz))\n",
      "\u001b[1;31mKeyboardInterrupt\u001b[0m: "
     ]
    }
   ],
   "source": [
    "best_lambda = 1e-7\n",
    "best_pos_weight = 10.0\n",
    "best_neg_weight = 1.0\n",
    "\n",
    "final_loss, w_final = logistic_regression_weighted_gd(\n",
    "    y_final, X_final,\n",
    "    lambda_=best_lambda,\n",
    "    gamma=0.5,\n",
    "    pos_weight=best_pos_weight,\n",
    "    neg_weight=best_neg_weight,\n",
    "    max_iter=10000,\n",
    "    verbose=True\n",
    ")\n",
    "\n",
    "print(\"Final training loss:\", final_loss)"
   ]
  },
  {
   "cell_type": "code",
   "execution_count": null,
   "id": "e821bede-a193-474c-8330-a61a86c947ee",
   "metadata": {},
   "outputs": [],
   "source": []
  }
 ],
 "metadata": {
  "kernelspec": {
   "display_name": "Python 3 (ipykernel)",
   "language": "python",
   "name": "python3"
  },
  "language_info": {
   "codemirror_mode": {
    "name": "ipython",
    "version": 3
   },
   "file_extension": ".py",
   "mimetype": "text/x-python",
   "name": "python",
   "nbconvert_exporter": "python",
   "pygments_lexer": "ipython3",
   "version": "3.13.5"
  }
 },
 "nbformat": 4,
 "nbformat_minor": 5
}
