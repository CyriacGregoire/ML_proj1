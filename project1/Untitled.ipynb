{
 "cells": [
  {
   "cell_type": "code",
   "execution_count": null,
   "id": "0bfce502",
   "metadata": {},
   "outputs": [],
   "source": [
    "%load_ext autoreload\n",
    "%autoreload 2\n",
    "import numpy as np\n",
    "import matplotlib.pyplot as plt\n",
    "from Implemented_functions import *\n",
    "from Data_cleaning import *\n",
    "from helpers import *"
   ]
  },
  {
   "cell_type": "markdown",
   "id": "717de70c",
   "metadata": {},
   "source": [
    "# Ridge Regression, Model selection and regularization\n",
    "In this model script, as we already explored some data preprocessing mesures, we will try to find which is the best model to use. Morover, we will dicuss if regularization is needed and, in case it is, the best way to do so."
   ]
  },
  {
   "cell_type": "code",
   "execution_count": null,
   "id": "759a1030",
   "metadata": {},
   "outputs": [],
   "source": []
  }
 ],
 "metadata": {
  "kernelspec": {
   "display_name": ".venv",
   "language": "python",
   "name": "python3"
  },
  "language_info": {
   "name": "python",
   "version": "3.14.0"
  }
 },
 "nbformat": 4,
 "nbformat_minor": 5
}
