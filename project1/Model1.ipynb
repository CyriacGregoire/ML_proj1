{
 "cells": [
  {
   "cell_type": "code",
   "execution_count": 10,
   "id": "2167e8c7-57f2-477d-9e86-f5f9a707e962",
   "metadata": {},
   "outputs": [
    {
     "name": "stdout",
     "output_type": "stream",
     "text": [
      "The autoreload extension is already loaded. To reload it, use:\n",
      "  %reload_ext autoreload\n"
     ]
    }
   ],
   "source": [
    "%load_ext autoreload\n",
    "%autoreload 2\n",
    "import numpy as np\n",
    "import matplotlib.pyplot as plt\n",
    "from implementations import *\n",
    "from Data_cleaning import *\n",
    "from helpers import *\n",
    "\n"
   ]
  },
  {
   "cell_type": "code",
   "execution_count": 2,
   "id": "15e717cb-604e-4af1-a14f-1a465fdaa409",
   "metadata": {},
   "outputs": [],
   "source": [
    "x_train, x_test, y_train, train_ids, test_ids = load_csv_data(\"data\\dataset\\dataset\")\n"
   ]
  },
  {
   "cell_type": "code",
   "execution_count": 58,
   "id": "3032ebe7-98b4-4d9e-8845-6965e1c4fc6a",
   "metadata": {},
   "outputs": [],
   "source": [
    "# 1️⃣ Split data manually\n",
    "x_tr = x_train[:50000]\n",
    "y_tr = y_train[:50000]\n",
    "x_tr, keep_mask = remove_nan_features(x_tr)\n",
    "x_te = x_train[50000:70000, keep_mask]\n",
    "y_te = y_train[50000:70000]\n",
    "x_tr = x_tr[:,:20]\n",
    "x_te = x_te[:,:20]\n",
    "\n",
    "# 2️⃣ Compute column means from TRAINING set only\n",
    "col_means = np.nanmean(x_tr, axis=0)\n",
    "\n",
    "# 3️⃣ Impute missing values using TRAINING means\n",
    "inds_tr = np.where(np.isnan(x_tr))\n",
    "x_tr[inds_tr] = np.take(col_means, inds_tr[1])\n",
    "\n",
    "inds_te = np.where(np.isnan(x_te))\n",
    "x_te[inds_te] = np.take(col_means, inds_te[1])\n",
    "\n",
    "x_tr, means, stds = standardize_features(x_tr)\n",
    "x_te = (x_te - means) / stds\n",
    "\n"
   ]
  },
  {
   "cell_type": "code",
   "execution_count": 59,
   "id": "c55b32b2-5ad2-41d5-a255-419a7b16e58d",
   "metadata": {},
   "outputs": [
    {
     "name": "stdout",
     "output_type": "stream",
     "text": [
      "Balanced training set: {np.int64(0): np.int64(45671), np.int64(1): np.int64(45671)}\n"
     ]
    }
   ],
   "source": [
    "# 1️⃣ Convert labels to {0, 1}\n",
    "y_tr = (y_tr + 1) / 2\n",
    "y_te = (y_te + 1) / 2\n",
    "\n",
    "# 2️⃣ Balance training data (undersampling)\n",
    "X_tr_bal, y_tr_bal = balance_data(x_tr, y_tr_bal_input, method=\"oversample\", random_state=42)\n",
    "\n",
    "# 4️⃣ Check new balance\n",
    "unique, counts = np.unique(y_tr_bal, return_counts=True)\n",
    "print(\"Balanced training set:\", dict(zip(unique, counts)))"
   ]
  },
  {
   "cell_type": "code",
   "execution_count": 63,
   "id": "d95ea905-d1bc-4b45-8e5c-9f1405b14e28",
   "metadata": {},
   "outputs": [
    {
     "name": "stdout",
     "output_type": "stream",
     "text": [
      "(91342,) (91342, 20)\n"
     ]
    }
   ],
   "source": [
    "print(y_tr_bal.shape, X_tr_bal.shape)"
   ]
  },
  {
   "cell_type": "code",
   "execution_count": 62,
   "id": "c7a00174-e764-4314-9a4d-9fabd055cc61",
   "metadata": {},
   "outputs": [
    {
     "name": "stdout",
     "output_type": "stream",
     "text": [
      "Iteration     0, loss = 0.693147\n",
      "Iteration   100, loss = 0.557844\n",
      "Iteration   200, loss = 0.554099\n",
      "Iteration   300, loss = 0.553654\n",
      "Iteration   400, loss = 0.553553\n",
      "Iteration   500, loss = 0.553502\n",
      "Iteration   600, loss = 0.553462\n",
      "Iteration   700, loss = 0.553428\n",
      "Iteration   800, loss = 0.553397\n",
      "Iteration   900, loss = 0.553369\n",
      "Iteration  1000, loss = 0.553343\n",
      "Iteration  1100, loss = 0.553319\n",
      "Iteration  1200, loss = 0.553298\n",
      "Iteration  1300, loss = 0.553278\n",
      "Iteration  1400, loss = 0.553260\n",
      "Iteration  1500, loss = 0.553243\n",
      "Iteration  1600, loss = 0.553227\n",
      "Iteration  1700, loss = 0.553213\n",
      "Iteration  1800, loss = 0.553200\n",
      "Iteration  1900, loss = 0.553188\n",
      "Iteration  2000, loss = 0.553177\n",
      "Iteration  2100, loss = 0.553167\n",
      "Iteration  2200, loss = 0.553157\n",
      "Iteration  2300, loss = 0.553149\n",
      "Iteration  2400, loss = 0.553141\n",
      "Iteration  2500, loss = 0.553133\n",
      "Iteration  2600, loss = 0.553126\n",
      "Iteration  2700, loss = 0.553120\n",
      "Iteration  2800, loss = 0.553114\n",
      "Iteration  2900, loss = 0.553108\n",
      "Iteration  3000, loss = 0.553103\n",
      "Iteration  3100, loss = 0.553098\n",
      "Iteration  3200, loss = 0.553094\n",
      "Iteration  3300, loss = 0.553090\n",
      "Iteration  3400, loss = 0.553086\n",
      "Iteration  3500, loss = 0.553083\n",
      "Iteration  3600, loss = 0.553079\n",
      "Iteration  3700, loss = 0.553076\n",
      "Iteration  3800, loss = 0.553073\n",
      "Iteration  3900, loss = 0.553071\n",
      "Iteration  4000, loss = 0.553068\n",
      "Iteration  4100, loss = 0.553066\n",
      "Iteration  4200, loss = 0.553064\n",
      "Iteration  4300, loss = 0.553062\n",
      "Iteration  4400, loss = 0.553060\n",
      "Iteration  4500, loss = 0.553058\n",
      "Iteration  4600, loss = 0.553056\n",
      "Iteration  4700, loss = 0.553055\n",
      "Iteration  4800, loss = 0.553053\n",
      "Iteration  4900, loss = 0.553052\n",
      "Iteration  5000, loss = 0.553050\n",
      "Iteration  5100, loss = 0.553049\n",
      "Iteration  5200, loss = 0.553048\n",
      "Iteration  5300, loss = 0.553047\n",
      "Converged at iteration 5379\n",
      "0.5530462239680652 [-0.53693369 -0.02505375  0.35825644 -0.15195331 -0.15080276 -0.04185319\n",
      " -0.19272723 -0.041425   -0.05929918 -0.05929918  0.74178965 -0.08526364\n",
      "  0.12409707 -0.0397841  -0.04967478 -0.01136336 -0.09845303 -0.50594967\n",
      " -0.15885286 -0.17938657 -0.18832054]\n"
     ]
    }
   ],
   "source": [
    "loss, w = logistic_regression_penalized_gradient_descent_demo(y_tr_bal, X_tr_bal, 10000, 0.1, 0.0005)\n",
    "print(loss, w)"
   ]
  },
  {
   "cell_type": "code",
   "execution_count": 64,
   "id": "df3bf6d7-13a2-47e8-b211-eb65b0252894",
   "metadata": {},
   "outputs": [
    {
     "name": "stdout",
     "output_type": "stream",
     "text": [
      "1.2026664287377935\n"
     ]
    }
   ],
   "source": [
    "print(np.sqrt(w.T @ w))"
   ]
  },
  {
   "cell_type": "code",
   "execution_count": 65,
   "id": "184e7956-6b9b-4b28-b344-2a861b658085",
   "metadata": {},
   "outputs": [],
   "source": [
    "def predict_labels_logistic(x, w, threshold=0.5, return_original_labels=True):\n",
    "\n",
    "    # add bias term\n",
    "    tx = np.c_[np.ones(x.shape[0]), x]\n",
    "    \n",
    "    # compute probabilities\n",
    "    probs = sigmoid(tx @ w)\n",
    "    \n",
    "    # threshold\n",
    "    preds = (probs >= threshold).astype(int)\n",
    "    \n",
    "    # convert to {-1, 1} if desired\n",
    "    if return_original_labels:\n",
    "        preds = 2 * preds - 1\n",
    "    \n",
    "    return preds"
   ]
  },
  {
   "cell_type": "code",
   "execution_count": 66,
   "id": "c2a571bd-5d65-46a9-b5c6-fdd98601ac9c",
   "metadata": {},
   "outputs": [
    {
     "name": "stdout",
     "output_type": "stream",
     "text": [
      "Misclassified samples: 5818.0\n",
      "Accuracy: 0.709\n",
      "6664\n"
     ]
    }
   ],
   "source": [
    "\n",
    "y_pred = predict_labels_logistic(x_te, w, return_original_labels=False)\n",
    "n_errors = np.sum(np.abs(y_te - y_pred))\n",
    "accuracy = np.mean(y_te == y_pred)\n",
    "\n",
    "print(\"Misclassified samples:\", n_errors)\n",
    "print(f\"Accuracy: {accuracy:.3f}\")\n",
    "print(np.sum(y_pred))\n"
   ]
  },
  {
   "cell_type": "raw",
   "id": "f36db5d4-c089-4962-bced-52e96460bb93",
   "metadata": {},
   "source": []
  },
  {
   "cell_type": "code",
   "execution_count": 68,
   "id": "472530a4-41d3-4616-b3a0-d0f7e481dfd9",
   "metadata": {},
   "outputs": [
    {
     "name": "stdout",
     "output_type": "stream",
     "text": [
      "1772.0\n"
     ]
    }
   ],
   "source": [
    "print(np.sum(y_te))"
   ]
  },
  {
   "cell_type": "code",
   "execution_count": 70,
   "id": "96163d09-aeb3-4e6d-8464-f7828436060e",
   "metadata": {},
   "outputs": [
    {
     "name": "stdout",
     "output_type": "stream",
     "text": [
      "5818.0\n"
     ]
    }
   ],
   "source": [
    "print(np.sum(np.abs(y_pred - y_te)))"
   ]
  },
  {
   "cell_type": "code",
   "execution_count": null,
   "id": "7c924b9a-4ca7-4658-a428-5bc1a8d746fe",
   "metadata": {},
   "outputs": [],
   "source": []
  }
 ],
 "metadata": {
  "kernelspec": {
   "display_name": "Python [conda env:base] *",
   "language": "python",
   "name": "conda-base-py"
  },
  "language_info": {
   "codemirror_mode": {
    "name": "ipython",
    "version": 3
   },
   "file_extension": ".py",
   "mimetype": "text/x-python",
   "name": "python",
   "nbconvert_exporter": "python",
   "pygments_lexer": "ipython3",
   "version": "3.13.5"
  }
 },
 "nbformat": 4,
 "nbformat_minor": 5
}
