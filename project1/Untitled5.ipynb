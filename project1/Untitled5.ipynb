{
 "cells": [
  {
   "cell_type": "code",
   "execution_count": 1,
   "id": "1fb3e4eb-a90a-4a0e-88f2-b775ca7f09ab",
   "metadata": {},
   "outputs": [],
   "source": [
    "import numpy as np"
   ]
  },
  {
   "cell_type": "code",
   "execution_count": 6,
   "id": "6e210f05-72dd-4cac-bd1f-f0361019bf02",
   "metadata": {},
   "outputs": [],
   "source": [
    "import numpy as np\n",
    "\n",
    "def sigmoid(t):\n",
    "    \"\"\"Numerically stable sigmoid.\"\"\"\n",
    "    t = np.clip(t, -709, 709)\n",
    "    return 1 / (1 + np.exp(-t))\n",
    "\n",
    "def compute_gradient_logistic(y, tx, w):\n",
    "    \"\"\"Gradient of the logistic loss.\"\"\"\n",
    "    pred = sigmoid(tx @ w)\n",
    "    grad = tx.T @ (pred - y) / y.shape[0]\n",
    "    return grad\n",
    "\n",
    "def logistic_loss(y, tx, w):\n",
    "    \"\"\"EPFL-compatible logistic loss.\"\"\"\n",
    "    z = tx @ w\n",
    "    return np.mean(np.log(1 + np.exp(z)) - y * z)\n",
    "\n",
    "def logistic_regression(y, tx, initial_w, max_iters, gamma):\n",
    "    \"\"\"Logistic regression using gradient descent.\"\"\"\n",
    "    w = initial_w.copy()\n",
    "    for _ in range(max_iters):\n",
    "        grad = compute_gradient_logistic(y, tx, w)\n",
    "        w -= gamma * grad\n",
    "    loss = logistic_loss(y, tx, w)\n",
    "    return w, loss\n",
    "\n"
   ]
  },
  {
   "cell_type": "code",
   "execution_count": 7,
   "id": "374e1397-74f8-4bb9-98a5-2939fed1fe55",
   "metadata": {},
   "outputs": [
    {
     "name": "stdout",
     "output_type": "stream",
     "text": [
      "Final weights: [ 1.69443724 -1.26781337]\n",
      "Final loss: 0.602461272815579\n"
     ]
    }
   ],
   "source": [
    "y = np.array([0., 1., 1.])\n",
    "tx = np.array([[2.3, 3.2],\n",
    "               [1.0, 0.1],\n",
    "               [1.4, 2.3]])\n",
    "initial_w = np.array([0.5, 1.])\n",
    "gamma = 0.1\n",
    "max_iters = 10000\n",
    "\n",
    "w_final, loss_final = logistic_regression(y, tx, initial_w, max_iters, gamma)\n",
    "print(\"Final weights:\", w_final)\n",
    "print(\"Final loss:\", loss_final)\n"
   ]
  },
  {
   "cell_type": "code",
   "execution_count": null,
   "id": "22f2eba8-9a19-4e40-96ea-d1680d6ffcbb",
   "metadata": {},
   "outputs": [],
   "source": []
  }
 ],
 "metadata": {
  "kernelspec": {
   "display_name": "Python 3 (ipykernel)",
   "language": "python",
   "name": "python3"
  },
  "language_info": {
   "codemirror_mode": {
    "name": "ipython",
    "version": 3
   },
   "file_extension": ".py",
   "mimetype": "text/x-python",
   "name": "python",
   "nbconvert_exporter": "python",
   "pygments_lexer": "ipython3",
   "version": "3.13.5"
  }
 },
 "nbformat": 4,
 "nbformat_minor": 5
}
