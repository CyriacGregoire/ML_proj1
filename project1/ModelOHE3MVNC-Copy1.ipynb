{
 "cells": [
  {
   "cell_type": "code",
   "execution_count": 1,
   "id": "eaded5ba-d2e7-413f-95f0-fd2dda0cae84",
   "metadata": {},
   "outputs": [
    {
     "data": {
      "text/plain": [
       "'\\nChanges from OHE2:\\n-Here we do not drop features according to correlation with the target\\n-We also try here lambda = 1e-7\\n'"
      ]
     },
     "execution_count": 1,
     "metadata": {},
     "output_type": "execute_result"
    }
   ],
   "source": [
    "\"\"\"\n",
    "Changes from OHE3:\n",
    "-We impute categorical NaN as -1(missing value category)\n",
    "-We remove features with more than a 40% NaN(instead of 20%)\n",
    "\"\"\""
   ]
  },
  {
   "cell_type": "code",
   "execution_count": 2,
   "id": "6e573548-4263-465b-a59d-889d84e5828b",
   "metadata": {},
   "outputs": [],
   "source": [
    "%load_ext autoreload\n",
    "%autoreload 2\n",
    "import numpy as np\n",
    "import matplotlib.pyplot as plt\n",
    "from implementations import *\n",
    "from Data_cleaning import *\n",
    "from helpers import *\n",
    "from exploratory_data_analysis import *\n",
    "from preprocessing import *"
   ]
  },
  {
   "cell_type": "code",
   "execution_count": 3,
   "id": "adfcc5cb-2547-473e-9262-593fbee3a4a5",
   "metadata": {},
   "outputs": [],
   "source": [
    "x_train, x_test, y_train, train_ids, test_ids = load_csv_data(\"data\\dataset\\dataset\")"
   ]
  },
  {
   "cell_type": "code",
   "execution_count": 50,
   "id": "9f19f029-3fe3-48df-85db-dc014737c360",
   "metadata": {},
   "outputs": [],
   "source": [
    "Y_tr = (y_train + 1) / 2"
   ]
  },
  {
   "cell_type": "code",
   "execution_count": 51,
   "id": "69d58fdf-796a-41dd-9857-a676370eecc8",
   "metadata": {},
   "outputs": [],
   "source": [
    "X_train, keep_mask = remove_nan_features(x_train, 0.4)\n",
    "X_test = x_test[:, keep_mask]"
   ]
  },
  {
   "cell_type": "code",
   "execution_count": 52,
   "id": "45214764-37e8-4a92-ab22-603a3e797839",
   "metadata": {},
   "outputs": [
    {
     "name": "stdout",
     "output_type": "stream",
     "text": [
      "(328135, 163) (109379, 163)\n"
     ]
    }
   ],
   "source": [
    "print(X_train.shape, X_test.shape)"
   ]
  },
  {
   "cell_type": "code",
   "execution_count": 53,
   "id": "f5d91fe6-36ff-455d-a56d-9128db2f1d38",
   "metadata": {},
   "outputs": [],
   "source": [
    "cat_mask, num_mask = detect_categorical_features(X_train, max_unique=10)"
   ]
  },
  {
   "cell_type": "code",
   "execution_count": 54,
   "id": "6b204aa2-3314-48bb-8bc4-31df9baf60f1",
   "metadata": {},
   "outputs": [
    {
     "name": "stdout",
     "output_type": "stream",
     "text": [
      "102 61\n"
     ]
    }
   ],
   "source": [
    "print(np.sum(cat_mask), np.sum(num_mask))"
   ]
  },
  {
   "cell_type": "code",
   "execution_count": 55,
   "id": "7abeb201-81b0-42c8-be04-d5e838728f9f",
   "metadata": {},
   "outputs": [],
   "source": [
    "x_tr, y_tr, x_va, y_va, x_te, y_te = stratified_three_way_split(X_train, Y_tr)"
   ]
  },
  {
   "cell_type": "code",
   "execution_count": 56,
   "id": "f52657ef-a06b-48b3-9604-553bdf3c2030",
   "metadata": {},
   "outputs": [
    {
     "name": "stdout",
     "output_type": "stream",
     "text": [
      "(328135, 163) (229695, 163) (229695,) (49220, 163) (49220,) (49220, 163) (49220,)\n"
     ]
    }
   ],
   "source": [
    "print(X_train.shape, x_tr.shape, y_tr.shape, x_va.shape, y_va.shape, x_te.shape, y_te.shape)"
   ]
  },
  {
   "cell_type": "code",
   "execution_count": 57,
   "id": "f2cbc887-ab79-482b-912a-85c97392d724",
   "metadata": {},
   "outputs": [],
   "source": [
    "def impute_categorical_missing_code(X, cat_mask, missing_code=-1.0):\n",
    "    \"\"\"\n",
    "    Replace NaNs in *categorical* columns with a special code (default -1),\n",
    "    leaving numeric columns unchanged.\n",
    "\n",
    "    Parameters\n",
    "    ----------\n",
    "    X : np.ndarray, shape (n_samples, n_features)\n",
    "        Full feature matrix (numeric + categorical).\n",
    "    cat_mask : np.ndarray of bool, shape (n_features,)\n",
    "        True for categorical columns, False for numeric ones.\n",
    "    missing_code : float, default=-1.0\n",
    "        Code used to represent 'Missing' category.\n",
    "\n",
    "    Returns\n",
    "    -------\n",
    "    X_imputed : np.ndarray, same shape as X\n",
    "        Copy of X where NaNs in categorical columns are replaced by `missing_code`.\n",
    "    \"\"\"\n",
    "    Xf = np.array(X, dtype=np.float64, copy=True)\n",
    "    cat_idx = np.where(cat_mask)[0]\n",
    "\n",
    "    for j in cat_idx:\n",
    "        col = Xf[:, j]\n",
    "        nan_mask = np.isnan(col)\n",
    "        if np.any(nan_mask):\n",
    "            col[nan_mask] = missing_code\n",
    "            Xf[:, j] = col\n",
    "\n",
    "    return Xf\n"
   ]
  },
  {
   "cell_type": "code",
   "execution_count": 58,
   "id": "029090c6-776a-4d19-ba96-6706ce90ae9e",
   "metadata": {},
   "outputs": [
    {
     "name": "stdout",
     "output_type": "stream",
     "text": [
      "42 of 61 numerical features have missing values.\n"
     ]
    }
   ],
   "source": [
    "# Identify numerical features with at least one missing value in the training set\n",
    "nan_counts = np.sum(np.isnan(x_tr[:, num_mask]), axis=0)\n",
    "has_missing = nan_counts > 0\n",
    "print(f\"{np.sum(has_missing)} of {np.sum(num_mask)} numerical features have missing values.\")\n",
    "\n",
    "# Record missingness indicators only for those features\n",
    "miss_tr = np.isnan(x_tr[:, num_mask][:, has_missing]).astype(float)\n",
    "miss_va = np.isnan(x_va[:, num_mask][:, has_missing]).astype(float)\n",
    "miss_te = np.isnan(x_te[:, num_mask][:, has_missing]).astype(float)\n",
    "miss_test = np.isnan(X_test[:, num_mask][:, has_missing]).astype(float)\n",
    "\n",
    "# Median imputation for numerical features (computed on training set)\n",
    "x_tr_imp, medians = impute_numerical(x_tr, num_mask)\n",
    "x_va_imp, _ = impute_numerical(x_va, num_mask, medians)\n",
    "x_te_imp, _ = impute_numerical(x_te, num_mask, medians)\n",
    "x_test_imp, _ = impute_numerical(X_test, num_mask, medians)\n",
    "\n",
    "# Append the missingness indicator columns\n",
    "x_tr_imp = np.concatenate([x_tr_imp, miss_tr], axis=1)\n",
    "x_va_imp = np.concatenate([x_va_imp, miss_va], axis=1)\n",
    "x_te_imp = np.concatenate([x_te_imp, miss_te], axis=1)\n",
    "x_test_imp = np.concatenate([x_test_imp, miss_test], axis=1)\n",
    "\n",
    "\n",
    "# Categorical imputation (add -1 to NaN)\n",
    "x_tr_imp = impute_categorical_missing_code(x_tr_imp, cat_mask)\n",
    "x_va_imp = impute_categorical_missing_code(x_va_imp, cat_mask)\n",
    "x_te_imp = impute_categorical_missing_code(x_te_imp, cat_mask)\n",
    "x_test_imp = impute_categorical_missing_code(x_test_imp, cat_mask)"
   ]
  },
  {
   "cell_type": "code",
   "execution_count": 59,
   "id": "42074bd4-7a55-4e44-a3fd-1f2fd4185230",
   "metadata": {},
   "outputs": [
    {
     "name": "stdout",
     "output_type": "stream",
     "text": [
      "0 0 0 0\n"
     ]
    }
   ],
   "source": [
    "# Check for any remaining NaN values\n",
    "print(np.isnan(x_tr_imp).sum(),\n",
    "      np.isnan(x_va_imp).sum(),\n",
    "      np.isnan(x_te_imp).sum(), np.isnan(x_test_imp).sum())"
   ]
  },
  {
   "cell_type": "code",
   "execution_count": 60,
   "id": "826dfd68-a9f0-4f65-abf0-a7c58658e235",
   "metadata": {},
   "outputs": [],
   "source": [
    "# We'll clip at the 1st and 99th percentiles \n",
    "low_p, high_p = 1, 99\n",
    "\n",
    "# Make copies to avoid modifying originals\n",
    "x_tr_clip = x_tr_imp.copy()\n",
    "x_va_clip = x_va_imp.copy()\n",
    "x_te_clip = x_te_imp.copy()\n",
    "x_test_clip = x_test_imp.copy()\n",
    "\n",
    "# Apply clipping per numerical feature\n",
    "for i in np.where(num_mask)[0]:\n",
    "    low = np.nanpercentile(x_tr_imp[:, i], low_p)\n",
    "    high = np.nanpercentile(x_tr_imp[:, i], high_p)\n",
    "\n",
    "    x_tr_clip[:, i] = np.clip(x_tr_clip[:, i], low, high)\n",
    "    x_va_clip[:, i] = np.clip(x_va_clip[:, i], low, high)\n",
    "    x_te_clip[:, i] = np.clip(x_te_clip[:, i], low, high)\n",
    "    x_test_clip[:, i] = np.clip(x_test_clip[:, i], low, high)\n"
   ]
  },
  {
   "cell_type": "code",
   "execution_count": 61,
   "id": "28177ca8-56e2-49ea-b6f8-0579f7d3d632",
   "metadata": {},
   "outputs": [
    {
     "name": "stdout",
     "output_type": "stream",
     "text": [
      "(229695, 205) (49220, 205) (49220, 205)\n"
     ]
    }
   ],
   "source": [
    "print(x_tr_clip.shape, x_va_clip.shape, x_te_clip.shape)\n"
   ]
  },
  {
   "cell_type": "code",
   "execution_count": 62,
   "id": "b308becb-a5bd-4e57-b864-3e54790286f2",
   "metadata": {},
   "outputs": [
    {
     "name": "stdout",
     "output_type": "stream",
     "text": [
      "Feature 0: before [1.00, 72.00], after [1.00, 72.00]\n",
      "Feature 1: before [1.00, 12.00], after [1.00, 12.00]\n",
      "Feature 2: before [1012016.00, 12312015.00], after [1072016.00, 12232015.00]\n",
      "Feature 3: before [1.00, 12.00], after [1.00, 12.00]\n",
      "Feature 4: before [1.00, 31.00], after [1.00, 31.00]\n"
     ]
    }
   ],
   "source": [
    "for i in np.where(num_mask)[0][:5]:  # first 5 numeric columns\n",
    "    orig_min = np.nanmin(x_tr[:, i])\n",
    "    orig_max = np.nanmax(x_tr[:, i])\n",
    "    clip_min = np.min(x_tr_clip[:, i])\n",
    "    clip_max = np.max(x_tr_clip[:, i])\n",
    "    print(f\"Feature {i}: before [{orig_min:.2f}, {orig_max:.2f}], after [{clip_min:.2f}, {clip_max:.2f}]\")\n"
   ]
  },
  {
   "cell_type": "code",
   "execution_count": 63,
   "id": "c7801d38-e6ce-4654-be9b-a33ea91c94e9",
   "metadata": {},
   "outputs": [
    {
     "name": "stdout",
     "output_type": "stream",
     "text": [
      "Train shape before: (229695, 205) after: (229695, 204)\n",
      "Numeric features: 60\n",
      "Categorical features: 102\n"
     ]
    }
   ],
   "source": [
    "date_col_idx = 2  # the column that represents the interview date\n",
    "\n",
    "# 1. Drop the column from all datasets\n",
    "x_train_nodate = np.delete(x_tr_clip, date_col_idx, axis=1)\n",
    "x_valid_nodate = np.delete(x_va_clip, date_col_idx, axis=1)\n",
    "x_te_nodate  = np.delete(x_te_clip, date_col_idx, axis=1)\n",
    "x_test_nodate = np.delete(x_test_clip, date_col_idx, axis=1)\n",
    "\n",
    "# 2. Drop the same index from masks\n",
    "num_mask_nodate = np.delete(num_mask, date_col_idx)\n",
    "cat_mask_nodate = np.delete(cat_mask, date_col_idx)\n",
    "\n",
    "# 3. Sanity check\n",
    "print(\"Train shape before:\", x_tr_clip.shape, \"after:\", x_train_nodate.shape)\n",
    "print(\"Numeric features:\", np.sum(num_mask_nodate))\n",
    "print(\"Categorical features:\", np.sum(cat_mask_nodate))\n"
   ]
  },
  {
   "cell_type": "code",
   "execution_count": 64,
   "id": "a614001c-e309-402c-9254-242d564710ab",
   "metadata": {},
   "outputs": [],
   "source": [
    "new_cat_mask, new_num_mask = detect_categorical_features(x_train_nodate, max_unique=10)"
   ]
  },
  {
   "cell_type": "code",
   "execution_count": 65,
   "id": "5ec8bbc7-a5ac-4d7b-b514-56e928674775",
   "metadata": {},
   "outputs": [
    {
     "name": "stdout",
     "output_type": "stream",
     "text": [
      "60 144\n"
     ]
    }
   ],
   "source": [
    "print(np.sum(new_num_mask), np.sum(new_cat_mask))"
   ]
  },
  {
   "cell_type": "code",
   "execution_count": 66,
   "id": "b701e560-cdf7-4900-aae7-793bab8dce45",
   "metadata": {},
   "outputs": [],
   "source": [
    "x_tr_std, means, stds = standardize_features(x_train_nodate, new_num_mask)\n",
    "x_va_std, _, _ = standardize_features(x_valid_nodate, new_num_mask, means, stds)\n",
    "x_te_std, _, _ = standardize_features(x_te_nodate, new_num_mask, means, stds)\n",
    "x_test_std, _, _ = standardize_features(x_test_nodate, new_num_mask, means, stds)"
   ]
  },
  {
   "cell_type": "code",
   "execution_count": 67,
   "id": "67f2f6bf-c4b3-48be-be9f-fb1f418b483b",
   "metadata": {},
   "outputs": [
    {
     "name": "stdout",
     "output_type": "stream",
     "text": [
      "Mean range: -1.0562167731031524e-15 to 6.296420186646123e-11\n",
      "Std range: 0.9999999999999998 to 1.0000000000000002\n"
     ]
    }
   ],
   "source": [
    "means_check = np.mean(x_tr_std[:, new_num_mask], axis=0)\n",
    "stds_check  = np.std(x_tr_std[:, new_num_mask], axis=0)\n",
    "\n",
    "print(\"Mean range:\", np.min(means_check), \"to\", np.max(means_check))\n",
    "print(\"Std range:\", np.min(stds_check), \"to\", np.max(stds_check))\n"
   ]
  },
  {
   "cell_type": "code",
   "execution_count": 75,
   "id": "23c0c8cb-0db2-4b3f-b4b4-8fd42f9294c6",
   "metadata": {},
   "outputs": [],
   "source": [
    "# Fit one-hot encoder on training data\n",
    "x_tr_enc, categories = one_hot_encode(x_tr_std, new_cat_mask, drop_first=True)\n",
    "\n",
    "# Apply the same categories to validation and test data\n",
    "x_va_enc, _ = one_hot_encode(x_va_std, new_cat_mask, categories, drop_first=True)\n",
    "x_te_enc, _ = one_hot_encode(x_te_std, new_cat_mask, categories, drop_first=True)\n",
    "x_test_enc, _ = one_hot_encode(x_test_std, new_cat_mask, categories, drop_first=True)"
   ]
  },
  {
   "cell_type": "code",
   "execution_count": 76,
   "id": "a3852be6-87f7-4b43-a1cf-ff30b1fdbedc",
   "metadata": {},
   "outputs": [
    {
     "name": "stdout",
     "output_type": "stream",
     "text": [
      "(229695, 465) (49220, 465) (49220, 465) (109379, 465)\n"
     ]
    }
   ],
   "source": [
    "print(x_tr_enc.shape, x_va_enc.shape, x_te_enc.shape, x_test_enc.shape) "
   ]
  },
  {
   "cell_type": "code",
   "execution_count": 77,
   "id": "a468d4aa-cf0e-4496-b7bb-384a6168f712",
   "metadata": {},
   "outputs": [
    {
     "name": "stdout",
     "output_type": "stream",
     "text": [
      "0 True\n",
      "-2.977473718717645 9.047045642411586\n",
      "{np.float64(0.0): np.int64(209412), np.float64(1.0): np.int64(20283)}\n"
     ]
    }
   ],
   "source": [
    "# Verify no NaNs or infinities\n",
    "print(np.isnan(x_tr_enc).sum(), np.isfinite(x_tr_enc).all())\n",
    "\n",
    "# Verify numeric ranges are reasonable\n",
    "print(np.min(x_tr_enc), np.max(x_tr_enc))\n",
    "\n",
    "# Check label balance\n",
    "unique, counts = np.unique(y_tr, return_counts=True)\n",
    "print(dict(zip(unique, counts)))\n"
   ]
  },
  {
   "cell_type": "code",
   "execution_count": 88,
   "id": "54615648-38c5-4a51-b314-d83975edd699",
   "metadata": {},
   "outputs": [],
   "source": [
    "cat_mask_enc, num_mask_enc = detect_categorical_features(x_tr_enc, max_unique=10)"
   ]
  },
  {
   "cell_type": "code",
   "execution_count": 89,
   "id": "1ffed2d1-398e-4025-b900-50386c6fef1b",
   "metadata": {},
   "outputs": [
    {
     "name": "stdout",
     "output_type": "stream",
     "text": [
      "405 60\n"
     ]
    }
   ],
   "source": [
    "print(np.sum(cat_mask_enc), np.sum(num_mask_enc))"
   ]
  },
  {
   "cell_type": "code",
   "execution_count": 90,
   "id": "b38adefb-9f50-4ad6-9668-8dfddc0c77d8",
   "metadata": {},
   "outputs": [
    {
     "name": "stdout",
     "output_type": "stream",
     "text": [
      "1.0\n"
     ]
    }
   ],
   "source": [
    "print(np.max(x_tr_enc[:,cat_mask_enc]))"
   ]
  },
  {
   "cell_type": "code",
   "execution_count": null,
   "id": "b7b366ee-628d-48ab-a899-49743e3d1b5c",
   "metadata": {},
   "outputs": [
    {
     "name": "stdout",
     "output_type": "stream",
     "text": [
      "\n",
      "=== Run 1/6 (pos_weight=9.5, lambda_=0.001) ===\n"
     ]
    }
   ],
   "source": [
    "best_params, best_f1, results = grid_search(\n",
    "    y_tr, x_tr_enc,\n",
    "    y_va, x_va_enc,\n",
    "    pos_weights=[9.5, 10, 10.5],\n",
    "    lambdas=[1e-3, 1e-4],\n",
    "    thresholds=np.linspace(0.5, 0.9, 400),\n",
    "    max_iter=10000,\n",
    "    gamma=0.5\n",
    ")\n"
   ]
  },
  {
   "cell_type": "code",
   "execution_count": 38,
   "id": "708f058b-afb4-4686-9795-eba2efd85d04",
   "metadata": {},
   "outputs": [],
   "source": [
    "X_final = np.vstack([x_tr_final, x_va_final])\n",
    "y_final = np.concatenate([y_tr, y_va])\n"
   ]
  },
  {
   "cell_type": "code",
   "execution_count": 39,
   "id": "0adc122e-7a93-430f-9231-2fbd06f0e175",
   "metadata": {},
   "outputs": [
    {
     "name": "stdout",
     "output_type": "stream",
     "text": [
      "Iter     0 | Loss = 0.693147 | GradNorm = 0.7272\n",
      "Iter   100 | Loss = 0.497236 | GradNorm = 0.5773\n",
      "Iter   200 | Loss = 0.483206 | GradNorm = 0.4983\n",
      "Iter   300 | Loss = 0.477520 | GradNorm = 0.4592\n",
      "Iter   400 | Loss = 0.474594 | GradNorm = 0.4368\n",
      "Iter   500 | Loss = 0.472920 | GradNorm = 0.4232\n",
      "Iter   600 | Loss = 0.471888 | GradNorm = 0.4146\n",
      "Iter   700 | Loss = 0.471212 | GradNorm = 0.4089\n",
      "Iter   800 | Loss = 0.470744 | GradNorm = 0.4051\n",
      "Iter   900 | Loss = 0.470403 | GradNorm = 0.4023\n",
      "Iter  1000 | Loss = 0.470143 | GradNorm = 0.4002\n",
      "Iter  1100 | Loss = 0.469936 | GradNorm = 0.3986\n",
      "Iter  1200 | Loss = 0.469766 | GradNorm = 0.3973\n",
      "Iter  1300 | Loss = 0.469623 | GradNorm = 0.3962\n",
      "Iter  1400 | Loss = 0.469498 | GradNorm = 0.3952\n",
      "Iter  1500 | Loss = 0.469389 | GradNorm = 0.3944\n",
      "Iter  1600 | Loss = 0.469291 | GradNorm = 0.3937\n",
      "Iter  1700 | Loss = 0.469202 | GradNorm = 0.3930\n",
      "Iter  1800 | Loss = 0.469121 | GradNorm = 0.3924\n",
      "Iter  1900 | Loss = 0.469046 | GradNorm = 0.3918\n",
      "Iter  2000 | Loss = 0.468977 | GradNorm = 0.3913\n",
      "Iter  2100 | Loss = 0.468913 | GradNorm = 0.3908\n",
      "Iter  2200 | Loss = 0.468854 | GradNorm = 0.3904\n",
      "Iter  2300 | Loss = 0.468797 | GradNorm = 0.3899\n",
      "Iter  2400 | Loss = 0.468745 | GradNorm = 0.3895\n",
      "Iter  2500 | Loss = 0.468695 | GradNorm = 0.3892\n",
      "Iter  2600 | Loss = 0.468648 | GradNorm = 0.3888\n",
      "Iter  2700 | Loss = 0.468604 | GradNorm = 0.3885\n",
      "Iter  2800 | Loss = 0.468562 | GradNorm = 0.3881\n",
      "Iter  2900 | Loss = 0.468522 | GradNorm = 0.3878\n",
      "Iter  3000 | Loss = 0.468483 | GradNorm = 0.3875\n",
      "Iter  3100 | Loss = 0.468447 | GradNorm = 0.3872\n",
      "Iter  3200 | Loss = 0.468412 | GradNorm = 0.3870\n",
      "Iter  3300 | Loss = 0.468379 | GradNorm = 0.3867\n",
      "Iter  3400 | Loss = 0.468347 | GradNorm = 0.3865\n",
      "Iter  3500 | Loss = 0.468317 | GradNorm = 0.3862\n",
      "Iter  3600 | Loss = 0.468287 | GradNorm = 0.3860\n",
      "Iter  3700 | Loss = 0.468259 | GradNorm = 0.3858\n",
      "Iter  3800 | Loss = 0.468232 | GradNorm = 0.3856\n",
      "Iter  3900 | Loss = 0.468206 | GradNorm = 0.3854\n",
      "Iter  4000 | Loss = 0.468180 | GradNorm = 0.3852\n",
      "Iter  4100 | Loss = 0.468156 | GradNorm = 0.3850\n",
      "Iter  4200 | Loss = 0.468133 | GradNorm = 0.3848\n",
      "Iter  4300 | Loss = 0.468110 | GradNorm = 0.3846\n",
      "Iter  4400 | Loss = 0.468088 | GradNorm = 0.3845\n",
      "Iter  4500 | Loss = 0.468067 | GradNorm = 0.3843\n",
      "Iter  4600 | Loss = 0.468046 | GradNorm = 0.3841\n",
      "Iter  4700 | Loss = 0.468026 | GradNorm = 0.3840\n",
      "Iter  4800 | Loss = 0.468006 | GradNorm = 0.3838\n",
      "Iter  4900 | Loss = 0.467987 | GradNorm = 0.3837\n",
      "Iter  5000 | Loss = 0.467969 | GradNorm = 0.3835\n",
      "Iter  5100 | Loss = 0.467951 | GradNorm = 0.3834\n",
      "Iter  5200 | Loss = 0.467934 | GradNorm = 0.3833\n",
      "Iter  5300 | Loss = 0.467917 | GradNorm = 0.3831\n",
      "Iter  5400 | Loss = 0.467900 | GradNorm = 0.3830\n",
      "Iter  5500 | Loss = 0.467884 | GradNorm = 0.3829\n",
      "Iter  5600 | Loss = 0.467869 | GradNorm = 0.3828\n",
      "Iter  5700 | Loss = 0.467853 | GradNorm = 0.3826\n",
      "Iter  5800 | Loss = 0.467839 | GradNorm = 0.3825\n",
      "Iter  5900 | Loss = 0.467824 | GradNorm = 0.3824\n",
      "Iter  6000 | Loss = 0.467810 | GradNorm = 0.3823\n",
      "Iter  6100 | Loss = 0.467796 | GradNorm = 0.3822\n",
      "Iter  6200 | Loss = 0.467782 | GradNorm = 0.3821\n",
      "Iter  6300 | Loss = 0.467769 | GradNorm = 0.3820\n",
      "Iter  6400 | Loss = 0.467756 | GradNorm = 0.3819\n",
      "Iter  6500 | Loss = 0.467743 | GradNorm = 0.3818\n",
      "Iter  6600 | Loss = 0.467731 | GradNorm = 0.3817\n",
      "Iter  6700 | Loss = 0.467719 | GradNorm = 0.3816\n",
      "Iter  6800 | Loss = 0.467707 | GradNorm = 0.3815\n",
      "Iter  6900 | Loss = 0.467695 | GradNorm = 0.3814\n",
      "Iter  7000 | Loss = 0.467683 | GradNorm = 0.3813\n",
      "Iter  7100 | Loss = 0.467672 | GradNorm = 0.3812\n",
      "Iter  7200 | Loss = 0.467661 | GradNorm = 0.3811\n",
      "Iter  7300 | Loss = 0.467650 | GradNorm = 0.3810\n",
      "Iter  7400 | Loss = 0.467640 | GradNorm = 0.3809\n",
      "Iter  7500 | Loss = 0.467629 | GradNorm = 0.3808\n",
      "Iter  7600 | Loss = 0.467619 | GradNorm = 0.3808\n",
      "Iter  7700 | Loss = 0.467609 | GradNorm = 0.3807\n",
      "Iter  7800 | Loss = 0.467599 | GradNorm = 0.3806\n",
      "Iter  7900 | Loss = 0.467589 | GradNorm = 0.3805\n",
      "Iter  8000 | Loss = 0.467580 | GradNorm = 0.3804\n",
      "Iter  8100 | Loss = 0.467570 | GradNorm = 0.3804\n",
      "Iter  8200 | Loss = 0.467561 | GradNorm = 0.3803\n",
      "Iter  8300 | Loss = 0.467552 | GradNorm = 0.3802\n",
      "Iter  8400 | Loss = 0.467543 | GradNorm = 0.3801\n",
      "Iter  8500 | Loss = 0.467534 | GradNorm = 0.3801\n",
      "Iter  8600 | Loss = 0.467525 | GradNorm = 0.3800\n",
      "Iter  8700 | Loss = 0.467517 | GradNorm = 0.3799\n",
      "Iter  8800 | Loss = 0.467509 | GradNorm = 0.3799\n",
      "Iter  8900 | Loss = 0.467500 | GradNorm = 0.3798\n",
      "Iter  9000 | Loss = 0.467492 | GradNorm = 0.3797\n",
      "Iter  9100 | Loss = 0.467484 | GradNorm = 0.3797\n",
      "Iter  9200 | Loss = 0.467476 | GradNorm = 0.3796\n",
      "Iter  9300 | Loss = 0.467469 | GradNorm = 0.3795\n",
      "Iter  9400 | Loss = 0.467461 | GradNorm = 0.3795\n",
      "Iter  9500 | Loss = 0.467454 | GradNorm = 0.3794\n",
      "Iter  9600 | Loss = 0.467446 | GradNorm = 0.3793\n",
      "Iter  9700 | Loss = 0.467439 | GradNorm = 0.3793\n",
      "Iter  9800 | Loss = 0.467432 | GradNorm = 0.3792\n",
      "Iter  9900 | Loss = 0.467425 | GradNorm = 0.3792\n",
      "Final training loss: 0.46804876652383454\n"
     ]
    }
   ],
   "source": [
    "best_lambda = 1e-8\n",
    "best_pos_weight = 6.5\n",
    "best_neg_weight = 1.0\n",
    "best_threshold = 0.7476190476190476\n",
    "\n",
    "final_loss, w_final = logistic_regression_weighted_gd(\n",
    "    y_final, X_final,\n",
    "    lambda_=best_lambda,\n",
    "    gamma=0.5,\n",
    "    pos_weight=best_pos_weight,\n",
    "    neg_weight=best_neg_weight,\n",
    "    max_iter=10000,\n",
    "    verbose=True\n",
    ")\n",
    "\n",
    "print(\"Final training loss:\", final_loss)\n"
   ]
  },
  {
   "cell_type": "code",
   "execution_count": 40,
   "id": "165a7480-3c88-4677-b9d9-16b6ad97f362",
   "metadata": {},
   "outputs": [
    {
     "name": "stdout",
     "output_type": "stream",
     "text": [
      "9.69559881779544\n"
     ]
    }
   ],
   "source": [
    "print(w_final @ w_final)"
   ]
  },
  {
   "cell_type": "code",
   "execution_count": 41,
   "id": "8f3d675b-4919-4047-8171-11cc226e3ea2",
   "metadata": {},
   "outputs": [
    {
     "name": "stdout",
     "output_type": "stream",
     "text": [
      " Accuracy: 87.34%\n",
      " F1 Score: 0.4246\n"
     ]
    }
   ],
   "source": [
    "acc, f1 = evaluate_model(y_te, x_te_final, w_final, best_threshold)"
   ]
  },
  {
   "cell_type": "code",
   "execution_count": 42,
   "id": "993ab2db-fe31-421f-80b0-177f3bc1b0a6",
   "metadata": {},
   "outputs": [
    {
     "name": "stdout",
     "output_type": "stream",
     "text": [
      "Confusion Matrix:\n",
      "[[40690  4184]\n",
      " [ 2047  2299]]\n",
      "TN=40690, FP=4184, FN=2047, TP=2299\n"
     ]
    },
    {
     "data": {
      "image/png": "[encoded data removed]",
      "text/plain": [
       "<Figure size 400x300 with 1 Axes>"
      ]
     },
     "metadata": {},
     "output_type": "display_data"
    }
   ],
   "source": [
    "preds, _ = predict_with_threshold(x_te_final, w_final, threshold=best_threshold)\n",
    "cm = confusion_matrix_numpy(y_te, preds)"
   ]
  },
  {
   "cell_type": "code",
   "execution_count": 44,
   "id": "e1c0b086-adb4-4729-8ceb-e1292cb08410",
   "metadata": {},
   "outputs": [],
   "source": [
    "y_pred_final, _ = predict_with_threshold(x_test_final, w_final, best_threshold)\n",
    "y_pred_final = 2 * y_pred_final - 1   # converts 0→-1, 1→1\n",
    "\n",
    "create_csv_submission(test_ids, y_pred_final, \"ModelOHE3MVNC_preds.csv\")"
   ]
  },
  {
   "cell_type": "code",
   "execution_count": null,
   "id": "f303c970-65f7-45a4-aafa-3ba6fc7143f5",
   "metadata": {},
   "outputs": [],
   "source": []
  }
 ],
 "metadata": {
  "kernelspec": {
   "display_name": "Python 3 (ipykernel)",
   "language": "python",
   "name": "python3"
  },
  "language_info": {
   "codemirror_mode": {
    "name": "ipython",
    "version": 3
   },
   "file_extension": ".py",
   "mimetype": "text/x-python",
   "name": "python",
   "nbconvert_exporter": "python",
   "pygments_lexer": "ipython3",
   "version": "3.13.5"
  }
 },
 "nbformat": 4,
 "nbformat_minor": 5
}
