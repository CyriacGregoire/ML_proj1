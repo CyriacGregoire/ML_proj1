{
 "cells": [
  {
   "cell_type": "markdown",
   "id": "e148edbe-d1ba-42e3-bd2d-3e7ae338b298",
   "metadata": {},
   "source": [
    "# Model ...\n",
    "We continue here a series of models where we base our training in doing a stratified split into training, validation and test set, maintaining \n",
    "the same balance of classes for each one. The hyperparameter tuning is done via a grid search, and using the validation set. We try here different\n",
    "hyperparameter values for the balancing (according to good results in other similar models), and we fix the lambda at 1e-8, as it has worked well in previous models.\n",
    "In this model we try to improve the previous best one by imputing NaNs in categorical features as -1 (creating a \"Missing Category), and also by\n",
    "being less restrictive with the NaN threshold (we remove features with more than 40% NaN, whereas before it was 20%)"
   ]
  },
  {
   "cell_type": "code",
   "execution_count": 1,
   "id": "eaded5ba-d2e7-413f-95f0-fd2dda0cae84",
   "metadata": {},
   "outputs": [
    {
     "data": {
      "text/plain": [
       "'\\nChanges from OHE3:\\n-We impute categorical NaN as -1(missing value category)\\n-We remove features with more than a 40% NaN(instead of 20%)\\n'"
      ]
     },
     "execution_count": 1,
     "metadata": {},
     "output_type": "execute_result"
    }
   ],
   "source": [
    "\"\"\"\n",
    "Changes from OHE3:\n",
    "-We impute categorical NaN as -1(missing value category)\n",
    "-We remove features with more than a 40% NaN(instead of 20%)\n",
    "\"\"\""
   ]
  },
  {
   "cell_type": "code",
   "execution_count": 2,
   "id": "6e573548-4263-465b-a59d-889d84e5828b",
   "metadata": {},
   "outputs": [],
   "source": [
    "%load_ext autoreload\n",
    "%autoreload 2\n",
    "import numpy as np\n",
    "import matplotlib.pyplot as plt\n",
    "from implementations import *\n",
    "from Data_cleaning import *\n",
    "from helpers import *\n",
    "from exploratory_data_analysis import *\n",
    "from preprocessing import *"
   ]
  },
  {
   "cell_type": "markdown",
   "id": "79722ee2-b51b-4412-9771-95593bf87429",
   "metadata": {},
   "source": [
    "First of all, we load the data. x_train is the data we will use to train the model, x_test the one to create the submission."
   ]
  },
  {
   "cell_type": "code",
   "execution_count": 3,
   "id": "adfcc5cb-2547-473e-9262-593fbee3a4a5",
   "metadata": {},
   "outputs": [],
   "source": [
    "x_train, x_test, y_train, train_ids, test_ids = load_csv_data(\"data\\dataset\\dataset\")"
   ]
  },
  {
   "cell_type": "markdown",
   "id": "3d53585d-498d-4f94-8a9f-c9536abaf648",
   "metadata": {},
   "source": [
    "Then we convert the output labels from {-1, 1} to {0, 1}, to make them suitable to our functions."
   ]
  },
  {
   "cell_type": "code",
   "execution_count": 4,
   "id": "9f19f029-3fe3-48df-85db-dc014737c360",
   "metadata": {},
   "outputs": [],
   "source": [
    "Y_tr = (y_train + 1) / 2"
   ]
  },
  {
   "cell_type": "markdown",
   "id": "e62d1338-ea9f-40c1-a1f6-258f1305993e",
   "metadata": {},
   "source": [
    "Here we remove the featuers(columns) that present more than a 40% of NaNs\n",
    "keep mask is a 1D array (dtype = bool, shape = (# of columns,), with keep_mask[i] = 1 if feature i has less than a 40% NaNs\n",
    "We have to apply all changes we do do the test data for the submission too."
   ]
  },
  {
   "cell_type": "code",
   "execution_count": 5,
   "id": "69d58fdf-796a-41dd-9857-a676370eecc8",
   "metadata": {},
   "outputs": [],
   "source": [
    "X_train, keep_mask = remove_nan_features(x_train, 0.4)\n",
    "X_test = x_test[:, keep_mask]"
   ]
  },
  {
   "cell_type": "markdown",
   "id": "13b406e4-1b77-40c8-ae15-ff92dacfb316",
   "metadata": {},
   "source": [
    "We check the shapes of our data to see they coincide in columns"
   ]
  },
  {
   "cell_type": "code",
   "execution_count": 6,
   "id": "45214764-37e8-4a92-ab22-603a3e797839",
   "metadata": {},
   "outputs": [
    {
     "name": "stdout",
     "output_type": "stream",
     "text": [
      "(328135, 163) (109379, 163)\n"
     ]
    }
   ],
   "source": [
    "print(X_train.shape, X_test.shape)"
   ]
  },
  {
   "cell_type": "markdown",
   "id": "fdc8c967-844b-4f11-8a98-cc63f1837b6d",
   "metadata": {},
   "source": [
    "We detect the categorical features in our data, i.e the ones that take less than 10 values in this case. \n",
    "cat_mask and num_mask keep track of catgeorical and numerical features respectively, they both have shape(163,)"
   ]
  },
  {
   "cell_type": "code",
   "execution_count": 7,
   "id": "f5d91fe6-36ff-455d-a56d-9128db2f1d38",
   "metadata": {},
   "outputs": [],
   "source": [
    "cat_mask, num_mask = detect_categorical_features(X_train, max_unique=10)"
   ]
  },
  {
   "cell_type": "markdown",
   "id": "75e39604-647a-4023-a73b-1b6e522be7db",
   "metadata": {},
   "source": [
    "We check the number of categorical features we have as well as the numericals."
   ]
  },
  {
   "cell_type": "code",
   "execution_count": 8,
   "id": "6b204aa2-3314-48bb-8bc4-31df9baf60f1",
   "metadata": {},
   "outputs": [
    {
     "name": "stdout",
     "output_type": "stream",
     "text": [
      "102 61\n"
     ]
    }
   ],
   "source": [
    "print(np.sum(cat_mask), np.sum(num_mask))"
   ]
  },
  {
   "cell_type": "markdown",
   "id": "e4cf60d2-6623-4892-ad93-251534230b9e",
   "metadata": {},
   "source": [
    "We separate our training data into training, validation and test, keeping the same balance of classes in each set(i.e \n",
    "in every set there is the same ratio of data points with output 1)"
   ]
  },
  {
   "cell_type": "code",
   "execution_count": 9,
   "id": "7abeb201-81b0-42c8-be04-d5e838728f9f",
   "metadata": {},
   "outputs": [],
   "source": [
    "x_tr, y_tr, x_va, y_va, x_te, y_te = stratified_three_way_split(X_train, Y_tr)"
   ]
  },
  {
   "cell_type": "code",
   "execution_count": 10,
   "id": "f52657ef-a06b-48b3-9604-553bdf3c2030",
   "metadata": {},
   "outputs": [
    {
     "name": "stdout",
     "output_type": "stream",
     "text": [
      "(328135, 163) (229695, 163) (229695,) (49220, 163) (49220,) (49220, 163) (49220,)\n"
     ]
    }
   ],
   "source": [
    "print(X_train.shape, x_tr.shape, y_tr.shape, x_va.shape, y_va.shape, x_te.shape, y_te.shape)"
   ]
  },
  {
   "cell_type": "markdown",
   "id": "29b9a6f8-6708-442f-bc21-946161df866c",
   "metadata": {},
   "source": [
    "We impute NaN values"
   ]
  },
  {
   "cell_type": "code",
   "execution_count": 11,
   "id": "029090c6-776a-4d19-ba96-6706ce90ae9e",
   "metadata": {},
   "outputs": [],
   "source": [
    "# Numerical imputation (compute medians from training data)\n",
    "x_tr_imp, medians = impute_numerical(x_tr, num_mask)\n",
    "# Apply same medians to val/test\n",
    "x_va_imp, _ = impute_numerical(x_va, num_mask, medians)\n",
    "x_te_imp, _ = impute_numerical(x_te, num_mask, medians)\n",
    "x_test_imp, _ = impute_numerical(X_test, num_mask, medians)\n",
    "# Categorical imputation (add -1 (missing category) to categorical features)\n",
    "x_tr_imp = impute_categorical_missing_code(x_tr_imp, cat_mask)\n",
    "x_va_imp = impute_categorical_missing_code(x_va_imp, cat_mask)\n",
    "x_te_imp = impute_categorical_missing_code(x_te_imp, cat_mask)\n",
    "x_test_imp = impute_categorical_missing_code(x_test_imp, cat_mask)"
   ]
  },
  {
   "cell_type": "markdown",
   "id": "6e45b201-f8e2-40df-b5b6-986007114e51",
   "metadata": {},
   "source": [
    "We check if there are any remaining NaN values"
   ]
  },
  {
   "cell_type": "code",
   "execution_count": 12,
   "id": "42074bd4-7a55-4e44-a3fd-1f2fd4185230",
   "metadata": {},
   "outputs": [
    {
     "name": "stdout",
     "output_type": "stream",
     "text": [
      "0 0 0 0\n"
     ]
    }
   ],
   "source": [
    "# Check for any remaining NaN values\n",
    "print(np.isnan(x_tr_imp).sum(),\n",
    "      np.isnan(x_va_imp).sum(),\n",
    "      np.isnan(x_te_imp).sum(), np.isnan(x_test_imp).sum())"
   ]
  },
  {
   "cell_type": "markdown",
   "id": "818c96d6-25f6-49ac-bb2f-dd188327e1b9",
   "metadata": {},
   "source": [
    "We check for outliers for numerical features, using interquartilic range. outlier_mask is true if there is an outlier, and outlier_count is \n",
    "a vector of shape (163,) such that outlier_counts[i] is the number of outliers for column i."
   ]
  },
  {
   "cell_type": "code",
   "execution_count": 13,
   "id": "133cdd61-778b-46cc-b931-d1b3939f9eb8",
   "metadata": {},
   "outputs": [
    {
     "data": {
      "image/png": "[encoded data removed]",
      "text/plain": [
       "<Figure size 600x400 with 1 Axes>"
      ]
     },
     "metadata": {},
     "output_type": "display_data"
    }
   ],
   "source": [
    "outlier_mask, outlier_counts = detect_outliers(x_tr_imp, num_mask, threshold=1.5, plot=True)"
   ]
  },
  {
   "cell_type": "markdown",
   "id": "415e953d-3074-43f0-b13b-344de9353bdd",
   "metadata": {},
   "source": [
    "We now compute the percentage of outliers"
   ]
  },
  {
   "cell_type": "code",
   "execution_count": 14,
   "id": "7eb6b92f-7d50-4ebf-bc42-2793eb059291",
   "metadata": {},
   "outputs": [],
   "source": [
    "outlier_pctg = outlier_counts / x_tr_imp.shape[0]"
   ]
  },
  {
   "cell_type": "markdown",
   "id": "63ca2226-180b-4d22-b0bb-7328500596c5",
   "metadata": {},
   "source": [
    "We set a threshold, and we drop the fatures that have a percentage of outliers bigger than such threshold. We set a new \n",
    "numerical mask, with the numerical features we have to keep."
   ]
  },
  {
   "cell_type": "code",
   "execution_count": 15,
   "id": "dc8e32f6-7bc3-447d-91d5-05b49c3ce996",
   "metadata": {},
   "outputs": [],
   "source": [
    "drop_threshold = 0.1\n",
    "new_num_mask = outlier_pctg < drop_threshold\n"
   ]
  },
  {
   "cell_type": "markdown",
   "id": "c39d1110-ed4f-478b-a8ed-c928503271a3",
   "metadata": {},
   "source": [
    "We create keep_mask, it will be a boolean type vector with all ones and 0 in the indexes of the features with more than \n",
    "10% outliers."
   ]
  },
  {
   "cell_type": "code",
   "execution_count": 16,
   "id": "cc608c57-c975-4d73-a0e4-a4b6aa3b494b",
   "metadata": {},
   "outputs": [],
   "source": [
    "keep_mask = np.ones(x_tr_imp.shape[1], dtype=bool)\n",
    "num_indices = np.where(num_mask)[0]\n",
    "keep_mask[num_indices] = new_num_mask"
   ]
  },
  {
   "cell_type": "markdown",
   "id": "405acbf3-9d60-47f2-88ed-cbde4d3405d9",
   "metadata": {},
   "source": [
    "We then update the data so that it does not contain the features we have just dropped.\n",
    "We also update the masks, to know at every moment which of our features are categorical and which are numerical."
   ]
  },
  {
   "cell_type": "code",
   "execution_count": 17,
   "id": "f9c3910a-3047-4db3-91e7-dbea6d0f92a7",
   "metadata": {},
   "outputs": [],
   "source": [
    "x_tr_filt = x_tr_imp[:, keep_mask]\n",
    "x_va_filt = x_va_imp[:, keep_mask]\n",
    "x_te_filt = x_te_imp[:, keep_mask]\n",
    "x_test_filt = x_test_imp[:, keep_mask]\n",
    "num_mask = num_mask[keep_mask]\n",
    "cat_mask = cat_mask[keep_mask]"
   ]
  },
  {
   "cell_type": "code",
   "execution_count": 18,
   "id": "040c2026-86ba-41a2-84aa-f695548a103d",
   "metadata": {},
   "outputs": [
    {
     "name": "stdout",
     "output_type": "stream",
     "text": [
      "39 102\n"
     ]
    }
   ],
   "source": [
    "print(np.sum(num_mask), np.sum(cat_mask))"
   ]
  },
  {
   "cell_type": "markdown",
   "id": "4f82e1be-80e6-4ca0-a721-d3eb9d8a55ed",
   "metadata": {},
   "source": [
    "We turn the categorical features into categories, if a features has k categories , it creates k - 1 binary features, to avoid perfect collinearity."
   ]
  },
  {
   "cell_type": "code",
   "execution_count": 19,
   "id": "23c0c8cb-0db2-4b3f-b4b4-8fd42f9294c6",
   "metadata": {},
   "outputs": [],
   "source": [
    "x_tr_enc, categories = one_hot_encode(x_tr_filt, cat_mask, drop_first=True)\n",
    "\n",
    "# Apply the same categories to validation and test data\n",
    "x_va_enc, _ = one_hot_encode(x_va_filt, cat_mask, categories, drop_first=True)\n",
    "x_te_enc, _ = one_hot_encode(x_te_filt, cat_mask, categories, drop_first=True)\n",
    "x_test_enc, _ = one_hot_encode(x_test_filt, cat_mask, categories, drop_first=True)"
   ]
  },
  {
   "cell_type": "code",
   "execution_count": 20,
   "id": "a3852be6-87f7-4b43-a1cf-ff30b1fdbedc",
   "metadata": {},
   "outputs": [
    {
     "name": "stdout",
     "output_type": "stream",
     "text": [
      "(229695, 405) (49220, 405) (49220, 405) (109379, 405)\n"
     ]
    }
   ],
   "source": [
    "print(x_tr_enc.shape, x_va_enc.shape, x_te_enc.shape, x_test_enc.shape) "
   ]
  },
  {
   "cell_type": "markdown",
   "id": "9d004b03-a9aa-4773-81f4-18c7f43e849f",
   "metadata": {},
   "source": [
    "Now we have more categorical features (binary), so we redo the masks."
   ]
  },
  {
   "cell_type": "code",
   "execution_count": 21,
   "id": "54615648-38c5-4a51-b314-d83975edd699",
   "metadata": {},
   "outputs": [],
   "source": [
    "cat_mask_enc, num_mask_enc = detect_categorical_features(x_tr_enc, max_unique=10)"
   ]
  },
  {
   "cell_type": "markdown",
   "id": "cda31ff1-22ab-4d9a-96f5-a4cb81c458dd",
   "metadata": {},
   "source": [
    "We check the number of categorical features."
   ]
  },
  {
   "cell_type": "code",
   "execution_count": 22,
   "id": "1ffed2d1-398e-4025-b900-50386c6fef1b",
   "metadata": {},
   "outputs": [
    {
     "name": "stdout",
     "output_type": "stream",
     "text": [
      "366 39\n"
     ]
    }
   ],
   "source": [
    "print(np.sum(cat_mask_enc), np.sum(num_mask_enc))"
   ]
  },
  {
   "cell_type": "code",
   "execution_count": 23,
   "id": "b38adefb-9f50-4ad6-9668-8dfddc0c77d8",
   "metadata": {},
   "outputs": [
    {
     "name": "stdout",
     "output_type": "stream",
     "text": [
      "0.0\n",
      "1.0\n"
     ]
    }
   ],
   "source": [
    "#Quick check to see that the categorical features are actually binary.\n",
    "print(np.min(x_tr_enc[:,cat_mask_enc]))\n",
    "print(np.max(x_tr_enc[:,cat_mask_enc]))"
   ]
  },
  {
   "cell_type": "markdown",
   "id": "b444e57e-1cec-4e1d-b6ec-5f61eb5144fa",
   "metadata": {},
   "source": [
    "Now we standarize the numerical data, using training means and stds to standarize validation and test sets."
   ]
  },
  {
   "cell_type": "code",
   "execution_count": 24,
   "id": "b701e560-cdf7-4900-aae7-793bab8dce45",
   "metadata": {},
   "outputs": [],
   "source": [
    "x_tr_std, means, stds = standardize_features(x_tr_enc, num_mask_enc)\n",
    "x_va_std, _, _ = standardize_features(x_va_enc, num_mask_enc, means, stds)\n",
    "x_te_std, _, _ = standardize_features(x_te_enc, num_mask_enc, means, stds)\n",
    "x_test_std, _, _ = standardize_features(x_test_enc, num_mask_enc, means, stds)"
   ]
  },
  {
   "cell_type": "markdown",
   "id": "bd6c6eb8-eceb-41b6-be06-7834edb98305",
   "metadata": {},
   "source": [
    "We compute the correlation between the fatures and the output, and betweent the features (correlation matrix)."
   ]
  },
  {
   "cell_type": "code",
   "execution_count": 25,
   "id": "695d5275-7568-42b4-87fd-bd6f0ee40f29",
   "metadata": {},
   "outputs": [],
   "source": [
    "corr_y = feature_target_correlation(x_tr_std, y_tr)\n",
    "corr_mat = correlation_matrix(x_tr_std)"
   ]
  },
  {
   "cell_type": "markdown",
   "id": "95080f32-ac10-4487-9464-086bb423549e",
   "metadata": {},
   "source": [
    "If two features are very correlated (more than threshold), we eliminate the one less correlated with the output."
   ]
  },
  {
   "cell_type": "code",
   "execution_count": 27,
   "id": "690baf99-7e59-4378-941e-3f79bbe4ff62",
   "metadata": {},
   "outputs": [],
   "source": [
    "threshold = 0.9\n",
    "to_drop = set()\n",
    "\n",
    "for i in range(corr_mat.shape[0]):\n",
    "    for j in range(i + 1, corr_mat.shape[1]):\n",
    "        if abs(corr_mat[i, j]) > threshold:\n",
    "            # Compare correlation with y\n",
    "            if abs(corr_y[i]) < abs(corr_y[j]):\n",
    "                to_drop.add(i)\n",
    "            else:\n",
    "                to_drop.add(j)\n",
    "\n",
    "keep_mask_inter = np.ones(x_tr_std.shape[1], dtype=bool)\n",
    "keep_mask_inter[list(to_drop)] = False\n",
    "\n"
   ]
  },
  {
   "cell_type": "markdown",
   "id": "488af2f4-4c63-4f27-ad51-ab94f634b6ad",
   "metadata": {},
   "source": [
    "We define the final data matrices, excluding the features we have just dropped."
   ]
  },
  {
   "cell_type": "code",
   "execution_count": 28,
   "id": "dec9d748-5a6a-4a63-8ca1-7d65a0cb78d5",
   "metadata": {},
   "outputs": [],
   "source": [
    "x_tr_final = x_tr_std[:, keep_mask_inter]\n",
    "x_va_final = x_va_std[:, keep_mask_inter]\n",
    "x_te_final = x_te_std[:, keep_mask_inter]\n",
    "x_test_final = x_test_std[:, keep_mask_inter]"
   ]
  },
  {
   "cell_type": "code",
   "execution_count": 29,
   "id": "cdffe2a2-1e76-44e6-9966-1ad7f0d00a74",
   "metadata": {},
   "outputs": [
    {
     "name": "stdout",
     "output_type": "stream",
     "text": [
      "Dropped (high intercorrelation): 88\n",
      "Remaining features: 317\n"
     ]
    }
   ],
   "source": [
    "print(\"Dropped (high intercorrelation):\", np.sum(~keep_mask_inter))\n",
    "print(\"Remaining features:\", x_tr_final.shape[1])"
   ]
  },
  {
   "cell_type": "markdown",
   "id": "c22a2b0f-f5a8-41b2-99d9-d52c65e2dd05",
   "metadata": {},
   "source": [
    "We now do a grid search to tune our hyperparameters, which are lambda(regularizing term), pos_weights(weights assigned to the loss function to \n",
    "balance the data), and threshold, which stands for the number from which we will predict 1 in our model."
   ]
  },
  {
   "cell_type": "code",
   "execution_count": 37,
   "id": "b7b366ee-628d-48ab-a899-49743e3d1b5c",
   "metadata": {},
   "outputs": [
    {
     "name": "stdout",
     "output_type": "stream",
     "text": [
      "\n",
      "=== Run 1/4 (pos_weight=6.5, lambda_=1e-08) ===\n",
      "New best F1 = 0.3751 (threshold = 0.50)\n",
      "New best F1 = 0.3757 (threshold = 0.50)\n",
      "New best F1 = 0.3760 (threshold = 0.50)\n",
      "New best F1 = 0.3763 (threshold = 0.50)\n",
      "New best F1 = 0.3768 (threshold = 0.50)\n",
      "New best F1 = 0.3770 (threshold = 0.51)\n",
      "New best F1 = 0.3772 (threshold = 0.51)\n",
      "New best F1 = 0.3776 (threshold = 0.51)\n",
      "New best F1 = 0.3778 (threshold = 0.51)\n",
      "New best F1 = 0.3782 (threshold = 0.51)\n",
      "New best F1 = 0.3782 (threshold = 0.51)\n",
      "New best F1 = 0.3783 (threshold = 0.51)\n",
      "New best F1 = 0.3788 (threshold = 0.51)\n",
      "New best F1 = 0.3789 (threshold = 0.51)\n",
      "New best F1 = 0.3794 (threshold = 0.51)\n",
      "New best F1 = 0.3798 (threshold = 0.52)\n",
      "New best F1 = 0.3800 (threshold = 0.52)\n",
      "New best F1 = 0.3802 (threshold = 0.52)\n",
      "New best F1 = 0.3806 (threshold = 0.52)\n",
      "New best F1 = 0.3811 (threshold = 0.52)\n",
      "New best F1 = 0.3815 (threshold = 0.52)\n",
      "New best F1 = 0.3818 (threshold = 0.52)\n",
      "New best F1 = 0.3822 (threshold = 0.52)\n",
      "New best F1 = 0.3826 (threshold = 0.52)\n",
      "New best F1 = 0.3829 (threshold = 0.52)\n",
      "New best F1 = 0.3832 (threshold = 0.53)\n",
      "New best F1 = 0.3835 (threshold = 0.53)\n",
      "New best F1 = 0.3840 (threshold = 0.53)\n",
      "New best F1 = 0.3845 (threshold = 0.53)\n",
      "New best F1 = 0.3845 (threshold = 0.53)\n",
      "New best F1 = 0.3846 (threshold = 0.53)\n",
      "New best F1 = 0.3847 (threshold = 0.53)\n",
      "New best F1 = 0.3850 (threshold = 0.53)\n",
      "New best F1 = 0.3857 (threshold = 0.53)\n",
      "New best F1 = 0.3859 (threshold = 0.54)\n",
      "New best F1 = 0.3861 (threshold = 0.54)\n",
      "New best F1 = 0.3863 (threshold = 0.54)\n",
      "New best F1 = 0.3867 (threshold = 0.54)\n",
      "New best F1 = 0.3872 (threshold = 0.54)\n",
      "New best F1 = 0.3877 (threshold = 0.54)\n",
      "New best F1 = 0.3880 (threshold = 0.54)\n",
      "New best F1 = 0.3882 (threshold = 0.54)\n",
      "New best F1 = 0.3889 (threshold = 0.55)\n",
      "New best F1 = 0.3895 (threshold = 0.55)\n",
      "New best F1 = 0.3899 (threshold = 0.55)\n",
      "New best F1 = 0.3903 (threshold = 0.55)\n",
      "New best F1 = 0.3906 (threshold = 0.55)\n",
      "New best F1 = 0.3910 (threshold = 0.55)\n",
      "New best F1 = 0.3911 (threshold = 0.55)\n",
      "New best F1 = 0.3911 (threshold = 0.56)\n",
      "New best F1 = 0.3915 (threshold = 0.56)\n",
      "New best F1 = 0.3922 (threshold = 0.56)\n",
      "New best F1 = 0.3927 (threshold = 0.56)\n",
      "New best F1 = 0.3928 (threshold = 0.56)\n",
      "New best F1 = 0.3930 (threshold = 0.56)\n",
      "New best F1 = 0.3935 (threshold = 0.57)\n",
      "New best F1 = 0.3938 (threshold = 0.57)\n",
      "New best F1 = 0.3939 (threshold = 0.57)\n",
      "New best F1 = 0.3942 (threshold = 0.57)\n",
      "New best F1 = 0.3943 (threshold = 0.58)\n",
      "New best F1 = 0.3950 (threshold = 0.58)\n",
      "New best F1 = 0.3953 (threshold = 0.58)\n",
      "New best F1 = 0.3957 (threshold = 0.58)\n",
      "New best F1 = 0.3959 (threshold = 0.58)\n",
      "New best F1 = 0.3964 (threshold = 0.58)\n",
      "New best F1 = 0.3965 (threshold = 0.58)\n",
      "New best F1 = 0.3966 (threshold = 0.58)\n",
      "New best F1 = 0.3970 (threshold = 0.58)\n",
      "New best F1 = 0.3973 (threshold = 0.58)\n",
      "New best F1 = 0.3975 (threshold = 0.59)\n",
      "New best F1 = 0.3978 (threshold = 0.59)\n",
      "New best F1 = 0.3983 (threshold = 0.59)\n",
      "New best F1 = 0.3985 (threshold = 0.59)\n",
      "New best F1 = 0.3987 (threshold = 0.59)\n",
      "New best F1 = 0.3988 (threshold = 0.59)\n",
      "New best F1 = 0.3990 (threshold = 0.59)\n",
      "New best F1 = 0.3991 (threshold = 0.60)\n",
      "New best F1 = 0.3994 (threshold = 0.60)\n",
      "New best F1 = 0.3995 (threshold = 0.60)\n",
      "New best F1 = 0.3998 (threshold = 0.60)\n",
      "New best F1 = 0.3999 (threshold = 0.60)\n",
      "New best F1 = 0.4001 (threshold = 0.60)\n",
      "New best F1 = 0.4005 (threshold = 0.60)\n",
      "New best F1 = 0.4006 (threshold = 0.60)\n",
      "New best F1 = 0.4011 (threshold = 0.61)\n",
      "New best F1 = 0.4017 (threshold = 0.61)\n",
      "New best F1 = 0.4021 (threshold = 0.61)\n",
      "New best F1 = 0.4023 (threshold = 0.61)\n",
      "New best F1 = 0.4029 (threshold = 0.61)\n",
      "New best F1 = 0.4034 (threshold = 0.61)\n",
      "New best F1 = 0.4036 (threshold = 0.61)\n",
      "New best F1 = 0.4043 (threshold = 0.61)\n",
      "New best F1 = 0.4045 (threshold = 0.61)\n",
      "New best F1 = 0.4046 (threshold = 0.62)\n",
      "New best F1 = 0.4048 (threshold = 0.62)\n",
      "New best F1 = 0.4051 (threshold = 0.62)\n",
      "New best F1 = 0.4053 (threshold = 0.63)\n",
      "New best F1 = 0.4054 (threshold = 0.63)\n",
      "New best F1 = 0.4057 (threshold = 0.63)\n",
      "New best F1 = 0.4060 (threshold = 0.63)\n",
      "New best F1 = 0.4060 (threshold = 0.63)\n",
      "New best F1 = 0.4067 (threshold = 0.64)\n",
      "New best F1 = 0.4070 (threshold = 0.64)\n",
      "New best F1 = 0.4070 (threshold = 0.64)\n",
      "New best F1 = 0.4073 (threshold = 0.64)\n",
      "New best F1 = 0.4074 (threshold = 0.64)\n",
      "New best F1 = 0.4075 (threshold = 0.64)\n",
      "New best F1 = 0.4076 (threshold = 0.64)\n",
      "New best F1 = 0.4078 (threshold = 0.65)\n",
      "New best F1 = 0.4079 (threshold = 0.65)\n",
      "New best F1 = 0.4079 (threshold = 0.65)\n",
      "New best F1 = 0.4080 (threshold = 0.65)\n",
      "New best F1 = 0.4081 (threshold = 0.65)\n",
      "New best F1 = 0.4084 (threshold = 0.66)\n",
      "New best F1 = 0.4086 (threshold = 0.66)\n",
      "New best F1 = 0.4092 (threshold = 0.66)\n",
      "New best F1 = 0.4095 (threshold = 0.66)\n",
      "New best F1 = 0.4100 (threshold = 0.66)\n",
      "New best F1 = 0.4102 (threshold = 0.66)\n",
      "New best F1 = 0.4106 (threshold = 0.66)\n",
      "New best F1 = 0.4108 (threshold = 0.66)\n",
      "New best F1 = 0.4111 (threshold = 0.67)\n",
      "New best F1 = 0.4112 (threshold = 0.67)\n",
      "New best F1 = 0.4117 (threshold = 0.67)\n",
      "New best F1 = 0.4117 (threshold = 0.67)\n",
      "New best F1 = 0.4125 (threshold = 0.67)\n",
      "New best F1 = 0.4133 (threshold = 0.67)\n",
      "New best F1 = 0.4138 (threshold = 0.67)\n",
      "New best F1 = 0.4145 (threshold = 0.68)\n",
      "New best F1 = 0.4145 (threshold = 0.68)\n",
      "New best F1 = 0.4148 (threshold = 0.68)\n",
      "New best F1 = 0.4151 (threshold = 0.68)\n",
      "New best F1 = 0.4153 (threshold = 0.68)\n",
      "New best F1 = 0.4158 (threshold = 0.68)\n",
      "New best F1 = 0.4162 (threshold = 0.68)\n",
      "New best F1 = 0.4167 (threshold = 0.69)\n",
      "New best F1 = 0.4169 (threshold = 0.69)\n",
      "New best F1 = 0.4169 (threshold = 0.69)\n",
      "New best F1 = 0.4170 (threshold = 0.69)\n",
      "New best F1 = 0.4174 (threshold = 0.70)\n",
      "New best F1 = 0.4178 (threshold = 0.70)\n",
      "New best F1 = 0.4184 (threshold = 0.70)\n",
      "New best F1 = 0.4194 (threshold = 0.70)\n",
      "New best F1 = 0.4195 (threshold = 0.71)\n",
      "New best F1 = 0.4196 (threshold = 0.71)\n",
      "New best F1 = 0.4199 (threshold = 0.71)\n",
      "New best F1 = 0.4203 (threshold = 0.71)\n",
      "New best F1 = 0.4204 (threshold = 0.71)\n",
      "New best F1 = 0.4207 (threshold = 0.72)\n",
      "New best F1 = 0.4209 (threshold = 0.72)\n",
      "New best F1 = 0.4214 (threshold = 0.73)\n",
      "New best F1 = 0.4217 (threshold = 0.74)\n",
      "New best F1 = 0.4218 (threshold = 0.75)\n",
      "\n",
      "=== Run 2/4 (pos_weight=7, lambda_=1e-08) ===\n",
      "\n",
      "=== Run 3/4 (pos_weight=8.5, lambda_=1e-08) ===\n",
      "\n",
      "=== Run 4/4 (pos_weight=9.5, lambda_=1e-08) ===\n",
      "\n",
      "=== Grid Search Complete ===\n",
      "Best F1 = 0.4218 at pos_weight=6.5, λ=1e-08, threshold=0.7476190476190476\n"
     ]
    }
   ],
   "source": [
    "best_params, best_f1, results = grid_search(\n",
    "    y_tr, x_tr_final,\n",
    "    y_va, x_va_final,\n",
    "    pos_weights=[6.5, 7, 8.5, 9.5],\n",
    "    lambdas=[1e-8],\n",
    "    thresholds=np.linspace(0.5, 0.9, 400),\n",
    "    max_iter=10000,\n",
    "    gamma=0.5\n",
    ")\n"
   ]
  },
  {
   "cell_type": "markdown",
   "id": "d72b0dd0-0629-4f74-8222-2fcc2fb2dc92",
   "metadata": {},
   "source": [
    "We now unify the training and validation data to train the final model with the tuned hyperparameters."
   ]
  },
  {
   "cell_type": "code",
   "execution_count": 30,
   "id": "708f058b-afb4-4686-9795-eba2efd85d04",
   "metadata": {},
   "outputs": [],
   "source": [
    "X_final = np.vstack([x_tr_final, x_va_final])\n",
    "y_final = np.concatenate([y_tr, y_va])\n"
   ]
  },
  {
   "cell_type": "markdown",
   "id": "514b4f18-b4d2-4cfd-af28-352760bfe8c1",
   "metadata": {},
   "source": [
    "We train the final model."
   ]
  },
  {
   "cell_type": "code",
   "execution_count": 31,
   "id": "0adc122e-7a93-430f-9231-2fbd06f0e175",
   "metadata": {},
   "outputs": [
    {
     "name": "stdout",
     "output_type": "stream",
     "text": [
      "Iter     0 | Loss = 0.693147 | GradNorm = 0.7272\n",
      "Iter   100 | Loss = 0.497236 | GradNorm = 0.5773\n",
      "Iter   200 | Loss = 0.483206 | GradNorm = 0.4983\n",
      "Iter   300 | Loss = 0.477520 | GradNorm = 0.4592\n",
      "Iter   400 | Loss = 0.474594 | GradNorm = 0.4368\n",
      "Iter   500 | Loss = 0.472920 | GradNorm = 0.4232\n",
      "Iter   600 | Loss = 0.471888 | GradNorm = 0.4146\n",
      "Iter   700 | Loss = 0.471212 | GradNorm = 0.4089\n",
      "Iter   800 | Loss = 0.470744 | GradNorm = 0.4051\n",
      "Iter   900 | Loss = 0.470403 | GradNorm = 0.4023\n",
      "Iter  1000 | Loss = 0.470143 | GradNorm = 0.4002\n",
      "Iter  1100 | Loss = 0.469936 | GradNorm = 0.3986\n",
      "Iter  1200 | Loss = 0.469766 | GradNorm = 0.3973\n",
      "Iter  1300 | Loss = 0.469623 | GradNorm = 0.3962\n",
      "Iter  1400 | Loss = 0.469498 | GradNorm = 0.3952\n",
      "Iter  1500 | Loss = 0.469389 | GradNorm = 0.3944\n",
      "Iter  1600 | Loss = 0.469291 | GradNorm = 0.3937\n",
      "Iter  1700 | Loss = 0.469202 | GradNorm = 0.3930\n",
      "Iter  1800 | Loss = 0.469121 | GradNorm = 0.3924\n",
      "Iter  1900 | Loss = 0.469046 | GradNorm = 0.3918\n",
      "Iter  2000 | Loss = 0.468977 | GradNorm = 0.3913\n",
      "Iter  2100 | Loss = 0.468913 | GradNorm = 0.3908\n",
      "Iter  2200 | Loss = 0.468854 | GradNorm = 0.3904\n",
      "Iter  2300 | Loss = 0.468797 | GradNorm = 0.3899\n",
      "Iter  2400 | Loss = 0.468745 | GradNorm = 0.3895\n",
      "Iter  2500 | Loss = 0.468695 | GradNorm = 0.3892\n",
      "Iter  2600 | Loss = 0.468648 | GradNorm = 0.3888\n",
      "Iter  2700 | Loss = 0.468604 | GradNorm = 0.3885\n",
      "Iter  2800 | Loss = 0.468562 | GradNorm = 0.3881\n",
      "Iter  2900 | Loss = 0.468522 | GradNorm = 0.3878\n",
      "Iter  3000 | Loss = 0.468483 | GradNorm = 0.3875\n",
      "Iter  3100 | Loss = 0.468447 | GradNorm = 0.3872\n",
      "Iter  3200 | Loss = 0.468412 | GradNorm = 0.3870\n",
      "Iter  3300 | Loss = 0.468379 | GradNorm = 0.3867\n",
      "Iter  3400 | Loss = 0.468347 | GradNorm = 0.3865\n",
      "Iter  3500 | Loss = 0.468317 | GradNorm = 0.3862\n",
      "Iter  3600 | Loss = 0.468287 | GradNorm = 0.3860\n",
      "Iter  3700 | Loss = 0.468259 | GradNorm = 0.3858\n",
      "Iter  3800 | Loss = 0.468232 | GradNorm = 0.3856\n",
      "Iter  3900 | Loss = 0.468206 | GradNorm = 0.3854\n",
      "Iter  4000 | Loss = 0.468180 | GradNorm = 0.3852\n",
      "Iter  4100 | Loss = 0.468156 | GradNorm = 0.3850\n",
      "Iter  4200 | Loss = 0.468133 | GradNorm = 0.3848\n",
      "Iter  4300 | Loss = 0.468110 | GradNorm = 0.3846\n",
      "Iter  4400 | Loss = 0.468088 | GradNorm = 0.3845\n",
      "Iter  4500 | Loss = 0.468067 | GradNorm = 0.3843\n",
      "Iter  4600 | Loss = 0.468046 | GradNorm = 0.3841\n",
      "Iter  4700 | Loss = 0.468026 | GradNorm = 0.3840\n",
      "Iter  4800 | Loss = 0.468006 | GradNorm = 0.3838\n",
      "Iter  4900 | Loss = 0.467987 | GradNorm = 0.3837\n",
      "Iter  5000 | Loss = 0.467969 | GradNorm = 0.3835\n",
      "Iter  5100 | Loss = 0.467951 | GradNorm = 0.3834\n",
      "Iter  5200 | Loss = 0.467934 | GradNorm = 0.3833\n",
      "Iter  5300 | Loss = 0.467917 | GradNorm = 0.3831\n",
      "Iter  5400 | Loss = 0.467900 | GradNorm = 0.3830\n",
      "Iter  5500 | Loss = 0.467884 | GradNorm = 0.3829\n",
      "Iter  5600 | Loss = 0.467869 | GradNorm = 0.3828\n",
      "Iter  5700 | Loss = 0.467853 | GradNorm = 0.3826\n",
      "Iter  5800 | Loss = 0.467839 | GradNorm = 0.3825\n",
      "Iter  5900 | Loss = 0.467824 | GradNorm = 0.3824\n",
      "Iter  6000 | Loss = 0.467810 | GradNorm = 0.3823\n",
      "Iter  6100 | Loss = 0.467796 | GradNorm = 0.3822\n",
      "Iter  6200 | Loss = 0.467782 | GradNorm = 0.3821\n",
      "Iter  6300 | Loss = 0.467769 | GradNorm = 0.3820\n",
      "Iter  6400 | Loss = 0.467756 | GradNorm = 0.3819\n",
      "Iter  6500 | Loss = 0.467743 | GradNorm = 0.3818\n",
      "Iter  6600 | Loss = 0.467731 | GradNorm = 0.3817\n",
      "Iter  6700 | Loss = 0.467719 | GradNorm = 0.3816\n",
      "Iter  6800 | Loss = 0.467707 | GradNorm = 0.3815\n",
      "Iter  6900 | Loss = 0.467695 | GradNorm = 0.3814\n",
      "Iter  7000 | Loss = 0.467683 | GradNorm = 0.3813\n",
      "Iter  7100 | Loss = 0.467672 | GradNorm = 0.3812\n",
      "Iter  7200 | Loss = 0.467661 | GradNorm = 0.3811\n",
      "Iter  7300 | Loss = 0.467650 | GradNorm = 0.3810\n",
      "Iter  7400 | Loss = 0.467640 | GradNorm = 0.3809\n",
      "Iter  7500 | Loss = 0.467629 | GradNorm = 0.3808\n",
      "Iter  7600 | Loss = 0.467619 | GradNorm = 0.3808\n",
      "Iter  7700 | Loss = 0.467609 | GradNorm = 0.3807\n",
      "Iter  7800 | Loss = 0.467599 | GradNorm = 0.3806\n",
      "Iter  7900 | Loss = 0.467589 | GradNorm = 0.3805\n",
      "Iter  8000 | Loss = 0.467580 | GradNorm = 0.3804\n",
      "Iter  8100 | Loss = 0.467570 | GradNorm = 0.3804\n",
      "Iter  8200 | Loss = 0.467561 | GradNorm = 0.3803\n",
      "Iter  8300 | Loss = 0.467552 | GradNorm = 0.3802\n",
      "Iter  8400 | Loss = 0.467543 | GradNorm = 0.3801\n",
      "Iter  8500 | Loss = 0.467534 | GradNorm = 0.3801\n",
      "Iter  8600 | Loss = 0.467525 | GradNorm = 0.3800\n",
      "Iter  8700 | Loss = 0.467517 | GradNorm = 0.3799\n",
      "Iter  8800 | Loss = 0.467509 | GradNorm = 0.3799\n",
      "Iter  8900 | Loss = 0.467500 | GradNorm = 0.3798\n",
      "Iter  9000 | Loss = 0.467492 | GradNorm = 0.3797\n",
      "Iter  9100 | Loss = 0.467484 | GradNorm = 0.3797\n",
      "Iter  9200 | Loss = 0.467476 | GradNorm = 0.3796\n",
      "Iter  9300 | Loss = 0.467469 | GradNorm = 0.3795\n",
      "Iter  9400 | Loss = 0.467461 | GradNorm = 0.3795\n",
      "Iter  9500 | Loss = 0.467454 | GradNorm = 0.3794\n",
      "Iter  9600 | Loss = 0.467446 | GradNorm = 0.3793\n",
      "Iter  9700 | Loss = 0.467439 | GradNorm = 0.3793\n",
      "Iter  9800 | Loss = 0.467432 | GradNorm = 0.3792\n",
      "Iter  9900 | Loss = 0.467425 | GradNorm = 0.3792\n",
      "Final training loss: 0.46804876652383454\n"
     ]
    }
   ],
   "source": [
    "best_lambda = 1e-8\n",
    "best_pos_weight = 6.5\n",
    "best_neg_weight = 1.0\n",
    "best_threshold = 0.7476190476190476\n",
    "\n",
    "final_loss, w_final = logistic_regression_weighted_gd(\n",
    "    y_final, X_final,\n",
    "    lambda_=best_lambda,\n",
    "    gamma=0.5,\n",
    "    pos_weight=best_pos_weight,\n",
    "    neg_weight=best_neg_weight,\n",
    "    max_iter=10000,\n",
    "    verbose=True\n",
    ")\n",
    "\n",
    "print(\"Final training loss:\", final_loss)\n"
   ]
  },
  {
   "cell_type": "markdown",
   "id": "c3e18cf3-becd-4144-ba21-65571f239c89",
   "metadata": {},
   "source": [
    "We check the accuracy and f1 score."
   ]
  },
  {
   "cell_type": "code",
   "execution_count": 32,
   "id": "8f3d675b-4919-4047-8171-11cc226e3ea2",
   "metadata": {},
   "outputs": [
    {
     "name": "stdout",
     "output_type": "stream",
     "text": [
      " Accuracy: 87.34%\n",
      " F1 Score: 0.4246\n"
     ]
    }
   ],
   "source": [
    "acc, f1 = evaluate_model(y_te, x_te_final, w_final, best_threshold)"
   ]
  },
  {
   "cell_type": "markdown",
   "id": "3530d9b3-0d64-498a-bf4b-0615fbbeaeb2",
   "metadata": {},
   "source": [
    "We show the confusion matrix to interpret the results."
   ]
  },
  {
   "cell_type": "code",
   "execution_count": 42,
   "id": "993ab2db-fe31-421f-80b0-177f3bc1b0a6",
   "metadata": {},
   "outputs": [
    {
     "name": "stdout",
     "output_type": "stream",
     "text": [
      "Confusion Matrix:\n",
      "[[40690  4184]\n",
      " [ 2047  2299]]\n",
      "TN=40690, FP=4184, FN=2047, TP=2299\n"
     ]
    },
    {
     "data": {
      "image/png": "[encoded data removed]",
      "text/plain": [
       "<Figure size 400x300 with 1 Axes>"
      ]
     },
     "metadata": {},
     "output_type": "display_data"
    }
   ],
   "source": [
    "preds, _ = predict_with_threshold(x_te_final, w_final, threshold=best_threshold)\n",
    "cm = confusion_matrix_numpy(y_te, preds)"
   ]
  },
  {
   "cell_type": "markdown",
   "id": "8e51091b-cfa4-4b3d-a0ad-d7b0e87a42f8",
   "metadata": {},
   "source": [
    "We create the submission."
   ]
  },
  {
   "cell_type": "code",
   "execution_count": 44,
   "id": "e1c0b086-adb4-4729-8ceb-e1292cb08410",
   "metadata": {},
   "outputs": [],
   "source": [
    "y_pred_final, _ = predict_with_threshold(x_test_final, w_final, best_threshold)\n",
    "y_pred_final = 2 * y_pred_final - 1   # converts 0→-1, 1→1\n",
    "\n",
    "create_csv_submission(test_ids, y_pred_final, \"ModelOHE3MVNC_preds.csv\")"
   ]
  }
 ],
 "metadata": {
  "kernelspec": {
   "display_name": "Python 3 (ipykernel)",
   "language": "python",
   "name": "python3"
  },
  "language_info": {
   "codemirror_mode": {
    "name": "ipython",
    "version": 3
   },
   "file_extension": ".py",
   "mimetype": "text/x-python",
   "name": "python",
   "nbconvert_exporter": "python",
   "pygments_lexer": "ipython3",
   "version": "3.13.5"
  }
 },
 "nbformat": 4,
 "nbformat_minor": 5
}
