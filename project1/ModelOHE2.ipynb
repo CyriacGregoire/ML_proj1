{
 "cells": [
  {
   "cell_type": "code",
   "execution_count": null,
   "id": "659f074a-0ad6-48b6-8922-6d69e1fec8ee",
   "metadata": {},
   "outputs": [],
   "source": [
    "\"\"\"\n",
    "Changes from OHE: \n",
    "-Here we drop features based on low correlation with the target(0.1 threshold whereas in OHE was 0.2)\n",
    "-We drop correlated features(the one of the two less correlated with the target) from 0.9 correlation(before was 0.85)\n",
    "-Here we just try lambda = 1e-8\n",
    "\"\"\""
   ]
  },
  {
   "cell_type": "code",
   "execution_count": 1,
   "id": "6e573548-4263-465b-a59d-889d84e5828b",
   "metadata": {},
   "outputs": [],
   "source": [
    "%load_ext autoreload\n",
    "%autoreload 2\n",
    "import numpy as np\n",
    "import matplotlib.pyplot as plt\n",
    "from implementations import *\n",
    "from Data_cleaning import *\n",
    "from helpers import *\n",
    "from exploratory_data_analysis import *\n",
    "from preprocessing import *"
   ]
  },
  {
   "cell_type": "code",
   "execution_count": 2,
   "id": "adfcc5cb-2547-473e-9262-593fbee3a4a5",
   "metadata": {},
   "outputs": [],
   "source": [
    "x_train, x_test, y_train, train_ids, test_ids = load_csv_data(\"data\\dataset\\dataset\")"
   ]
  },
  {
   "cell_type": "code",
   "execution_count": 28,
   "id": "9f19f029-3fe3-48df-85db-dc014737c360",
   "metadata": {},
   "outputs": [],
   "source": [
    "Y_tr = (y_train + 1) / 2"
   ]
  },
  {
   "cell_type": "code",
   "execution_count": 29,
   "id": "69d58fdf-796a-41dd-9857-a676370eecc8",
   "metadata": {},
   "outputs": [],
   "source": [
    "X_train, keep_mask = remove_nan_features(x_train, 0.2)\n",
    "X_test = x_test[:, keep_mask]"
   ]
  },
  {
   "cell_type": "code",
   "execution_count": 30,
   "id": "45214764-37e8-4a92-ab22-603a3e797839",
   "metadata": {},
   "outputs": [
    {
     "name": "stdout",
     "output_type": "stream",
     "text": [
      "(328135, 143) (109379, 143)\n"
     ]
    }
   ],
   "source": [
    "print(X_train.shape, X_test.shape)"
   ]
  },
  {
   "cell_type": "code",
   "execution_count": 31,
   "id": "f5d91fe6-36ff-455d-a56d-9128db2f1d38",
   "metadata": {},
   "outputs": [],
   "source": [
    "cat_mask, num_mask = detect_categorical_features(X_train, max_unique=10)"
   ]
  },
  {
   "cell_type": "code",
   "execution_count": 32,
   "id": "6b204aa2-3314-48bb-8bc4-31df9baf60f1",
   "metadata": {},
   "outputs": [
    {
     "name": "stdout",
     "output_type": "stream",
     "text": [
      "99 44\n"
     ]
    }
   ],
   "source": [
    "print(np.sum(cat_mask), np.sum(num_mask))"
   ]
  },
  {
   "cell_type": "code",
   "execution_count": 33,
   "id": "7abeb201-81b0-42c8-be04-d5e838728f9f",
   "metadata": {},
   "outputs": [],
   "source": [
    "x_tr, y_tr, x_va, y_va, x_te, y_te = stratified_three_way_split(X_train, Y_tr)"
   ]
  },
  {
   "cell_type": "code",
   "execution_count": 34,
   "id": "f52657ef-a06b-48b3-9604-553bdf3c2030",
   "metadata": {},
   "outputs": [
    {
     "name": "stdout",
     "output_type": "stream",
     "text": [
      "(328135, 143) (229695, 143) (229695,) (49220, 143) (49220,) (49220, 143) (49220,)\n"
     ]
    }
   ],
   "source": [
    "print(X_train.shape, x_tr.shape, y_tr.shape, x_va.shape, y_va.shape, x_te.shape, y_te.shape)"
   ]
  },
  {
   "cell_type": "code",
   "execution_count": 35,
   "id": "029090c6-776a-4d19-ba96-6706ce90ae9e",
   "metadata": {},
   "outputs": [],
   "source": [
    "# Numerical imputation (compute medians from training)\n",
    "x_tr_imp, medians = impute_numerical(x_tr, num_mask)\n",
    "# Apply same medians to val/test\n",
    "x_va_imp, _ = impute_numerical(x_va, num_mask, medians)\n",
    "x_te_imp, _ = impute_numerical(x_te, num_mask, medians)\n",
    "x_test_imp, _ = impute_numerical(X_test, num_mask, medians)\n",
    "# Categorical imputation (compute modes from training)\n",
    "x_tr_imp, modes = impute_categorical(x_tr_imp, cat_mask)\n",
    "# Apply same modes to val/test\n",
    "x_va_imp, _ = impute_categorical(x_va_imp, cat_mask, modes)\n",
    "x_te_imp, _ = impute_categorical(x_te_imp, cat_mask, modes)\n",
    "x_test_imp, _ = impute_categorical(x_test_imp, cat_mask, modes)"
   ]
  },
  {
   "cell_type": "code",
   "execution_count": 36,
   "id": "42074bd4-7a55-4e44-a3fd-1f2fd4185230",
   "metadata": {},
   "outputs": [
    {
     "name": "stdout",
     "output_type": "stream",
     "text": [
      "0 0 0 0\n"
     ]
    }
   ],
   "source": [
    "# Check for any remaining NaN values\n",
    "print(np.isnan(x_tr_imp).sum(),\n",
    "      np.isnan(x_va_imp).sum(),\n",
    "      np.isnan(x_te_imp).sum(), np.isnan(x_test_imp).sum())"
   ]
  },
  {
   "cell_type": "code",
   "execution_count": 37,
   "id": "133cdd61-778b-46cc-b931-d1b3939f9eb8",
   "metadata": {},
   "outputs": [
    {
     "data": {
      "image/png": "[encoded data removed]",
      "text/plain": [
       "<Figure size 600x400 with 1 Axes>"
      ]
     },
     "metadata": {},
     "output_type": "display_data"
    }
   ],
   "source": [
    "outlier_mask, outlier_counts = detect_outliers(x_tr_imp, num_mask, threshold=1.5, plot=True)"
   ]
  },
  {
   "cell_type": "code",
   "execution_count": 38,
   "id": "54fd788b-493b-4265-b49c-0d8048ff8cd3",
   "metadata": {},
   "outputs": [
    {
     "name": "stdout",
     "output_type": "stream",
     "text": [
      "[    0     0     0     0     0  7523  7523     0     0     0 16765 42722\n",
      "     0     0  3745 40468 19668 34545  4275     0     0 35062  4608 25522\n",
      " 23171     0     0   441   754  7544  9823 29058 31441  7525 43748 15806\n",
      " 12023 18456 21474  4498 12403  2772  2772 16957]\n"
     ]
    }
   ],
   "source": [
    "print(outlier_counts)"
   ]
  },
  {
   "cell_type": "code",
   "execution_count": 39,
   "id": "7eb6b92f-7d50-4ebf-bc42-2793eb059291",
   "metadata": {},
   "outputs": [
    {
     "name": "stdout",
     "output_type": "stream",
     "text": [
      "[0.         0.         0.         0.         0.         0.03275213\n",
      " 0.03275213 0.         0.         0.         0.07298809 0.18599447\n",
      " 0.         0.         0.01630423 0.17618146 0.08562659 0.15039509\n",
      " 0.01861164 0.         0.         0.1526459  0.02006139 0.11111256\n",
      " 0.10087725 0.         0.         0.00191994 0.00328261 0.03284355\n",
      " 0.04276541 0.12650689 0.13688152 0.03276084 0.19046126 0.06881299\n",
      " 0.05234332 0.08035003 0.09348919 0.01958249 0.05399769 0.01206818\n",
      " 0.01206818 0.07382398]\n"
     ]
    }
   ],
   "source": [
    "outlier_pctg = outlier_counts / x_tr_imp.shape[0]\n",
    "print(outlier_pctg)"
   ]
  },
  {
   "cell_type": "code",
   "execution_count": 40,
   "id": "dc8e32f6-7bc3-447d-91d5-05b49c3ce996",
   "metadata": {},
   "outputs": [],
   "source": [
    "drop_threshold = 0.1\n",
    "new_num_mask = outlier_pctg < drop_threshold\n"
   ]
  },
  {
   "cell_type": "code",
   "execution_count": 41,
   "id": "cc608c57-c975-4d73-a0e4-a4b6aa3b494b",
   "metadata": {},
   "outputs": [],
   "source": [
    "#Change the mask again\n",
    "keep_mask = np.ones(x_tr_imp.shape[1], dtype=bool)\n",
    "num_indices = np.where(num_mask)[0]\n",
    "keep_mask[num_indices] = new_num_mask"
   ]
  },
  {
   "cell_type": "code",
   "execution_count": 42,
   "id": "f9c3910a-3047-4db3-91e7-dbea6d0f92a7",
   "metadata": {},
   "outputs": [],
   "source": [
    "x_tr_filt = x_tr_imp[:, keep_mask]\n",
    "x_va_filt = x_va_imp[:, keep_mask]\n",
    "x_te_filt = x_te_imp[:, keep_mask]\n",
    "x_test_filt = x_test_imp[:, keep_mask]\n",
    "num_mask = num_mask[keep_mask]\n",
    "cat_mask = cat_mask[keep_mask]"
   ]
  },
  {
   "cell_type": "code",
   "execution_count": 43,
   "id": "040c2026-86ba-41a2-84aa-f695548a103d",
   "metadata": {},
   "outputs": [
    {
     "name": "stdout",
     "output_type": "stream",
     "text": [
      "35 99\n"
     ]
    }
   ],
   "source": [
    "print(np.sum(num_mask), np.sum(cat_mask))"
   ]
  },
  {
   "cell_type": "code",
   "execution_count": 44,
   "id": "23c0c8cb-0db2-4b3f-b4b4-8fd42f9294c6",
   "metadata": {},
   "outputs": [],
   "source": [
    "# Fit one-hot encoder on training data\n",
    "x_tr_enc, categories = one_hot_encode(x_tr_filt, cat_mask, drop_first=True)\n",
    "\n",
    "# Apply the same categories to validation and test data\n",
    "x_va_enc, _ = one_hot_encode(x_va_filt, cat_mask, categories, drop_first=True)\n",
    "x_te_enc, _ = one_hot_encode(x_te_filt, cat_mask, categories, drop_first=True)\n",
    "x_test_enc, _ = one_hot_encode(x_test_filt, cat_mask, categories, drop_first=True)"
   ]
  },
  {
   "cell_type": "code",
   "execution_count": 45,
   "id": "a3852be6-87f7-4b43-a1cf-ff30b1fdbedc",
   "metadata": {},
   "outputs": [
    {
     "name": "stdout",
     "output_type": "stream",
     "text": [
      "(229695, 359) (49220, 359) (49220, 359) (109379, 359)\n"
     ]
    }
   ],
   "source": [
    "print(x_tr_enc.shape, x_va_enc.shape, x_te_enc.shape, x_test_enc.shape) "
   ]
  },
  {
   "cell_type": "code",
   "execution_count": 46,
   "id": "54615648-38c5-4a51-b314-d83975edd699",
   "metadata": {},
   "outputs": [],
   "source": [
    "cat_mask_enc, num_mask_enc = detect_categorical_features(x_tr_enc, max_unique=10)"
   ]
  },
  {
   "cell_type": "code",
   "execution_count": 47,
   "id": "1ffed2d1-398e-4025-b900-50386c6fef1b",
   "metadata": {},
   "outputs": [
    {
     "name": "stdout",
     "output_type": "stream",
     "text": [
      "324 35\n"
     ]
    }
   ],
   "source": [
    "print(np.sum(cat_mask_enc), np.sum(num_mask_enc))"
   ]
  },
  {
   "cell_type": "code",
   "execution_count": 48,
   "id": "b38adefb-9f50-4ad6-9668-8dfddc0c77d8",
   "metadata": {},
   "outputs": [
    {
     "name": "stdout",
     "output_type": "stream",
     "text": [
      "1.0\n"
     ]
    }
   ],
   "source": [
    "print(np.max(x_tr_enc[:,cat_mask_enc]))"
   ]
  },
  {
   "cell_type": "code",
   "execution_count": 49,
   "id": "b701e560-cdf7-4900-aae7-793bab8dce45",
   "metadata": {},
   "outputs": [],
   "source": [
    "x_tr_std, means, stds = standardize_features(x_tr_enc, num_mask_enc)\n",
    "x_va_std, _, _ = standardize_features(x_va_enc, num_mask_enc, means, stds)\n",
    "x_te_std, _, _ = standardize_features(x_te_enc, num_mask_enc, means, stds)\n",
    "x_test_std, _, _ = standardize_features(x_test_enc, num_mask_enc, means, stds)"
   ]
  },
  {
   "cell_type": "code",
   "execution_count": 50,
   "id": "695d5275-7568-42b4-87fd-bd6f0ee40f29",
   "metadata": {},
   "outputs": [],
   "source": [
    "corr_y = feature_target_correlation_2(x_tr_std, y_tr)\n"
   ]
  },
  {
   "cell_type": "code",
   "execution_count": 51,
   "id": "30732613-97b9-4a24-8360-d7523d6cd3e3",
   "metadata": {},
   "outputs": [],
   "source": [
    "min_corr = 0.01\n",
    "keep_mask_corr = np.abs(corr_y) > min_corr\n"
   ]
  },
  {
   "cell_type": "code",
   "execution_count": 52,
   "id": "1d9e2887-d6db-4cdf-93e1-1f421a36468c",
   "metadata": {},
   "outputs": [],
   "source": [
    "x_tr_sel = x_tr_std[:, keep_mask_corr]\n",
    "x_va_sel = x_va_std[:, keep_mask_corr]\n",
    "x_te_sel = x_te_std[:, keep_mask_corr]\n",
    "x_test_sel = x_test_std[:, keep_mask_corr]"
   ]
  },
  {
   "cell_type": "code",
   "execution_count": 53,
   "id": "2e492e59-895f-4b82-bc3d-221e167ea661",
   "metadata": {},
   "outputs": [
    {
     "name": "stdout",
     "output_type": "stream",
     "text": [
      "(229695, 209) (49220, 209) (49220, 209) (109379, 209)\n"
     ]
    }
   ],
   "source": [
    "print(x_tr_sel.shape, x_va_sel.shape, x_te_sel.shape, x_test_sel.shape)"
   ]
  },
  {
   "cell_type": "code",
   "execution_count": 54,
   "id": "55440ddf-f081-47ec-a076-cac92bb73af8",
   "metadata": {},
   "outputs": [],
   "source": [
    "cat_mask_sel, num_mask_sel = detect_categorical_features(x_tr_sel, max_unique=10)"
   ]
  },
  {
   "cell_type": "code",
   "execution_count": 55,
   "id": "da8d70da-f68d-4c6f-89bb-4fd9bb531edc",
   "metadata": {},
   "outputs": [
    {
     "name": "stdout",
     "output_type": "stream",
     "text": [
      "183\n"
     ]
    }
   ],
   "source": [
    "print(np.sum(cat_mask_sel))"
   ]
  },
  {
   "cell_type": "code",
   "execution_count": 56,
   "id": "34acff10-3ec9-4b8d-a4d4-4b8105539ee0",
   "metadata": {},
   "outputs": [],
   "source": [
    "corr_mat = correlation_matrix(x_tr_sel)\n"
   ]
  },
  {
   "cell_type": "code",
   "execution_count": 57,
   "id": "690baf99-7e59-4378-941e-3f79bbe4ff62",
   "metadata": {},
   "outputs": [],
   "source": [
    "threshold = 0.9\n",
    "to_drop = set()\n",
    "\n",
    "for i in range(corr_mat.shape[0]):\n",
    "    for j in range(i + 1, corr_mat.shape[1]):\n",
    "        if abs(corr_mat[i, j]) > threshold:\n",
    "            # Compare absolute correlation with y\n",
    "            if abs(corr_y[i]) < abs(corr_y[j]):\n",
    "                to_drop.add(i)\n",
    "            else:\n",
    "                to_drop.add(j)\n",
    "\n",
    "keep_mask_inter = np.ones(x_tr_sel.shape[1], dtype=bool)\n",
    "keep_mask_inter[list(to_drop)] = False\n",
    "\n"
   ]
  },
  {
   "cell_type": "code",
   "execution_count": 58,
   "id": "dec9d748-5a6a-4a63-8ca1-7d65a0cb78d5",
   "metadata": {},
   "outputs": [],
   "source": [
    "x_tr_final = x_tr_sel[:, keep_mask_inter]\n",
    "x_va_final = x_va_sel[:, keep_mask_inter]\n",
    "x_te_final = x_te_sel[:, keep_mask_inter]\n",
    "x_test_final = x_test_sel[:, keep_mask_inter]"
   ]
  },
  {
   "cell_type": "code",
   "execution_count": 59,
   "id": "cdffe2a2-1e76-44e6-9966-1ad7f0d00a74",
   "metadata": {},
   "outputs": [
    {
     "name": "stdout",
     "output_type": "stream",
     "text": [
      "Dropped (low corr): 150\n",
      "Dropped (high inter): 37\n",
      "Remaining features: 172\n"
     ]
    }
   ],
   "source": [
    "print(\"Dropped (low corr):\", np.sum(~keep_mask_corr))\n",
    "print(\"Dropped (high inter):\", np.sum(~keep_mask_inter))\n",
    "print(\"Remaining features:\", x_tr_final.shape[1])\n"
   ]
  },
  {
   "cell_type": "code",
   "execution_count": 60,
   "id": "b7b366ee-628d-48ab-a899-49743e3d1b5c",
   "metadata": {},
   "outputs": [
    {
     "name": "stdout",
     "output_type": "stream",
     "text": [
      "\n",
      "=== Run 1/3 (pos_weight=9, lambda_=1e-08) ===\n",
      "New best F1 = 0.3839\n",
      "New best F1 = 0.3842\n",
      "New best F1 = 0.3853\n",
      "New best F1 = 0.3865\n",
      "New best F1 = 0.3873\n",
      "New best F1 = 0.3878\n",
      "New best F1 = 0.3882\n",
      "New best F1 = 0.3886\n",
      "New best F1 = 0.3891\n",
      "New best F1 = 0.3899\n",
      "New best F1 = 0.3903\n",
      "New best F1 = 0.3913\n",
      "New best F1 = 0.3916\n",
      "New best F1 = 0.3921\n",
      "New best F1 = 0.3923\n",
      "New best F1 = 0.3930\n",
      "New best F1 = 0.3933\n",
      "New best F1 = 0.3941\n",
      "New best F1 = 0.3943\n",
      "New best F1 = 0.3946\n",
      "New best F1 = 0.3947\n",
      "New best F1 = 0.3958\n",
      "New best F1 = 0.3959\n",
      "New best F1 = 0.3970\n",
      "New best F1 = 0.3972\n",
      "New best F1 = 0.3975\n",
      "New best F1 = 0.3978\n",
      "New best F1 = 0.3982\n",
      "New best F1 = 0.3989\n",
      "New best F1 = 0.3991\n",
      "New best F1 = 0.4002\n",
      "New best F1 = 0.4006\n",
      "New best F1 = 0.4010\n",
      "New best F1 = 0.4013\n",
      "New best F1 = 0.4015\n",
      "New best F1 = 0.4028\n",
      "New best F1 = 0.4034\n",
      "New best F1 = 0.4038\n",
      "New best F1 = 0.4038\n",
      "New best F1 = 0.4041\n",
      "New best F1 = 0.4045\n",
      "New best F1 = 0.4048\n",
      "New best F1 = 0.4051\n",
      "New best F1 = 0.4052\n",
      "New best F1 = 0.4055\n",
      "New best F1 = 0.4059\n",
      "New best F1 = 0.4062\n",
      "New best F1 = 0.4067\n",
      "New best F1 = 0.4078\n",
      "New best F1 = 0.4086\n",
      "New best F1 = 0.4088\n",
      "New best F1 = 0.4098\n",
      "New best F1 = 0.4100\n",
      "New best F1 = 0.4102\n",
      "New best F1 = 0.4107\n",
      "New best F1 = 0.4108\n",
      "New best F1 = 0.4120\n",
      "New best F1 = 0.4123\n",
      "New best F1 = 0.4124\n",
      "New best F1 = 0.4128\n",
      "New best F1 = 0.4133\n",
      "New best F1 = 0.4134\n",
      "New best F1 = 0.4136\n",
      "New best F1 = 0.4139\n",
      "New best F1 = 0.4141\n",
      "New best F1 = 0.4144\n",
      "New best F1 = 0.4147\n",
      "New best F1 = 0.4153\n",
      "New best F1 = 0.4157\n",
      "New best F1 = 0.4168\n",
      "New best F1 = 0.4170\n",
      "New best F1 = 0.4173\n",
      "New best F1 = 0.4175\n",
      "New best F1 = 0.4179\n",
      "New best F1 = 0.4179\n",
      "New best F1 = 0.4183\n",
      "New best F1 = 0.4193\n",
      "New best F1 = 0.4194\n",
      "New best F1 = 0.4196\n",
      "New best F1 = 0.4200\n",
      "New best F1 = 0.4202\n",
      "New best F1 = 0.4206\n",
      "New best F1 = 0.4207\n",
      "\n",
      "=== Run 2/3 (pos_weight=9.5, lambda_=1e-08) ===\n",
      "New best F1 = 0.4208\n",
      "\n",
      "=== Run 3/3 (pos_weight=10, lambda_=1e-08) ===\n",
      "New best F1 = 0.4208\n",
      "\n",
      "=== Grid Search Complete ===\n",
      "Best F1 = 0.4208 at pos_weight=10, λ=1e-08, threshold=0.7374371859296482\n"
     ]
    }
   ],
   "source": [
    "best_params, best_f1, results = grid_search(\n",
    "    y_tr, x_tr_final,\n",
    "    y_va, x_va_final,\n",
    "    pos_weights=[9, 9.5, 10],\n",
    "    lambdas=[1e-8],\n",
    "    thresholds=np.linspace(0.5, 0.85, 200),\n",
    "    max_iter=10000,\n",
    "    gamma=0.5\n",
    ")\n"
   ]
  },
  {
   "cell_type": "code",
   "execution_count": 61,
   "id": "708f058b-afb4-4686-9795-eba2efd85d04",
   "metadata": {},
   "outputs": [],
   "source": [
    "X_final = np.vstack([x_tr_final, x_va_final])\n",
    "y_final = np.concatenate([y_tr, y_va])\n"
   ]
  },
  {
   "cell_type": "code",
   "execution_count": 63,
   "id": "0adc122e-7a93-430f-9231-2fbd06f0e175",
   "metadata": {},
   "outputs": [
    {
     "name": "stdout",
     "output_type": "stream",
     "text": [
      "Iter     0 | Loss = 0.693147 | GradNorm = 0.4292\n",
      "Iter   100 | Loss = 0.478867 | GradNorm = 0.0120\n",
      "Iter   200 | Loss = 0.474631 | GradNorm = 0.0072\n",
      "Iter   300 | Loss = 0.472719 | GradNorm = 0.0054\n",
      "Iter   400 | Loss = 0.471545 | GradNorm = 0.0044\n",
      "Iter   500 | Loss = 0.470717 | GradNorm = 0.0038\n",
      "Iter   600 | Loss = 0.470088 | GradNorm = 0.0033\n",
      "Iter   700 | Loss = 0.469591 | GradNorm = 0.0030\n",
      "Iter   800 | Loss = 0.469188 | GradNorm = 0.0027\n",
      "Iter   900 | Loss = 0.468857 | GradNorm = 0.0025\n",
      "Iter  1000 | Loss = 0.468581 | GradNorm = 0.0022\n",
      "Iter  1100 | Loss = 0.468349 | GradNorm = 0.0021\n",
      "Iter  1200 | Loss = 0.468153 | GradNorm = 0.0019\n",
      "Iter  1300 | Loss = 0.467986 | GradNorm = 0.0018\n",
      "Iter  1400 | Loss = 0.467843 | GradNorm = 0.0016\n",
      "Iter  1500 | Loss = 0.467720 | GradNorm = 0.0015\n",
      "Iter  1600 | Loss = 0.467613 | GradNorm = 0.0014\n",
      "Iter  1700 | Loss = 0.467520 | GradNorm = 0.0013\n",
      "Iter  1800 | Loss = 0.467439 | GradNorm = 0.0012\n",
      "Iter  1900 | Loss = 0.467368 | GradNorm = 0.0012\n",
      "Iter  2000 | Loss = 0.467305 | GradNorm = 0.0011\n",
      "Iter  2100 | Loss = 0.467249 | GradNorm = 0.0010\n",
      "Iter  2200 | Loss = 0.467200 | GradNorm = 0.0010\n",
      "Iter  2300 | Loss = 0.467155 | GradNorm = 0.0009\n",
      "Iter  2400 | Loss = 0.467115 | GradNorm = 0.0009\n",
      "Iter  2500 | Loss = 0.467079 | GradNorm = 0.0008\n",
      "Iter  2600 | Loss = 0.467046 | GradNorm = 0.0008\n",
      "Iter  2700 | Loss = 0.467016 | GradNorm = 0.0008\n",
      "Iter  2800 | Loss = 0.466989 | GradNorm = 0.0007\n",
      "Iter  2900 | Loss = 0.466964 | GradNorm = 0.0007\n",
      "Iter  3000 | Loss = 0.466941 | GradNorm = 0.0007\n",
      "Iter  3100 | Loss = 0.466919 | GradNorm = 0.0006\n",
      "Iter  3200 | Loss = 0.466899 | GradNorm = 0.0006\n",
      "Iter  3300 | Loss = 0.466880 | GradNorm = 0.0006\n",
      "Iter  3400 | Loss = 0.466863 | GradNorm = 0.0006\n",
      "Iter  3500 | Loss = 0.466847 | GradNorm = 0.0006\n",
      "Iter  3600 | Loss = 0.466831 | GradNorm = 0.0005\n",
      "Iter  3700 | Loss = 0.466817 | GradNorm = 0.0005\n",
      "Iter  3800 | Loss = 0.466803 | GradNorm = 0.0005\n",
      "Iter  3900 | Loss = 0.466790 | GradNorm = 0.0005\n",
      "Iter  4000 | Loss = 0.466777 | GradNorm = 0.0005\n",
      "Iter  4100 | Loss = 0.466765 | GradNorm = 0.0005\n",
      "Iter  4200 | Loss = 0.466754 | GradNorm = 0.0005\n",
      "Iter  4300 | Loss = 0.466743 | GradNorm = 0.0005\n",
      "Iter  4400 | Loss = 0.466733 | GradNorm = 0.0004\n",
      "Iter  4500 | Loss = 0.466723 | GradNorm = 0.0004\n",
      "Iter  4600 | Loss = 0.466714 | GradNorm = 0.0004\n",
      "Iter  4700 | Loss = 0.466704 | GradNorm = 0.0004\n",
      "Iter  4800 | Loss = 0.466696 | GradNorm = 0.0004\n",
      "Iter  4900 | Loss = 0.466687 | GradNorm = 0.0004\n",
      "Iter  5000 | Loss = 0.466679 | GradNorm = 0.0004\n",
      "Iter  5100 | Loss = 0.466671 | GradNorm = 0.0004\n",
      "Iter  5200 | Loss = 0.466664 | GradNorm = 0.0004\n",
      "Iter  5300 | Loss = 0.466656 | GradNorm = 0.0004\n",
      "Iter  5400 | Loss = 0.466649 | GradNorm = 0.0004\n",
      "Iter  5500 | Loss = 0.466642 | GradNorm = 0.0004\n",
      "Iter  5600 | Loss = 0.466636 | GradNorm = 0.0004\n",
      "Iter  5700 | Loss = 0.466629 | GradNorm = 0.0004\n",
      "Iter  5800 | Loss = 0.466623 | GradNorm = 0.0003\n",
      "Iter  5900 | Loss = 0.466617 | GradNorm = 0.0003\n",
      "Iter  6000 | Loss = 0.466612 | GradNorm = 0.0003\n",
      "Iter  6100 | Loss = 0.466606 | GradNorm = 0.0003\n",
      "Iter  6200 | Loss = 0.466600 | GradNorm = 0.0003\n",
      "Iter  6300 | Loss = 0.466595 | GradNorm = 0.0003\n",
      "Iter  6400 | Loss = 0.466590 | GradNorm = 0.0003\n",
      "Iter  6500 | Loss = 0.466585 | GradNorm = 0.0003\n",
      "Iter  6600 | Loss = 0.466580 | GradNorm = 0.0003\n",
      "Iter  6700 | Loss = 0.466576 | GradNorm = 0.0003\n",
      "Iter  6800 | Loss = 0.466571 | GradNorm = 0.0003\n",
      "Iter  6900 | Loss = 0.466567 | GradNorm = 0.0003\n",
      "Iter  7000 | Loss = 0.466562 | GradNorm = 0.0003\n",
      "Iter  7100 | Loss = 0.466558 | GradNorm = 0.0003\n",
      "Iter  7200 | Loss = 0.466554 | GradNorm = 0.0003\n",
      "Iter  7300 | Loss = 0.466550 | GradNorm = 0.0003\n",
      "Iter  7400 | Loss = 0.466546 | GradNorm = 0.0003\n",
      "Iter  7500 | Loss = 0.466543 | GradNorm = 0.0003\n",
      "Iter  7600 | Loss = 0.466539 | GradNorm = 0.0003\n",
      "Iter  7700 | Loss = 0.466535 | GradNorm = 0.0003\n",
      "Iter  7800 | Loss = 0.466532 | GradNorm = 0.0003\n",
      "Iter  7900 | Loss = 0.466529 | GradNorm = 0.0003\n",
      "Iter  8000 | Loss = 0.466525 | GradNorm = 0.0003\n",
      "Iter  8100 | Loss = 0.466522 | GradNorm = 0.0002\n",
      "Iter  8200 | Loss = 0.466519 | GradNorm = 0.0002\n",
      "Iter  8300 | Loss = 0.466516 | GradNorm = 0.0002\n",
      "Iter  8400 | Loss = 0.466513 | GradNorm = 0.0002\n",
      "Iter  8500 | Loss = 0.466510 | GradNorm = 0.0002\n",
      "Iter  8600 | Loss = 0.466508 | GradNorm = 0.0002\n",
      "Iter  8700 | Loss = 0.466505 | GradNorm = 0.0002\n",
      "Iter  8800 | Loss = 0.466502 | GradNorm = 0.0002\n",
      "Iter  8900 | Loss = 0.466500 | GradNorm = 0.0002\n",
      "Iter  9000 | Loss = 0.466497 | GradNorm = 0.0002\n",
      "Iter  9100 | Loss = 0.466495 | GradNorm = 0.0002\n",
      "Iter  9200 | Loss = 0.466493 | GradNorm = 0.0002\n",
      "Iter  9300 | Loss = 0.466490 | GradNorm = 0.0002\n",
      "Iter  9400 | Loss = 0.466488 | GradNorm = 0.0002\n",
      "Iter  9500 | Loss = 0.466486 | GradNorm = 0.0002\n",
      "Iter  9600 | Loss = 0.466484 | GradNorm = 0.0002\n",
      "Iter  9700 | Loss = 0.466482 | GradNorm = 0.0002\n",
      "Iter  9800 | Loss = 0.466480 | GradNorm = 0.0002\n",
      "Iter  9900 | Loss = 0.466478 | GradNorm = 0.0002\n",
      "Final training loss: 0.4664759338231059\n"
     ]
    }
   ],
   "source": [
    "best_lambda = 1e-8\n",
    "best_pos_weight = 10.0\n",
    "best_neg_weight = 1.0\n",
    "best_threshold = 0.7374371859296482\n",
    "\n",
    "final_loss, w_final = logistic_regression_weighted_gd(\n",
    "    y_final, X_final,\n",
    "    lambda_=best_lambda,\n",
    "    gamma=0.5,\n",
    "    pos_weight=best_pos_weight,\n",
    "    neg_weight=best_neg_weight,\n",
    "    max_iter=10000,\n",
    "    verbose=True\n",
    ")\n",
    "\n",
    "print(\"Final training loss:\", final_loss)\n"
   ]
  },
  {
   "cell_type": "code",
   "execution_count": 64,
   "id": "165a7480-3c88-4677-b9d9-16b6ad97f362",
   "metadata": {},
   "outputs": [
    {
     "name": "stdout",
     "output_type": "stream",
     "text": [
      "19.26669311507094\n"
     ]
    }
   ],
   "source": [
    "print(w_final @ w_final)"
   ]
  },
  {
   "cell_type": "code",
   "execution_count": 66,
   "id": "8f3d675b-4919-4047-8171-11cc226e3ea2",
   "metadata": {},
   "outputs": [
    {
     "name": "stdout",
     "output_type": "stream",
     "text": [
      " Accuracy: 87.74%\n",
      " F1 Score: 0.4252\n"
     ]
    }
   ],
   "source": [
    "acc, f1 = evaluate_model(y_te, x_te_final, w_final, best_threshold)"
   ]
  },
  {
   "cell_type": "code",
   "execution_count": 67,
   "id": "993ab2db-fe31-421f-80b0-177f3bc1b0a6",
   "metadata": {},
   "outputs": [
    {
     "name": "stdout",
     "output_type": "stream",
     "text": [
      "Confusion Matrix:\n",
      "[[40954  3920]\n",
      " [ 2114  2232]]\n",
      "TN=40954, FP=3920, FN=2114, TP=2232\n"
     ]
    },
    {
     "data": {
      "image/png": "[encoded data removed]",
      "text/plain": [
       "<Figure size 400x300 with 1 Axes>"
      ]
     },
     "metadata": {},
     "output_type": "display_data"
    }
   ],
   "source": [
    "preds, _ = predict_with_threshold(x_te_final, w_final, threshold=best_threshold)\n",
    "cm = confusion_matrix_numpy(y_te, preds)"
   ]
  },
  {
   "cell_type": "code",
   "execution_count": 68,
   "id": "e1c0b086-adb4-4729-8ceb-e1292cb08410",
   "metadata": {},
   "outputs": [],
   "source": [
    "y_pred_final, _ = predict_with_threshold(x_test_final, w_final, best_threshold)\n",
    "y_pred_final = 2 * y_pred_final - 1   # converts 0→-1, 1→1\n",
    "\n",
    "create_csv_submission(test_ids, y_pred_final, \"ModelOHE2_preds.csv\")"
   ]
  },
  {
   "cell_type": "code",
   "execution_count": null,
   "id": "f303c970-65f7-45a4-aafa-3ba6fc7143f5",
   "metadata": {},
   "outputs": [],
   "source": []
  }
 ],
 "metadata": {
  "kernelspec": {
   "display_name": "Python 3 (ipykernel)",
   "language": "python",
   "name": "python3"
  },
  "language_info": {
   "codemirror_mode": {
    "name": "ipython",
    "version": 3
   },
   "file_extension": ".py",
   "mimetype": "text/x-python",
   "name": "python",
   "nbconvert_exporter": "python",
   "pygments_lexer": "ipython3",
   "version": "3.13.5"
  }
 },
 "nbformat": 4,
 "nbformat_minor": 5
}
