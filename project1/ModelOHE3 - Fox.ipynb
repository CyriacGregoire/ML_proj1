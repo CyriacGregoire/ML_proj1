{
 "cells": [
  {
   "cell_type": "code",
   "execution_count": 1,
   "id": "eaded5ba-d2e7-413f-95f0-fd2dda0cae84",
   "metadata": {},
   "outputs": [
    {
     "data": {
      "text/plain": [
       "'\\nChanges from OHE2:\\n-Here we do not drop features according to correlation with the target\\n-We also try here lambda = 1e-7\\n'"
      ]
     },
     "execution_count": 1,
     "metadata": {},
     "output_type": "execute_result"
    }
   ],
   "source": [
    "\"\"\"\n",
    "Changes from OHE2:\n",
    "-Here we do not drop features according to correlation with the target\n",
    "-We also try here lambda = 1e-7\n",
    "\"\"\""
   ]
  },
  {
   "cell_type": "code",
   "execution_count": 13,
   "id": "6e573548-4263-465b-a59d-889d84e5828b",
   "metadata": {},
   "outputs": [
    {
     "name": "stdout",
     "output_type": "stream",
     "text": [
      "The autoreload extension is already loaded. To reload it, use:\n",
      "  %reload_ext autoreload\n"
     ]
    }
   ],
   "source": [
    "%load_ext autoreload\n",
    "%autoreload 2\n",
    "import numpy as np\n",
    "import matplotlib.pyplot as plt\n",
    "from implementations import *\n",
    "from Data_cleaning import *\n",
    "from helpers import *\n",
    "from exploratory_data_analysis import *\n",
    "from preprocessing import *"
   ]
  },
  {
   "cell_type": "code",
   "execution_count": 3,
   "id": "adfcc5cb-2547-473e-9262-593fbee3a4a5",
   "metadata": {},
   "outputs": [
    {
     "name": "stderr",
     "output_type": "stream",
     "text": [
      "<>:1: SyntaxWarning: \"\\d\" is an invalid escape sequence. Such sequences will not work in the future. Did you mean \"\\\\d\"? A raw string is also an option.\n",
      "<>:1: SyntaxWarning: \"\\d\" is an invalid escape sequence. Such sequences will not work in the future. Did you mean \"\\\\d\"? A raw string is also an option.\n",
      "C:\\Users\\janfo\\AppData\\Local\\Temp\\ipykernel_1464\\4219252773.py:1: SyntaxWarning: \"\\d\" is an invalid escape sequence. Such sequences will not work in the future. Did you mean \"\\\\d\"? A raw string is also an option.\n",
      "  x_train, x_test, y_train, train_ids, test_ids = load_csv_data(\"data\\dataset\\dataset\")\n"
     ]
    }
   ],
   "source": [
    "x_train, x_test, y_train, train_ids, test_ids = load_csv_data(\"data\\dataset\\dataset\")"
   ]
  },
  {
   "cell_type": "markdown",
   "id": "66bb71dd",
   "metadata": {},
   "source": [
    "### Create the preprocessing function"
   ]
  },
  {
   "cell_type": "code",
   "execution_count": 4,
   "id": "bfbc4fbd",
   "metadata": {},
   "outputs": [],
   "source": [
    "def preprocess_data(X_train, Y_train, X_valid, Y_valid):\n",
    "    \"\"\"\n",
    "    Args:\n",
    "        X_train: training data balanced only (no NaN treatment or feature dropping)\n",
    "        X_valid: validation data balanced only (no NaN treatment or feature dropping)\n",
    "\n",
    "    Returns:\n",
    "        X_train_preprocessed: preprocessed training data\n",
    "        X_valid_preprocessed: preprocessed validation data\n",
    "    \"\"\"\n",
    "\n",
    "    # Tuning parameter section\n",
    "    NaN_removal_threshold = 0.2\n",
    "    outliers_threshold = 0.1\n",
    "    correlation_threshold = 0.9\n",
    "\n",
    "    # Detect categorical\n",
    "    X_train, keep_mask = remove_nan_features(X_train, threshold=NaN_removal_threshold)\n",
    "    X_valid = X_valid[:, keep_mask]\n",
    "    cat_mask, num_mask = detect_categorical_features(X_train, max_unique=10)\n",
    "\n",
    "    # Numerical NaN substitution (compute medians from training)\n",
    "    X_train, medians = impute_numerical(X_train, num_mask)\n",
    "    X_valid, _ = impute_numerical(X_train, num_mask, medians)\n",
    "\n",
    "\n",
    "    # Categorical NaN substitution (compute modes from training)\n",
    "    X_train, modes = impute_categorical(X_train, cat_mask)\n",
    "    X_valid, _ = impute_categorical(X_valid, cat_mask, modes)\n",
    "\n",
    "    # outliers \n",
    "    outlier_mask, outlier_counts = detect_outliers(X_train, num_mask, threshold=1.5, plot=False)\n",
    "    outlier_pctg = outlier_counts / X_train.shape[0]\n",
    "    no_outliers_num_mask = outlier_pctg < outliers_threshold\n",
    "\n",
    "    keep_mask = np.ones(X_train.shape[1], dtype=bool)\n",
    "    num_indices = np.where(num_mask)[0]\n",
    "    keep_mask[num_indices] = no_outliers_num_mask\n",
    "\n",
    "    X_train = X_train[:, keep_mask]\n",
    "    X_valid = X_valid[:, keep_mask]\n",
    "    num_mask = num_mask[keep_mask]\n",
    "    cat_mask = cat_mask[keep_mask]\n",
    "\n",
    "    # Fit one-hot encoder on training data\n",
    "    X_train, categories = one_hot_encode(X_train, cat_mask, drop_first=True)\n",
    "    X_valid, _ = one_hot_encode(X_valid, cat_mask, categories, drop_first=True)\n",
    "\n",
    "    cat_mask_enc, num_mask_enc = detect_categorical_features(X_train, max_unique=10)\n",
    "\n",
    "    # standarize\n",
    "    X_train, means, stds = standardize_features(X_train, num_mask_enc)\n",
    "    X_valid, _, _ = standardize_features(X_valid, num_mask_enc, means, stds)\n",
    "\n",
    "    # select correlation\n",
    "\n",
    "    corr_y = feature_target_correlation(X_train, Y_train)\n",
    "    \n",
    "    corr_mat = correlation_matrix(X_train)\n",
    "    to_drop = set()\n",
    "\n",
    "    for i in range(corr_mat.shape[0]):\n",
    "        for j in range(i + 1, corr_mat.shape[1]):\n",
    "            if abs(corr_mat[i, j]) > correlation_threshold:\n",
    "                # Compare absolute correlation with y\n",
    "                if abs(corr_y[i]) < abs(corr_y[j]):\n",
    "                    to_drop.add(i)\n",
    "                else:\n",
    "                    to_drop.add(j)\n",
    "\n",
    "    keep_mask_inter = np.ones(X_train.shape[1], dtype=bool)\n",
    "    keep_mask_inter[list(to_drop)] = False\n",
    "    X_train_final = X_train[:, keep_mask_inter]\n",
    "    X_valid_final = X_train[:, keep_mask_inter]\n",
    "\n",
    "    return X_train_final, Y_train, X_valid_final, Y_valid"
   ]
  },
  {
   "cell_type": "code",
   "execution_count": 11,
   "id": "92fd90c9",
   "metadata": {},
   "outputs": [
    {
     "name": "stdout",
     "output_type": "stream",
     "text": [
      "(328135, 321) (328135,)\n",
      "(229695, 321) (229695,) (49220, 321) (49220, 321) (49220, 321) (49220,)\n",
      "(229695, 282) (229695,) (229695, 282) (49220,)\n"
     ]
    }
   ],
   "source": [
    "print(x_train.shape, y_train.shape)\n",
    "\n",
    "y_norm = (y_train + 1) / 2\n",
    "\n",
    "X_train, Y_train, X_val, Y_val, X_test, Y_test= stratified_three_way_split(x_train, y_norm, val_ratio=0.15, test_ratio=0.15, seed=0)\n",
    "\n",
    "print(X_train.shape, Y_train.shape, X_val.shape, X_val.shape, X_test.shape, Y_test.shape)\n",
    "\n",
    "X_train, Y_train, X_val, Y_val = preprocess_data(X_train, Y_train, X_val, Y_val)\n",
    "\n",
    "print(X_train.shape, Y_train.shape, X_val.shape, Y_val.shape)"
   ]
  },
  {
   "cell_type": "code",
   "execution_count": 15,
   "id": "8a9325eb",
   "metadata": {},
   "outputs": [
    {
     "name": "stdout",
     "output_type": "stream",
     "text": [
      "\n",
      "=== Run 1/6 | Î»=1e-08 | pos_w=9.0 ===\n"
     ]
    },
    {
     "ename": "ValueError",
     "evalue": "operands could not be broadcast together with shapes (65627,) (262508,) ",
     "output_type": "error",
     "traceback": [
      "\u001b[31m---------------------------------------------------------------------------\u001b[39m",
      "\u001b[31mValueError\u001b[39m                                Traceback (most recent call last)",
      "\u001b[36mCell\u001b[39m\u001b[36m \u001b[39m\u001b[32mIn[15]\u001b[39m\u001b[32m, line 1\u001b[39m\n\u001b[32m----> \u001b[39m\u001b[32m1\u001b[39m best_params, best_f1, results = \u001b[43mcross_validation_grid_search\u001b[49m\u001b[43m(\u001b[49m\n\u001b[32m      2\u001b[39m \u001b[43m    \u001b[49m\u001b[43my_norm\u001b[49m\u001b[43m,\u001b[49m\u001b[43m \u001b[49m\u001b[43mx_train\u001b[49m\u001b[43m,\u001b[49m\n\u001b[32m      3\u001b[39m \u001b[43m    \u001b[49m\u001b[43mk\u001b[49m\u001b[43m=\u001b[49m\u001b[32;43m5\u001b[39;49m\u001b[43m,\u001b[49m\n\u001b[32m      4\u001b[39m \u001b[43m    \u001b[49m\u001b[43mlambdas\u001b[49m\u001b[43m=\u001b[49m\u001b[43m[\u001b[49m\u001b[32;43m1e-8\u001b[39;49m\u001b[43m,\u001b[49m\u001b[43m \u001b[49m\u001b[32;43m1e-7\u001b[39;49m\u001b[43m]\u001b[49m\u001b[43m,\u001b[49m\n\u001b[32m      5\u001b[39m \u001b[43m    \u001b[49m\u001b[43mpos_weights\u001b[49m\u001b[43m=\u001b[49m\u001b[43m[\u001b[49m\u001b[32;43m9.0\u001b[39;49m\u001b[43m,\u001b[49m\u001b[43m \u001b[49m\u001b[32;43m9.5\u001b[39;49m\u001b[43m,\u001b[49m\u001b[43m \u001b[49m\u001b[32;43m10\u001b[39;49m\u001b[43m]\u001b[49m\u001b[43m,\u001b[49m\n\u001b[32m      6\u001b[39m \u001b[43m    \u001b[49m\u001b[43mthresholds\u001b[49m\u001b[43m=\u001b[49m\u001b[43mnp\u001b[49m\u001b[43m.\u001b[49m\u001b[43mlinspace\u001b[49m\u001b[43m(\u001b[49m\u001b[32;43m0.5\u001b[39;49m\u001b[43m,\u001b[49m\u001b[43m \u001b[49m\u001b[32;43m0.84\u001b[39;49m\u001b[43m,\u001b[49m\u001b[43m \u001b[49m\u001b[32;43m340\u001b[39;49m\u001b[43m)\u001b[49m\u001b[43m,\u001b[49m\n\u001b[32m      7\u001b[39m \u001b[43m    \u001b[49m\u001b[43mgamma\u001b[49m\u001b[43m=\u001b[49m\u001b[32;43m0.5\u001b[39;49m\u001b[43m,\u001b[49m\n\u001b[32m      8\u001b[39m \u001b[43m    \u001b[49m\u001b[43mmax_iter\u001b[49m\u001b[43m=\u001b[49m\u001b[32;43m5000\u001b[39;49m\u001b[43m,\u001b[49m\n\u001b[32m      9\u001b[39m \u001b[43m    \u001b[49m\u001b[43mtol\u001b[49m\u001b[43m=\u001b[49m\u001b[32;43m1e-8\u001b[39;49m\u001b[43m,\u001b[49m\n\u001b[32m     10\u001b[39m \u001b[43m    \u001b[49m\u001b[43mseed\u001b[49m\u001b[43m=\u001b[49m\u001b[32;43m42\u001b[39;49m\u001b[43m,\u001b[49m\n\u001b[32m     11\u001b[39m \u001b[43m    \u001b[49m\u001b[43mverbose\u001b[49m\u001b[43m=\u001b[49m\u001b[38;5;28;43;01mFalse\u001b[39;49;00m\u001b[43m,\u001b[49m\n\u001b[32m     12\u001b[39m \u001b[43m    \u001b[49m\u001b[43mcleaning_function\u001b[49m\u001b[43m=\u001b[49m\u001b[43mpreprocess_data\u001b[49m\n\u001b[32m     13\u001b[39m \u001b[43m)\u001b[49m\n",
      "\u001b[36mFile \u001b[39m\u001b[32m<string>:60\u001b[39m, in \u001b[36mcross_validation_grid_search\u001b[39m\u001b[34m(y, X, k, lambdas, pos_weights, thresholds, gamma, max_iter, tol, seed, verbose, cleaning_function)\u001b[39m\n",
      "\u001b[36mFile \u001b[39m\u001b[32mc:\\Users\\janfo\\OneDrive\\Desktop\\universitat\\EPFL\\Machine Learning\\ML_proj1\\project1\\preprocessing.py:382\u001b[39m, in \u001b[36mf1_score\u001b[39m\u001b[34m(y_true, y_pred)\u001b[39m\n\u001b[32m    372\u001b[39m \u001b[38;5;28;01mdef\u001b[39;00m\u001b[38;5;250m \u001b[39m\u001b[34mgrid_search\u001b[39m(\n\u001b[32m    373\u001b[39m     y_train, X_train,\n\u001b[32m    374\u001b[39m     y_val, X_val,\n\u001b[32m   (...)\u001b[39m\u001b[32m    379\u001b[39m     gamma=\u001b[32m0.05\u001b[39m\n\u001b[32m    380\u001b[39m ):\n\u001b[32m    381\u001b[39m \u001b[38;5;250m    \u001b[39m\u001b[33;03m\"\"\"\u001b[39;00m\n\u001b[32m--> \u001b[39m\u001b[32m382\u001b[39m \u001b[33;03m    Grid search for weighted penalized logistic regression.\u001b[39;00m\n\u001b[32m    383\u001b[39m \u001b[33;03m    Returns: best_params, best_f1, results_list\u001b[39;00m\n\u001b[32m    384\u001b[39m \u001b[33;03m    \"\"\"\u001b[39;00m\n\u001b[32m    385\u001b[39m     best_f1 = -\u001b[32m1\u001b[39m\n\u001b[32m    386\u001b[39m     best_params = \u001b[38;5;28;01mNone\u001b[39;00m\n",
      "\u001b[31mValueError\u001b[39m: operands could not be broadcast together with shapes (65627,) (262508,) "
     ]
    }
   ],
   "source": [
    "best_params, best_f1, results = cross_validation_grid_search(\n",
    "    y_norm, x_train,\n",
    "    k=5,\n",
    "    lambdas=[1e-8, 1e-7],\n",
    "    pos_weights=[9.0, 9.5, 10],\n",
    "    thresholds=np.linspace(0.5, 0.84, 340),\n",
    "    gamma=0.5,\n",
    "    max_iter=5000,\n",
    "    tol=1e-8,\n",
    "    seed=42,\n",
    "    verbose=False,\n",
    "    cleaning_function=preprocess_data\n",
    ")"
   ]
  }
 ],
 "metadata": {
  "kernelspec": {
   "display_name": ".venv",
   "language": "python",
   "name": "python3"
  },
  "language_info": {
   "codemirror_mode": {
    "name": "ipython",
    "version": 3
   },
   "file_extension": ".py",
   "mimetype": "text/x-python",
   "name": "python",
   "nbconvert_exporter": "python",
   "pygments_lexer": "ipython3",
   "version": "3.14.0"
  }
 },
 "nbformat": 4,
 "nbformat_minor": 5
}
