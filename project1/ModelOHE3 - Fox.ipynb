{
 "cells": [
  {
   "cell_type": "code",
   "execution_count": 1,
   "id": "eaded5ba-d2e7-413f-95f0-fd2dda0cae84",
   "metadata": {},
   "outputs": [
    {
     "data": {
      "text/plain": [
       "'\\nChanges from OHE2:\\n-Here we do not drop features according to correlation with the target\\n-We also try here lambda = 1e-7\\n'"
      ]
     },
     "execution_count": 1,
     "metadata": {},
     "output_type": "execute_result"
    }
   ],
   "source": [
    "\"\"\"\n",
    "Changes from OHE2:\n",
    "-Here we do not drop features according to correlation with the target\n",
    "-We also try here lambda = 1e-7\n",
    "\"\"\""
   ]
  },
  {
   "cell_type": "code",
   "execution_count": 2,
   "id": "6e573548-4263-465b-a59d-889d84e5828b",
   "metadata": {},
   "outputs": [],
   "source": [
    "%load_ext autoreload\n",
    "%autoreload 2\n",
    "import numpy as np\n",
    "import matplotlib.pyplot as plt\n",
    "from implementations import *\n",
    "from Data_cleaning import *\n",
    "from helpers import *\n",
    "from exploratory_data_analysis import *\n",
    "from preprocessing import *"
   ]
  },
  {
   "cell_type": "code",
   "execution_count": 3,
   "id": "adfcc5cb-2547-473e-9262-593fbee3a4a5",
   "metadata": {},
   "outputs": [
    {
     "name": "stderr",
     "output_type": "stream",
     "text": [
      "<>:1: SyntaxWarning: \"\\d\" is an invalid escape sequence. Such sequences will not work in the future. Did you mean \"\\\\d\"? A raw string is also an option.\n",
      "<>:1: SyntaxWarning: \"\\d\" is an invalid escape sequence. Such sequences will not work in the future. Did you mean \"\\\\d\"? A raw string is also an option.\n",
      "C:\\Users\\janfo\\AppData\\Local\\Temp\\ipykernel_1464\\4219252773.py:1: SyntaxWarning: \"\\d\" is an invalid escape sequence. Such sequences will not work in the future. Did you mean \"\\\\d\"? A raw string is also an option.\n",
      "  x_train, x_test, y_train, train_ids, test_ids = load_csv_data(\"data\\dataset\\dataset\")\n"
     ]
    }
   ],
   "source": [
    "x_train, x_test, y_train, train_ids, test_ids = load_csv_data(\"data\\dataset\\dataset\")"
   ]
  },
  {
   "cell_type": "markdown",
   "id": "66bb71dd",
   "metadata": {},
   "source": [
    "### Create the preprocessing function"
   ]
  },
  {
   "cell_type": "code",
   "execution_count": null,
   "id": "bfbc4fbd",
   "metadata": {},
   "outputs": [],
   "source": [
    "def preprocess_data(X_train, X_valid):\n",
    "    \"\"\"\n",
    "    Args:\n",
    "        X_train: training data balanced only (no NaN treatment or feature dropping)\n",
    "        X_valid: validation data balanced only (no NaN treatment or feature dropping)\n",
    "\n",
    "    Returns:\n",
    "        X_train_preprocessed: preprocessed training data\n",
    "        X_valid_preprocessed: preprocessed validation data\n",
    "    \"\"\"\n",
    "\n",
    "    # Tuning parameter section\n",
    "    NaN_removal_threshold = 0.2\n",
    "\n",
    "    \n",
    "    X_train, keep_mask = remove_nan_features(X_train, threshold=NaN_removal_threshold)\n",
    "    X_valid = X_valid[:, keep_mask]\n",
    "\n"
   ]
  }
 ],
 "metadata": {
  "kernelspec": {
   "display_name": ".venv",
   "language": "python",
   "name": "python3"
  },
  "language_info": {
   "codemirror_mode": {
    "name": "ipython",
    "version": 3
   },
   "file_extension": ".py",
   "mimetype": "text/x-python",
   "name": "python",
   "nbconvert_exporter": "python",
   "pygments_lexer": "ipython3",
   "version": "3.14.0"
  }
 },
 "nbformat": 4,
 "nbformat_minor": 5
}
