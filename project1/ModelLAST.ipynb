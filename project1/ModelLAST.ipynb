{
 "cells": [
  {
   "cell_type": "code",
   "execution_count": 1,
   "id": "eaded5ba-d2e7-413f-95f0-fd2dda0cae84",
   "metadata": {},
   "outputs": [
    {
     "data": {
      "text/plain": [
       "'\\nChanges from OHE3:\\n-We impute categorical NaN as -1(missing value category)\\n-We remove features with more than a 40% NaN(instead of 20%)\\n'"
      ]
     },
     "execution_count": 1,
     "metadata": {},
     "output_type": "execute_result"
    }
   ],
   "source": [
    "\"\"\"\n",
    "Changes from OHE3MVNC:\n",
    "-We do not remove entire features for their outlier percentage.\n",
    "-Instead, as all outliers are fake codes(77, 88, 888, 999, ...) that stand for not answered, we turn tgem into nans. \n",
    "-Also, we remove numerical features with more than 5000 mean\n",
    "-Categorical variables are here the ones with less than 15 unique values. \n",
    "\"\"\""
   ]
  },
  {
   "cell_type": "code",
   "execution_count": 2,
   "id": "6e573548-4263-465b-a59d-889d84e5828b",
   "metadata": {},
   "outputs": [],
   "source": [
    "%load_ext autoreload\n",
    "%autoreload 2\n",
    "import numpy as np\n",
    "import matplotlib.pyplot as plt\n",
    "from implementations import *\n",
    "from Data_cleaning import *\n",
    "from helpers import *\n",
    "from exploratory_data_analysis import *\n",
    "from preprocessing import *"
   ]
  },
  {
   "cell_type": "code",
   "execution_count": 3,
   "id": "adfcc5cb-2547-473e-9262-593fbee3a4a5",
   "metadata": {},
   "outputs": [],
   "source": [
    "x_train, x_test, y_train, train_ids, test_ids = load_csv_data(\"data\\dataset\\dataset\")"
   ]
  },
  {
   "cell_type": "code",
   "execution_count": 4,
   "id": "9f19f029-3fe3-48df-85db-dc014737c360",
   "metadata": {},
   "outputs": [],
   "source": [
    "Y_tr = (y_train + 1) / 2"
   ]
  },
  {
   "cell_type": "code",
   "execution_count": 5,
   "id": "69d58fdf-796a-41dd-9857-a676370eecc8",
   "metadata": {},
   "outputs": [],
   "source": [
    "X_train, keep_mask = remove_nan_features(x_train, 0.4)\n",
    "X_test = x_test[:, keep_mask]"
   ]
  },
  {
   "cell_type": "code",
   "execution_count": 6,
   "id": "45214764-37e8-4a92-ab22-603a3e797839",
   "metadata": {},
   "outputs": [
    {
     "name": "stdout",
     "output_type": "stream",
     "text": [
      "(328135, 163) (109379, 163)\n"
     ]
    }
   ],
   "source": [
    "print(X_train.shape, X_test.shape)"
   ]
  },
  {
   "cell_type": "code",
   "execution_count": 7,
   "id": "f5d91fe6-36ff-455d-a56d-9128db2f1d38",
   "metadata": {},
   "outputs": [],
   "source": [
    "cat_mask, num_mask = detect_categorical_features(X_train, max_unique=15)"
   ]
  },
  {
   "cell_type": "code",
   "execution_count": 8,
   "id": "6b204aa2-3314-48bb-8bc4-31df9baf60f1",
   "metadata": {},
   "outputs": [
    {
     "name": "stdout",
     "output_type": "stream",
     "text": [
      "106 57\n"
     ]
    }
   ],
   "source": [
    "print(np.sum(cat_mask), np.sum(num_mask))"
   ]
  },
  {
   "cell_type": "code",
   "execution_count": 9,
   "id": "7fc6c797-c3ac-4cba-9a7f-50e9d549f045",
   "metadata": {},
   "outputs": [
    {
     "name": "stdout",
     "output_type": "stream",
     "text": [
      "52\n"
     ]
    }
   ],
   "source": [
    "means = np.nanmean(X_train, axis=0)\n",
    "\n",
    "# Create mask of numeric features with acceptable mean\n",
    "mean_ok_mask = (means <= 5000) & num_mask\n",
    "\n",
    "print(np.sum(mean_ok_mask))"
   ]
  },
  {
   "cell_type": "code",
   "execution_count": 10,
   "id": "e7fcda30-bb71-4427-bce8-497978ac00fc",
   "metadata": {},
   "outputs": [],
   "source": [
    "all_mask = mean_ok_mask | cat_mask\n",
    "x_train_ok = X_train[:, all_mask]\n",
    "x_test_ok = X_test[:, all_mask]"
   ]
  },
  {
   "cell_type": "code",
   "execution_count": 11,
   "id": "4d5bbb63-4308-4ebd-86d8-2553ddef3df4",
   "metadata": {},
   "outputs": [
    {
     "name": "stdout",
     "output_type": "stream",
     "text": [
      "(328135, 158) (109379, 158)\n"
     ]
    }
   ],
   "source": [
    "print(x_train_ok.shape, x_test_ok.shape)"
   ]
  },
  {
   "cell_type": "code",
   "execution_count": 12,
   "id": "7abeb201-81b0-42c8-be04-d5e838728f9f",
   "metadata": {},
   "outputs": [],
   "source": [
    "x_tr, y_tr, x_va, y_va, x_te, y_te = stratified_three_way_split(x_train_ok, Y_tr)"
   ]
  },
  {
   "cell_type": "code",
   "execution_count": 13,
   "id": "f52657ef-a06b-48b3-9604-553bdf3c2030",
   "metadata": {},
   "outputs": [
    {
     "name": "stdout",
     "output_type": "stream",
     "text": [
      "(328135, 158) (229695, 158) (229695,) (49220, 158) (49220,) (49220, 158) (49220,)\n"
     ]
    }
   ],
   "source": [
    "print(x_train_ok.shape, x_tr.shape, y_tr.shape, x_va.shape, y_va.shape, x_te.shape, y_te.shape)"
   ]
  },
  {
   "cell_type": "code",
   "execution_count": 14,
   "id": "3c63a5e9-26c2-4b6c-8230-ec20844c2851",
   "metadata": {},
   "outputs": [],
   "source": [
    "cat_mask_new, num_mask_new = detect_categorical_features(x_train_ok, max_unique=15)"
   ]
  },
  {
   "cell_type": "code",
   "execution_count": 15,
   "id": "4b477ff0-3c28-453f-a68c-b88405570c80",
   "metadata": {},
   "outputs": [],
   "source": [
    "def replace_fake_missing_codes(x_tr, x_va, x_te, x_test, num_mask):\n",
    "    \"\"\"\n",
    "    Replace common fake missing codes (77, 88, 99, 777, 888, 999, 9999, etc.)\n",
    "    with NaN in numeric columns.\n",
    "    Works on train/val/test/submission consistently.\n",
    "    \"\"\"\n",
    "    Xs = [x_tr, x_va, x_te, x_test]\n",
    "    new_Xs = []\n",
    "\n",
    "    # Define suspicious codes (BRFSS-like)\n",
    "    fake_codes = np.array([7, 8, 9, 77, 88, 99, 777, 888, 999, \n",
    "                           7777, 8888, 9999, 77777, 88888, 99999])\n",
    "\n",
    "    for X in Xs:\n",
    "        X = X.copy()\n",
    "        Xnum = X[:, num_mask]\n",
    "\n",
    "        # Broadcast comparison: mark fake codes as NaN\n",
    "        mask = np.isin(Xnum, fake_codes)\n",
    "        Xnum[mask] = np.nan\n",
    "\n",
    "        X[:, num_mask] = Xnum\n",
    "        new_Xs.append(X)\n",
    "\n",
    "    return tuple(new_Xs)\n"
   ]
  },
  {
   "cell_type": "code",
   "execution_count": 16,
   "id": "9f7ff415-aa67-43f4-ac8f-f0c663d54889",
   "metadata": {},
   "outputs": [],
   "source": [
    "x_tr_clean, x_va_clean, x_te_clean, x_test_clean = replace_fake_missing_codes(\n",
    "    x_tr, x_va, x_te, x_test_ok, num_mask_new\n",
    ")\n"
   ]
  },
  {
   "cell_type": "code",
   "execution_count": 17,
   "id": "78d35bbe-5953-4545-9b88-f530eac2dd6b",
   "metadata": {},
   "outputs": [
    {
     "name": "stdout",
     "output_type": "stream",
     "text": [
      "Fake-code values found (before): 546587\n",
      "Fake-code values remaining (after): 0\n"
     ]
    }
   ],
   "source": [
    "\n",
    "xnum_tr = x_tr[:, num_mask_new]\n",
    "mask_fake = np.isin(xnum_tr, [77, 88, 99, 9999])\n",
    "print(\"Fake-code values found (before):\", np.sum(mask_fake))\n",
    "\n",
    "xnum_tr_clean = x_tr_clean[:, num_mask_new]\n",
    "mask_fake_after = np.isin(xnum_tr_clean, [77, 88, 99, 9999])\n",
    "print(\"Fake-code values remaining (after):\", np.sum(mask_fake_after))\n"
   ]
  },
  {
   "cell_type": "code",
   "execution_count": 18,
   "id": "f2cbc887-ab79-482b-912a-85c97392d724",
   "metadata": {},
   "outputs": [],
   "source": [
    "def impute_categorical_missing_code(X, cat_mask, missing_code=-1.0):\n",
    "    \"\"\"\n",
    "    Replace NaNs in *categorical* columns with a special code (default -1),\n",
    "    leaving numeric columns unchanged.\n",
    "\n",
    "    Parameters\n",
    "    ----------\n",
    "    X : np.ndarray, shape (n_samples, n_features)\n",
    "        Full feature matrix (numeric + categorical).\n",
    "    cat_mask : np.ndarray of bool, shape (n_features,)\n",
    "        True for categorical columns, False for numeric ones.\n",
    "    missing_code : float, default=-1.0\n",
    "        Code used to represent 'Missing' category.\n",
    "\n",
    "    Returns\n",
    "    -------\n",
    "    X_imputed : np.ndarray, same shape as X\n",
    "        Copy of X where NaNs in categorical columns are replaced by `missing_code`.\n",
    "    \"\"\"\n",
    "    Xf = np.array(X, dtype=np.float64, copy=True)\n",
    "    cat_idx = np.where(cat_mask)[0]\n",
    "\n",
    "    for j in cat_idx:\n",
    "        col = Xf[:, j]\n",
    "        nan_mask = np.isnan(col)\n",
    "        if np.any(nan_mask):\n",
    "            col[nan_mask] = missing_code\n",
    "            Xf[:, j] = col\n",
    "\n",
    "    return Xf\n"
   ]
  },
  {
   "cell_type": "code",
   "execution_count": 19,
   "id": "029090c6-776a-4d19-ba96-6706ce90ae9e",
   "metadata": {},
   "outputs": [],
   "source": [
    "# Imputation\n",
    "x_tr_imp, medians = impute_numerical(x_tr_clean, num_mask_new)\n",
    "x_va_imp, _ = impute_numerical(x_va_clean, num_mask_new, medians)\n",
    "x_te_imp, _ = impute_numerical(x_te_clean, num_mask_new, medians)\n",
    "x_test_imp, _ = impute_numerical(x_test_clean, num_mask_new, medians)\n",
    "\n",
    "x_tr_imp = impute_categorical_missing_code(x_tr_imp, cat_mask_new)\n",
    "x_va_imp = impute_categorical_missing_code(x_va_imp, cat_mask_new)\n",
    "x_te_imp = impute_categorical_missing_code(x_te_imp, cat_mask_new)\n",
    "x_test_imp = impute_categorical_missing_code(x_test_imp, cat_mask_new)\n"
   ]
  },
  {
   "cell_type": "code",
   "execution_count": 20,
   "id": "42074bd4-7a55-4e44-a3fd-1f2fd4185230",
   "metadata": {},
   "outputs": [
    {
     "name": "stdout",
     "output_type": "stream",
     "text": [
      "0 0 0 0\n"
     ]
    }
   ],
   "source": [
    "# Check for any remaining NaN values\n",
    "print(np.isnan(x_tr_imp).sum(),\n",
    "      np.isnan(x_va_imp).sum(),\n",
    "      np.isnan(x_te_imp).sum(), np.isnan(x_test_imp).sum())"
   ]
  },
  {
   "cell_type": "code",
   "execution_count": 21,
   "id": "b701e560-cdf7-4900-aae7-793bab8dce45",
   "metadata": {},
   "outputs": [],
   "source": [
    "x_tr_std, means, stds = standardize_features(x_tr_imp, num_mask_new)\n",
    "x_va_std, _, _ = standardize_features(x_va_imp, num_mask_new, means, stds)\n",
    "x_te_std, _, _ = standardize_features(x_te_imp, num_mask_new, means, stds)\n",
    "x_test_std, _, _ = standardize_features(x_test_imp, num_mask_new, means, stds)\n"
   ]
  },
  {
   "cell_type": "code",
   "execution_count": 22,
   "id": "603c09d8-93ac-4db1-b692-fdacc082eddb",
   "metadata": {},
   "outputs": [
    {
     "name": "stdout",
     "output_type": "stream",
     "text": [
      "7.02063200058472e-17 1.0\n"
     ]
    }
   ],
   "source": [
    "print(np.mean(x_tr_std[:, num_mask_new]), np.std(x_tr_std[:, num_mask_new]))\n"
   ]
  },
  {
   "cell_type": "code",
   "execution_count": 23,
   "id": "23c0c8cb-0db2-4b3f-b4b4-8fd42f9294c6",
   "metadata": {},
   "outputs": [],
   "source": [
    "# Fit one-hot encoder on training data\n",
    "x_tr_enc, categories = one_hot_encode(x_tr_std, cat_mask_new, drop_first=True)\n",
    "\n",
    "# Apply the same categories to validation and test data\n",
    "x_va_enc, _ = one_hot_encode(x_va_std, cat_mask_new, categories, drop_first=True)\n",
    "x_te_enc, _ = one_hot_encode(x_te_std, cat_mask_new, categories, drop_first=True)\n",
    "x_test_enc, _ = one_hot_encode(x_test_std, cat_mask_new, categories, drop_first=True)"
   ]
  },
  {
   "cell_type": "code",
   "execution_count": 24,
   "id": "a3852be6-87f7-4b43-a1cf-ff30b1fdbedc",
   "metadata": {},
   "outputs": [
    {
     "name": "stdout",
     "output_type": "stream",
     "text": [
      "(229695, 464) (49220, 464) (49220, 464) (109379, 464)\n"
     ]
    }
   ],
   "source": [
    "print(x_tr_enc.shape, x_va_enc.shape, x_te_enc.shape, x_test_enc.shape) "
   ]
  },
  {
   "cell_type": "code",
   "execution_count": 25,
   "id": "54615648-38c5-4a51-b314-d83975edd699",
   "metadata": {},
   "outputs": [],
   "source": [
    "cat_mask_enc, num_mask_enc = detect_categorical_features(x_tr_enc, max_unique=15)"
   ]
  },
  {
   "cell_type": "code",
   "execution_count": 26,
   "id": "1ffed2d1-398e-4025-b900-50386c6fef1b",
   "metadata": {},
   "outputs": [
    {
     "name": "stdout",
     "output_type": "stream",
     "text": [
      "412 52\n"
     ]
    }
   ],
   "source": [
    "print(np.sum(cat_mask_enc), np.sum(num_mask_enc))"
   ]
  },
  {
   "cell_type": "code",
   "execution_count": 27,
   "id": "b38adefb-9f50-4ad6-9668-8dfddc0c77d8",
   "metadata": {},
   "outputs": [
    {
     "name": "stdout",
     "output_type": "stream",
     "text": [
      "1.0\n"
     ]
    }
   ],
   "source": [
    "print(np.max(x_tr_enc[:,cat_mask_enc]))"
   ]
  },
  {
   "cell_type": "code",
   "execution_count": 28,
   "id": "695d5275-7568-42b4-87fd-bd6f0ee40f29",
   "metadata": {},
   "outputs": [],
   "source": [
    "corr_y = feature_target_correlation(x_tr_enc, y_tr)\n",
    "corr_mat = correlation_matrix(x_tr_enc)"
   ]
  },
  {
   "cell_type": "code",
   "execution_count": 29,
   "id": "690baf99-7e59-4378-941e-3f79bbe4ff62",
   "metadata": {},
   "outputs": [],
   "source": [
    "threshold = 0.9\n",
    "to_drop = set()\n",
    "\n",
    "for i in range(corr_mat.shape[0]):\n",
    "    for j in range(i + 1, corr_mat.shape[1]):\n",
    "        if abs(corr_mat[i, j]) > threshold:\n",
    "            # Compare absolute correlation with y\n",
    "            if abs(corr_y[i]) < abs(corr_y[j]):\n",
    "                to_drop.add(i)\n",
    "            else:\n",
    "                to_drop.add(j)\n",
    "\n",
    "keep_mask_inter = np.ones(x_tr_enc.shape[1], dtype=bool)\n",
    "keep_mask_inter[list(to_drop)] = False\n",
    "\n"
   ]
  },
  {
   "cell_type": "code",
   "execution_count": 30,
   "id": "dec9d748-5a6a-4a63-8ca1-7d65a0cb78d5",
   "metadata": {},
   "outputs": [],
   "source": [
    "x_tr_final = x_tr_enc[:, keep_mask_inter]\n",
    "x_va_final = x_va_enc[:, keep_mask_inter]\n",
    "x_te_final = x_te_enc[:, keep_mask_inter]\n",
    "x_test_final = x_test_enc[:, keep_mask_inter]"
   ]
  },
  {
   "cell_type": "code",
   "execution_count": 31,
   "id": "cdffe2a2-1e76-44e6-9966-1ad7f0d00a74",
   "metadata": {},
   "outputs": [
    {
     "name": "stdout",
     "output_type": "stream",
     "text": [
      "Dropped (high inter): 91\n",
      "Remaining features: 373\n"
     ]
    }
   ],
   "source": [
    "print(\"Dropped (high inter):\", np.sum(~keep_mask_inter))\n",
    "print(\"Remaining features:\", x_tr_final.shape[1])\n"
   ]
  },
  {
   "cell_type": "code",
   "execution_count": 47,
   "id": "b7b366ee-628d-48ab-a899-49743e3d1b5c",
   "metadata": {},
   "outputs": [
    {
     "name": "stdout",
     "output_type": "stream",
     "text": [
      "\n",
      "=== Run 1/1 (pos_weight=8.5, lambda_=1e-08) ===\n",
      "New best F1 = 0.3301 (threshold = 0.50)\n",
      "New best F1 = 0.3302 (threshold = 0.50)\n",
      "New best F1 = 0.3303 (threshold = 0.50)\n",
      "New best F1 = 0.3306 (threshold = 0.50)\n",
      "New best F1 = 0.3307 (threshold = 0.50)\n",
      "New best F1 = 0.3310 (threshold = 0.51)\n",
      "New best F1 = 0.3314 (threshold = 0.51)\n",
      "New best F1 = 0.3318 (threshold = 0.51)\n",
      "New best F1 = 0.3322 (threshold = 0.51)\n",
      "New best F1 = 0.3327 (threshold = 0.51)\n",
      "New best F1 = 0.3330 (threshold = 0.51)\n",
      "New best F1 = 0.3333 (threshold = 0.51)\n",
      "New best F1 = 0.3336 (threshold = 0.51)\n",
      "New best F1 = 0.3341 (threshold = 0.51)\n",
      "New best F1 = 0.3343 (threshold = 0.51)\n",
      "New best F1 = 0.3347 (threshold = 0.52)\n",
      "New best F1 = 0.3351 (threshold = 0.52)\n",
      "New best F1 = 0.3354 (threshold = 0.52)\n",
      "New best F1 = 0.3355 (threshold = 0.52)\n",
      "New best F1 = 0.3358 (threshold = 0.52)\n",
      "New best F1 = 0.3361 (threshold = 0.52)\n",
      "New best F1 = 0.3363 (threshold = 0.52)\n",
      "New best F1 = 0.3366 (threshold = 0.52)\n",
      "New best F1 = 0.3370 (threshold = 0.52)\n",
      "New best F1 = 0.3373 (threshold = 0.52)\n",
      "New best F1 = 0.3375 (threshold = 0.53)\n",
      "New best F1 = 0.3380 (threshold = 0.53)\n",
      "New best F1 = 0.3380 (threshold = 0.53)\n",
      "New best F1 = 0.3385 (threshold = 0.53)\n",
      "New best F1 = 0.3387 (threshold = 0.53)\n",
      "New best F1 = 0.3390 (threshold = 0.53)\n",
      "New best F1 = 0.3393 (threshold = 0.53)\n",
      "New best F1 = 0.3398 (threshold = 0.53)\n",
      "New best F1 = 0.3399 (threshold = 0.53)\n",
      "New best F1 = 0.3404 (threshold = 0.53)\n",
      "New best F1 = 0.3407 (threshold = 0.54)\n",
      "New best F1 = 0.3409 (threshold = 0.54)\n",
      "New best F1 = 0.3412 (threshold = 0.54)\n",
      "New best F1 = 0.3415 (threshold = 0.54)\n",
      "New best F1 = 0.3417 (threshold = 0.54)\n",
      "New best F1 = 0.3421 (threshold = 0.54)\n",
      "New best F1 = 0.3425 (threshold = 0.54)\n",
      "New best F1 = 0.3427 (threshold = 0.54)\n",
      "New best F1 = 0.3431 (threshold = 0.54)\n",
      "New best F1 = 0.3435 (threshold = 0.54)\n",
      "New best F1 = 0.3437 (threshold = 0.55)\n",
      "New best F1 = 0.3440 (threshold = 0.55)\n",
      "New best F1 = 0.3441 (threshold = 0.55)\n",
      "New best F1 = 0.3443 (threshold = 0.55)\n",
      "New best F1 = 0.3445 (threshold = 0.55)\n",
      "New best F1 = 0.3449 (threshold = 0.55)\n",
      "New best F1 = 0.3450 (threshold = 0.55)\n",
      "New best F1 = 0.3455 (threshold = 0.55)\n",
      "New best F1 = 0.3458 (threshold = 0.55)\n",
      "New best F1 = 0.3463 (threshold = 0.55)\n",
      "New best F1 = 0.3465 (threshold = 0.56)\n",
      "New best F1 = 0.3466 (threshold = 0.56)\n",
      "New best F1 = 0.3471 (threshold = 0.56)\n",
      "New best F1 = 0.3472 (threshold = 0.56)\n",
      "New best F1 = 0.3474 (threshold = 0.56)\n",
      "New best F1 = 0.3477 (threshold = 0.56)\n",
      "New best F1 = 0.3480 (threshold = 0.56)\n",
      "New best F1 = 0.3482 (threshold = 0.56)\n",
      "New best F1 = 0.3487 (threshold = 0.56)\n",
      "New best F1 = 0.3489 (threshold = 0.56)\n",
      "New best F1 = 0.3492 (threshold = 0.57)\n",
      "New best F1 = 0.3495 (threshold = 0.57)\n",
      "New best F1 = 0.3499 (threshold = 0.57)\n",
      "New best F1 = 0.3501 (threshold = 0.57)\n",
      "New best F1 = 0.3503 (threshold = 0.57)\n",
      "New best F1 = 0.3507 (threshold = 0.57)\n",
      "New best F1 = 0.3509 (threshold = 0.57)\n",
      "New best F1 = 0.3511 (threshold = 0.57)\n",
      "New best F1 = 0.3517 (threshold = 0.57)\n",
      "New best F1 = 0.3522 (threshold = 0.57)\n",
      "New best F1 = 0.3525 (threshold = 0.58)\n",
      "New best F1 = 0.3529 (threshold = 0.58)\n",
      "New best F1 = 0.3531 (threshold = 0.58)\n",
      "New best F1 = 0.3532 (threshold = 0.58)\n",
      "New best F1 = 0.3535 (threshold = 0.58)\n",
      "New best F1 = 0.3539 (threshold = 0.58)\n",
      "New best F1 = 0.3539 (threshold = 0.58)\n",
      "New best F1 = 0.3543 (threshold = 0.58)\n",
      "New best F1 = 0.3547 (threshold = 0.58)\n",
      "New best F1 = 0.3550 (threshold = 0.58)\n",
      "New best F1 = 0.3553 (threshold = 0.59)\n",
      "New best F1 = 0.3555 (threshold = 0.59)\n",
      "New best F1 = 0.3558 (threshold = 0.59)\n",
      "New best F1 = 0.3560 (threshold = 0.59)\n",
      "New best F1 = 0.3564 (threshold = 0.59)\n",
      "New best F1 = 0.3568 (threshold = 0.59)\n",
      "New best F1 = 0.3571 (threshold = 0.59)\n",
      "New best F1 = 0.3578 (threshold = 0.59)\n",
      "New best F1 = 0.3581 (threshold = 0.59)\n",
      "New best F1 = 0.3586 (threshold = 0.60)\n",
      "New best F1 = 0.3588 (threshold = 0.60)\n",
      "New best F1 = 0.3593 (threshold = 0.60)\n",
      "New best F1 = 0.3599 (threshold = 0.60)\n",
      "New best F1 = 0.3603 (threshold = 0.60)\n",
      "New best F1 = 0.3608 (threshold = 0.60)\n",
      "New best F1 = 0.3608 (threshold = 0.60)\n",
      "New best F1 = 0.3610 (threshold = 0.60)\n",
      "New best F1 = 0.3613 (threshold = 0.60)\n",
      "New best F1 = 0.3618 (threshold = 0.60)\n",
      "New best F1 = 0.3623 (threshold = 0.61)\n",
      "New best F1 = 0.3626 (threshold = 0.61)\n",
      "New best F1 = 0.3631 (threshold = 0.61)\n",
      "New best F1 = 0.3636 (threshold = 0.61)\n",
      "New best F1 = 0.3640 (threshold = 0.61)\n",
      "New best F1 = 0.3641 (threshold = 0.61)\n",
      "New best F1 = 0.3646 (threshold = 0.61)\n",
      "New best F1 = 0.3651 (threshold = 0.61)\n",
      "New best F1 = 0.3656 (threshold = 0.61)\n",
      "New best F1 = 0.3659 (threshold = 0.61)\n",
      "New best F1 = 0.3661 (threshold = 0.62)\n",
      "New best F1 = 0.3666 (threshold = 0.62)\n",
      "New best F1 = 0.3672 (threshold = 0.62)\n",
      "New best F1 = 0.3677 (threshold = 0.62)\n",
      "New best F1 = 0.3680 (threshold = 0.62)\n",
      "New best F1 = 0.3682 (threshold = 0.62)\n",
      "New best F1 = 0.3683 (threshold = 0.62)\n",
      "New best F1 = 0.3684 (threshold = 0.62)\n",
      "New best F1 = 0.3690 (threshold = 0.62)\n",
      "New best F1 = 0.3694 (threshold = 0.62)\n",
      "New best F1 = 0.3698 (threshold = 0.63)\n",
      "New best F1 = 0.3703 (threshold = 0.63)\n",
      "New best F1 = 0.3707 (threshold = 0.63)\n",
      "New best F1 = 0.3709 (threshold = 0.63)\n",
      "New best F1 = 0.3711 (threshold = 0.63)\n",
      "New best F1 = 0.3713 (threshold = 0.63)\n",
      "New best F1 = 0.3718 (threshold = 0.63)\n",
      "New best F1 = 0.3720 (threshold = 0.63)\n",
      "New best F1 = 0.3726 (threshold = 0.63)\n",
      "New best F1 = 0.3732 (threshold = 0.63)\n",
      "New best F1 = 0.3736 (threshold = 0.64)\n",
      "New best F1 = 0.3740 (threshold = 0.64)\n",
      "New best F1 = 0.3745 (threshold = 0.64)\n",
      "New best F1 = 0.3746 (threshold = 0.64)\n",
      "New best F1 = 0.3747 (threshold = 0.64)\n",
      "New best F1 = 0.3748 (threshold = 0.64)\n",
      "New best F1 = 0.3749 (threshold = 0.64)\n",
      "New best F1 = 0.3750 (threshold = 0.64)\n",
      "New best F1 = 0.3753 (threshold = 0.65)\n",
      "New best F1 = 0.3755 (threshold = 0.65)\n",
      "New best F1 = 0.3758 (threshold = 0.65)\n",
      "New best F1 = 0.3763 (threshold = 0.65)\n",
      "New best F1 = 0.3767 (threshold = 0.65)\n",
      "New best F1 = 0.3773 (threshold = 0.65)\n",
      "New best F1 = 0.3776 (threshold = 0.65)\n",
      "New best F1 = 0.3778 (threshold = 0.65)\n",
      "New best F1 = 0.3780 (threshold = 0.65)\n",
      "New best F1 = 0.3783 (threshold = 0.65)\n",
      "New best F1 = 0.3786 (threshold = 0.66)\n",
      "New best F1 = 0.3791 (threshold = 0.66)\n",
      "New best F1 = 0.3795 (threshold = 0.66)\n",
      "New best F1 = 0.3797 (threshold = 0.66)\n",
      "New best F1 = 0.3803 (threshold = 0.66)\n",
      "New best F1 = 0.3806 (threshold = 0.66)\n",
      "New best F1 = 0.3807 (threshold = 0.66)\n",
      "New best F1 = 0.3810 (threshold = 0.66)\n",
      "New best F1 = 0.3812 (threshold = 0.66)\n",
      "New best F1 = 0.3816 (threshold = 0.67)\n",
      "New best F1 = 0.3821 (threshold = 0.67)\n",
      "New best F1 = 0.3825 (threshold = 0.67)\n",
      "New best F1 = 0.3826 (threshold = 0.67)\n",
      "New best F1 = 0.3831 (threshold = 0.67)\n",
      "New best F1 = 0.3834 (threshold = 0.67)\n",
      "New best F1 = 0.3838 (threshold = 0.67)\n",
      "New best F1 = 0.3839 (threshold = 0.67)\n",
      "New best F1 = 0.3845 (threshold = 0.67)\n",
      "New best F1 = 0.3849 (threshold = 0.68)\n",
      "New best F1 = 0.3849 (threshold = 0.68)\n",
      "New best F1 = 0.3852 (threshold = 0.68)\n",
      "New best F1 = 0.3853 (threshold = 0.68)\n",
      "New best F1 = 0.3856 (threshold = 0.68)\n",
      "New best F1 = 0.3862 (threshold = 0.68)\n",
      "New best F1 = 0.3866 (threshold = 0.68)\n",
      "New best F1 = 0.3872 (threshold = 0.68)\n",
      "New best F1 = 0.3874 (threshold = 0.69)\n",
      "New best F1 = 0.3880 (threshold = 0.69)\n",
      "New best F1 = 0.3880 (threshold = 0.69)\n",
      "New best F1 = 0.3882 (threshold = 0.69)\n",
      "New best F1 = 0.3884 (threshold = 0.69)\n",
      "New best F1 = 0.3890 (threshold = 0.69)\n",
      "New best F1 = 0.3891 (threshold = 0.69)\n",
      "New best F1 = 0.3894 (threshold = 0.69)\n",
      "New best F1 = 0.3897 (threshold = 0.69)\n",
      "New best F1 = 0.3899 (threshold = 0.70)\n",
      "New best F1 = 0.3902 (threshold = 0.70)\n",
      "New best F1 = 0.3905 (threshold = 0.70)\n",
      "New best F1 = 0.3909 (threshold = 0.70)\n",
      "New best F1 = 0.3913 (threshold = 0.70)\n",
      "New best F1 = 0.3917 (threshold = 0.70)\n",
      "New best F1 = 0.3921 (threshold = 0.71)\n",
      "New best F1 = 0.3923 (threshold = 0.71)\n",
      "New best F1 = 0.3925 (threshold = 0.71)\n",
      "New best F1 = 0.3928 (threshold = 0.71)\n",
      "New best F1 = 0.3930 (threshold = 0.71)\n",
      "New best F1 = 0.3930 (threshold = 0.71)\n",
      "New best F1 = 0.3936 (threshold = 0.71)\n",
      "New best F1 = 0.3940 (threshold = 0.71)\n",
      "New best F1 = 0.3941 (threshold = 0.71)\n",
      "New best F1 = 0.3947 (threshold = 0.72)\n",
      "New best F1 = 0.3952 (threshold = 0.72)\n",
      "New best F1 = 0.3956 (threshold = 0.72)\n",
      "New best F1 = 0.3956 (threshold = 0.72)\n",
      "New best F1 = 0.3961 (threshold = 0.72)\n",
      "New best F1 = 0.3965 (threshold = 0.72)\n",
      "New best F1 = 0.3967 (threshold = 0.72)\n",
      "New best F1 = 0.3968 (threshold = 0.73)\n",
      "New best F1 = 0.3971 (threshold = 0.73)\n",
      "New best F1 = 0.3979 (threshold = 0.73)\n",
      "New best F1 = 0.3981 (threshold = 0.73)\n",
      "New best F1 = 0.3981 (threshold = 0.73)\n",
      "New best F1 = 0.3983 (threshold = 0.73)\n",
      "New best F1 = 0.3987 (threshold = 0.73)\n",
      "New best F1 = 0.3987 (threshold = 0.73)\n",
      "New best F1 = 0.3988 (threshold = 0.74)\n",
      "New best F1 = 0.3991 (threshold = 0.74)\n",
      "New best F1 = 0.3992 (threshold = 0.74)\n",
      "New best F1 = 0.3997 (threshold = 0.74)\n",
      "New best F1 = 0.4004 (threshold = 0.74)\n",
      "New best F1 = 0.4005 (threshold = 0.74)\n",
      "New best F1 = 0.4006 (threshold = 0.74)\n",
      "New best F1 = 0.4008 (threshold = 0.74)\n",
      "New best F1 = 0.4010 (threshold = 0.74)\n",
      "New best F1 = 0.4016 (threshold = 0.75)\n",
      "New best F1 = 0.4021 (threshold = 0.75)\n",
      "New best F1 = 0.4022 (threshold = 0.75)\n",
      "New best F1 = 0.4025 (threshold = 0.75)\n",
      "New best F1 = 0.4027 (threshold = 0.75)\n",
      "New best F1 = 0.4028 (threshold = 0.75)\n",
      "New best F1 = 0.4034 (threshold = 0.76)\n",
      "New best F1 = 0.4035 (threshold = 0.76)\n",
      "New best F1 = 0.4040 (threshold = 0.76)\n",
      "New best F1 = 0.4044 (threshold = 0.76)\n",
      "New best F1 = 0.4048 (threshold = 0.76)\n",
      "New best F1 = 0.4050 (threshold = 0.76)\n",
      "New best F1 = 0.4052 (threshold = 0.76)\n",
      "New best F1 = 0.4055 (threshold = 0.76)\n",
      "New best F1 = 0.4062 (threshold = 0.76)\n",
      "New best F1 = 0.4063 (threshold = 0.77)\n",
      "New best F1 = 0.4066 (threshold = 0.77)\n",
      "New best F1 = 0.4067 (threshold = 0.77)\n",
      "New best F1 = 0.4071 (threshold = 0.77)\n",
      "New best F1 = 0.4075 (threshold = 0.77)\n",
      "New best F1 = 0.4079 (threshold = 0.77)\n",
      "New best F1 = 0.4082 (threshold = 0.77)\n",
      "New best F1 = 0.4089 (threshold = 0.78)\n",
      "New best F1 = 0.4089 (threshold = 0.78)\n",
      "New best F1 = 0.4090 (threshold = 0.78)\n",
      "New best F1 = 0.4094 (threshold = 0.78)\n",
      "New best F1 = 0.4095 (threshold = 0.78)\n",
      "New best F1 = 0.4097 (threshold = 0.78)\n",
      "New best F1 = 0.4100 (threshold = 0.79)\n",
      "New best F1 = 0.4103 (threshold = 0.79)\n",
      "New best F1 = 0.4103 (threshold = 0.79)\n",
      "New best F1 = 0.4109 (threshold = 0.79)\n",
      "New best F1 = 0.4110 (threshold = 0.79)\n",
      "New best F1 = 0.4113 (threshold = 0.79)\n",
      "New best F1 = 0.4114 (threshold = 0.79)\n",
      "New best F1 = 0.4116 (threshold = 0.79)\n",
      "New best F1 = 0.4118 (threshold = 0.79)\n",
      "New best F1 = 0.4119 (threshold = 0.80)\n",
      "New best F1 = 0.4121 (threshold = 0.80)\n",
      "New best F1 = 0.4122 (threshold = 0.80)\n",
      "New best F1 = 0.4127 (threshold = 0.80)\n",
      "New best F1 = 0.4129 (threshold = 0.80)\n",
      "New best F1 = 0.4131 (threshold = 0.80)\n",
      "New best F1 = 0.4135 (threshold = 0.80)\n",
      "New best F1 = 0.4140 (threshold = 0.81)\n",
      "New best F1 = 0.4141 (threshold = 0.82)\n",
      "New best F1 = 0.4149 (threshold = 0.82)\n",
      "New best F1 = 0.4153 (threshold = 0.82)\n",
      "New best F1 = 0.4155 (threshold = 0.83)\n",
      "New best F1 = 0.4158 (threshold = 0.83)\n",
      "New best F1 = 0.4165 (threshold = 0.83)\n",
      "New best F1 = 0.4175 (threshold = 0.83)\n",
      "New best F1 = 0.4183 (threshold = 0.83)\n",
      "New best F1 = 0.4187 (threshold = 0.83)\n",
      "New best F1 = 0.4195 (threshold = 0.83)\n",
      "New best F1 = 0.4199 (threshold = 0.84)\n",
      "New best F1 = 0.4201 (threshold = 0.84)\n",
      "New best F1 = 0.4205 (threshold = 0.84)\n",
      "New best F1 = 0.4205 (threshold = 0.84)\n",
      "New best F1 = 0.4207 (threshold = 0.84)\n",
      "New best F1 = 0.4208 (threshold = 0.84)\n",
      "New best F1 = 0.4209 (threshold = 0.84)\n",
      "\n",
      "=== Grid Search Complete ===\n",
      "Best F1 = 0.4209 at pos_weight=8.5, λ=1e-08, threshold=0.8448621553884712\n"
     ]
    }
   ],
   "source": [
    "best_params, best_f1, results = grid_search(\n",
    "    y_tr, x_tr_final,\n",
    "    y_va, x_va_final,\n",
    "    pos_weights=[8.5],\n",
    "    lambdas = [1e-8],\n",
    "    thresholds=np.linspace(0.5, 0.9, 400),\n",
    "    max_iter=1000,\n",
    "    gamma=0.5\n",
    ")\n"
   ]
  },
  {
   "cell_type": "code",
   "execution_count": 48,
   "id": "708f058b-afb4-4686-9795-eba2efd85d04",
   "metadata": {},
   "outputs": [],
   "source": [
    "X_final = np.vstack([x_tr_final, x_va_final])\n",
    "y_final = np.concatenate([y_tr, y_va])\n"
   ]
  },
  {
   "cell_type": "code",
   "execution_count": 49,
   "id": "0adc122e-7a93-430f-9231-2fbd06f0e175",
   "metadata": {},
   "outputs": [
    {
     "name": "stdout",
     "output_type": "stream",
     "text": [
      "Iter     0 | Loss = 0.693147 | GradNorm = 0.5281\n",
      "Iter   100 | Loss = 0.542156 | GradNorm = 0.7548\n",
      "Iter   200 | Loss = 0.525705 | GradNorm = 0.6908\n",
      "Iter   300 | Loss = 0.518916 | GradNorm = 0.6602\n",
      "Iter   400 | Loss = 0.515361 | GradNorm = 0.6427\n",
      "Iter   500 | Loss = 0.513296 | GradNorm = 0.6321\n",
      "Iter   600 | Loss = 0.512012 | GradNorm = 0.6254\n",
      "Iter   700 | Loss = 0.511170 | GradNorm = 0.6209\n",
      "Iter   800 | Loss = 0.510591 | GradNorm = 0.6179\n",
      "Iter   900 | Loss = 0.510175 | GradNorm = 0.6158\n",
      "Final training loss: 0.5087379740157357\n"
     ]
    }
   ],
   "source": [
    "best_lambda = 1e-8\n",
    "best_pos_weight = 8.5\n",
    "best_neg_weight = 1.0\n",
    "best_threshold = 0.8448621553884712\n",
    "\n",
    "final_loss, w_final = logistic_regression_weighted_gd(\n",
    "    y_final, X_final,\n",
    "    lambda_=best_lambda,\n",
    "    gamma=0.5,\n",
    "    pos_weight=best_pos_weight,\n",
    "    neg_weight=best_neg_weight,\n",
    "    max_iter=1000,\n",
    "    verbose=True\n",
    ")\n",
    "\n",
    "print(\"Final training loss:\", final_loss)\n"
   ]
  },
  {
   "cell_type": "code",
   "execution_count": 50,
   "id": "165a7480-3c88-4677-b9d9-16b6ad97f362",
   "metadata": {},
   "outputs": [
    {
     "name": "stdout",
     "output_type": "stream",
     "text": [
      "6.920044027386078\n"
     ]
    }
   ],
   "source": [
    "print(w_final @ w_final)"
   ]
  },
  {
   "cell_type": "code",
   "execution_count": 52,
   "id": "8f3d675b-4919-4047-8171-11cc226e3ea2",
   "metadata": {},
   "outputs": [
    {
     "name": "stdout",
     "output_type": "stream",
     "text": [
      " Accuracy: 87.11%\n",
      " F1 Score: 0.4269\n"
     ]
    }
   ],
   "source": [
    "acc, f1 = evaluate_model(y_te, x_te_final, w_final, 0.85)"
   ]
  },
  {
   "cell_type": "code",
   "execution_count": 53,
   "id": "993ab2db-fe31-421f-80b0-177f3bc1b0a6",
   "metadata": {},
   "outputs": [
    {
     "name": "stdout",
     "output_type": "stream",
     "text": [
      "Confusion Matrix:\n",
      "[[40329  4545]\n",
      " [ 1943  2403]]\n",
      "TN=40329, FP=4545, FN=1943, TP=2403\n"
     ]
    },
    {
     "data": {
      "image/png": "[encoded data removed]",
      "text/plain": [
       "<Figure size 400x300 with 1 Axes>"
      ]
     },
     "metadata": {},
     "output_type": "display_data"
    }
   ],
   "source": [
    "preds, _ = predict_with_threshold(x_te_final, w_final, threshold=best_threshold)\n",
    "cm = confusion_matrix_numpy(y_te, preds)"
   ]
  },
  {
   "cell_type": "code",
   "execution_count": 54,
   "id": "e1c0b086-adb4-4729-8ceb-e1292cb08410",
   "metadata": {},
   "outputs": [],
   "source": [
    "y_pred_final, _ = predict_with_threshold(x_test_final, w_final, 0.85)\n",
    "y_pred_final = 2 * y_pred_final - 1   # converts 0→-1, 1→1\n",
    "\n",
    "create_csv_submission(test_ids, y_pred_final, \"ModelLASTw8.5_preds.csv\")"
   ]
  },
  {
   "cell_type": "code",
   "execution_count": null,
   "id": "f303c970-65f7-45a4-aafa-3ba6fc7143f5",
   "metadata": {},
   "outputs": [],
   "source": []
  }
 ],
 "metadata": {
  "kernelspec": {
   "display_name": "Python 3 (ipykernel)",
   "language": "python",
   "name": "python3"
  },
  "language_info": {
   "codemirror_mode": {
    "name": "ipython",
    "version": 3
   },
   "file_extension": ".py",
   "mimetype": "text/x-python",
   "name": "python",
   "nbconvert_exporter": "python",
   "pygments_lexer": "ipython3",
   "version": "3.13.5"
  }
 },
 "nbformat": 4,
 "nbformat_minor": 5
}
