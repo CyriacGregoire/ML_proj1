{
 "cells": [
  {
   "cell_type": "code",
   "execution_count": 1,
   "id": "5fa786cb-5c54-4a53-ab00-4db1f5f37dee",
   "metadata": {},
   "outputs": [],
   "source": [
    "%load_ext autoreload\n",
    "%autoreload 2\n",
    "import numpy as np\n",
    "import matplotlib.pyplot as plt\n",
    "from implementations import *\n",
    "from Data_cleaning import *\n",
    "from helpers import *"
   ]
  },
  {
   "cell_type": "code",
   "execution_count": 2,
   "id": "ec0cb7e1-ebee-49fd-9ffa-06d33217aa28",
   "metadata": {},
   "outputs": [],
   "source": [
    "x_train, x_test, y_train, train_ids, test_ids = load_csv_data(\"data\\dataset\\dataset\")"
   ]
  },
  {
   "cell_type": "code",
   "execution_count": 3,
   "id": "f8b1c298-a97e-44c8-8130-e2c07ce43cba",
   "metadata": {},
   "outputs": [
    {
     "name": "stdout",
     "output_type": "stream",
     "text": [
      "(240000,) (60000,) [0. 0. 0. ... 0. 0. 0.] [0. 0. 0. ... 0. 0. 0.]\n"
     ]
    }
   ],
   "source": [
    "#Turn y into 0s and 1s\n",
    "y_tr_ = (y_train + 1) / 2\n",
    "y_tr = y_tr_[:240000]\n",
    "y_te = y_tr_[240000:300000]\n",
    "print(y_tr.shape, y_te.shape, y_tr, y_te)"
   ]
  },
  {
   "cell_type": "code",
   "execution_count": 7,
   "id": "216cd581-9a46-4243-98b3-4951df6412dc",
   "metadata": {},
   "outputs": [],
   "source": [
    "import numpy as np\n",
    "\n",
    "def nan_corr_each_feature(X, y):\n",
    "    \"\"\"\n",
    "    Compute absolute Pearson correlation between each column of X and y,\n",
    "    ignoring NaNs. Returns |r_j| for each feature.\n",
    "    \"\"\"\n",
    "    n_features = X.shape[1]\n",
    "    corrs = np.zeros(n_features)\n",
    "    \n",
    "    for j in range(n_features):\n",
    "        xj = X[:, j]\n",
    "        \n",
    "        # mask valid (non-NaN) pairs\n",
    "        mask = ~np.isnan(xj) & ~np.isnan(y)\n",
    "        if np.sum(mask) < 2:\n",
    "            corrs[j] = np.nan\n",
    "            continue\n",
    "        \n",
    "        x_valid = xj[mask]\n",
    "        y_valid = y[mask]\n",
    "        \n",
    "        # compute Pearson correlation\n",
    "        x_centered = x_valid - np.mean(x_valid)\n",
    "        y_centered = y_valid - np.mean(y_valid)\n",
    "        \n",
    "        num = np.sum(x_centered * y_centered)\n",
    "        den = np.sqrt(np.sum(x_centered**2) * np.sum(y_centered**2))\n",
    "        corrs[j] = abs(num / den) if den != 0 else np.nan  # <-- absolute value here\n",
    "\n",
    "    return corrs\n",
    "\n"
   ]
  },
  {
   "cell_type": "code",
   "execution_count": 8,
   "id": "a272b0b2-b5be-48a0-95ea-f55134b08156",
   "metadata": {},
   "outputs": [
    {
     "name": "stdout",
     "output_type": "stream",
     "text": [
      "(328135, 30)\n"
     ]
    }
   ],
   "source": [
    "x_tr = x_train[:240000]\n",
    "x_te = x_train[240000:]\n",
    "corrs = nan_corr_each_feature(x_tr, y_tr)\n",
    "\n",
    "# Ignore NaN correlations\n",
    "corrs_nonan = np.nan_to_num(corrs, nan=0.0)\n",
    "\n",
    "# Sort by absolute value (importance)\n",
    "top_k = 30\n",
    "top_idx = np.argsort(np.abs(corrs_nonan))[-top_k:][::-1]\n",
    "x_top = x_train[:, top_idx]\n",
    "print(x_top.shape)\n",
    "x_tr = x_top[:240000]\n",
    "x_te = x_top[240000:]\n"
   ]
  },
  {
   "cell_type": "code",
   "execution_count": null,
   "id": "26d6f6db-6c09-4a09-9907-5d07eeab8c8d",
   "metadata": {},
   "outputs": [],
   "source": [
    "#Data Cleaning\n",
    "x_tr_clean, "
   ]
  }
 ],
 "metadata": {
  "kernelspec": {
   "display_name": "Python 3 (ipykernel)",
   "language": "python",
   "name": "python3"
  },
  "language_info": {
   "codemirror_mode": {
    "name": "ipython",
    "version": 3
   },
   "file_extension": ".py",
   "mimetype": "text/x-python",
   "name": "python",
   "nbconvert_exporter": "python",
   "pygments_lexer": "ipython3",
   "version": "3.13.5"
  }
 },
 "nbformat": 4,
 "nbformat_minor": 5
}
